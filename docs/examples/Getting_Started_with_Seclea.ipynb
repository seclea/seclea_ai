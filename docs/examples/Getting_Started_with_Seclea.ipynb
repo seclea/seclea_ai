{
 "nbformat": 4,
 "nbformat_minor": 0,
 "metadata": {
  "colab": {
   "name": "Getting Started with Seclea!",
   "provenance": []
  },
  "kernelspec": {
   "name": "python3",
   "language": "python",
   "display_name": "Python 3 (ipykernel)"
  },
  "language_info": {
   "name": "python"
  }
 },
 "cells": [
  {
   "cell_type": "markdown",
   "source": [
    "<img src=\"https://github.com/seclea/seclea_ai/raw/dev/docs/media/logos/logo-light.png\" width=\"400\" alt=\"Seclea\" />"
   ],
   "metadata": {
    "collapsed": false
   }
  },
  {
   "cell_type": "markdown",
   "source": [
    "# Getting Started\n",
    "\n",
    "We will run through a sample project showing how to use Seclea's tools to record your data science work\n",
    "and explore the results in the Seclea Platform.\n"
   ],
   "metadata": {
    "collapsed": false
   }
  },
  {
   "cell_type": "markdown",
   "source": [
    "## Set up the Project\n",
    "\n",
    "Head to [platform.seclea.com](https://platform.seclea.com) and log in.\n",
    "\n",
    "Create a new project and give it a name and description.\n",
    "\n",
    "<img src=\"https://github.com/seclea/seclea_ai/media/notebooks/getting_started/create-new-project.png\" width=300/>\n",
    "<img src=\"https://github.com/seclea/seclea_ai/media/notebooks/getting_started/create-project-name-description.png\" width=300/>\n",
    "\n",
    "Go to project settings\n",
    "\n",
    "<img src=\"https://github.com/seclea/seclea_ai/media/notebooks/getting_started/project-settings.png\" width=300/>\n",
    "\n",
    "Select Compliance, Risk and Performance Templates for this project.\n",
    "These are optional but are needed to take advantage of Checks. If in doubt leave these empty for now and come back.\n",
    "\n",
    "TODO fill in images --- here ---"
   ],
   "metadata": {
    "collapsed": false
   }
  },
  {
   "cell_type": "markdown",
   "source": [
    "## Integrate with seclea-ai\n",
    "\n",
    "You can get the seclea-ai package from either pip or conda-forge - whichever you prefer!"
   ],
   "metadata": {
    "collapsed": false,
    "pycharm": {
     "name": "#%% md\n"
    }
   }
  },
  {
   "cell_type": "code",
   "execution_count": null,
   "outputs": [],
   "source": [
    "!pip install seclea_ai\n",
    "# !conda install seclea_ai"
   ],
   "metadata": {
    "collapsed": false,
    "pycharm": {
     "name": "#%%\n"
    }
   }
  },
  {
   "cell_type": "markdown",
   "source": [
    "When you initialise the SecleaAI object you will be prompted to login if you haven't already done so.\n",
    "Use the same Project Name you used earlier and the Organization name provided with your credentials.\n"
   ],
   "metadata": {
    "collapsed": false,
    "pycharm": {
     "name": "#%% md\n"
    }
   }
  },
  {
   "cell_type": "code",
   "execution_count": 2,
   "outputs": [
    {
     "name": "stdout",
     "output_type": "stream",
     "text": [
      "Cookies: {'refresh_token': 'eyJ0eXAiOiJKV1QiLCJhbGciOiJSUzI1NiJ9.eyJ0b2tlbl90eXBlIjoicmVmcmVzaCIsImV4cCI6MTY0OTc3Nzc0MSwianRpIjoiZjE3MjMyYjdjNzA4NGI3Y2IwZTFhZWY0NDU4MmQ2NGMiLCJ1c2VyX2lkIjoiYXNkZkBnbWFpbC5jb20iLCJfZGF0YSI6eyJ1c2VyIjp7ImZpcnN0X25hbWUiOiIiLCJsYXN0X25hbWUiOiIiLCJ1c2VybmFtZSI6Im9uZXNwYW5hZG1pbiIsImVtYWlsIjoiYXNkZkBnbWFpbC5jb20iLCJvcmdhbml6YXRpb25fcGVybWlzc2lvbnMiOnsiYWRtaW4iOlt7Im5hbWUiOiJPbmVzcGFuIiwiaXNfYWN0aXZlIjp0cnVlfV0sImRhdGFfc2NpZW50aXN0IjpbeyJuYW1lIjoiT25lc3BhbiIsImlzX2FjdGl2ZSI6dHJ1ZX1dLCJhbmFseXN0IjpbeyJuYW1lIjoiT25lc3BhbiIsImlzX2FjdGl2ZSI6dHJ1ZX1dfX19fQ.LX5kXKAwLG4mYhOLuScmtIqrtfkRuCe5Wj7vaP29Jp3ElNonuOB79HNbLdaCCdz8tmQ1V8MqZBC7FpauKWBvnt-w5Rl_aS9PERigS2lTGB6-5aHFnwesOkSNXJSJUnls9Yw62Ry5Q3lpGTywHxvVpmf3siJvSw0Fk1wD5V51F1fCY9uO_2NK4KBt9f-a5obscn_i9UeN6D7q6v7ied3LuZ2rpeFcOZdXCK4JoDODtYwgq234DIf-bh7nm2NvuygVjDAb8ldebD5KKjuZ35eN3XvgSUQIG6BlEybD6_TNHuSg329s9FRMuMhkQtAGIIGVJcBZLI7YwvpMOxtNVDLJT7-XdA4tj8AWixQtWsMVz6R5Eh9bjvxEij1K18oYEgcN44Ahpn4677eUtAAf3AJaNTEiIqYcChtPOQpd8f6SwBdlmzqwiaY1QtJemcxJW534OexqERFggjVx9vyPWORLomOCV4qd_7Qo3_KVvfsj5RaF01IwT1DYNYjdSnxa0lHGZF3gSnEDvSnXugphQnWpkHlkUCVU3U0FRwIrGclLg-YzAwdrVxE02JV7qqZnpV4wvsra9lUcMHXBAisjIye1I2JYbNRgx5wkJx4LkwZaLvhAbmNXhaJRofR6zWZNb80CRkFFwLJ_STldRr9Qx6bKe9NsxH7a11eKvWHJUm9GuOE', 'access_token': 'eyJ0eXAiOiJKV1QiLCJhbGciOiJSUzI1NiJ9.eyJ0b2tlbl90eXBlIjoiYWNjZXNzIiwiZXhwIjoxNjQ5NzgzMjk5LCJqdGkiOiI2YTI4ZTgyMWFiNTY0NmExYTEzMjRhYTcyZTkwMjIyMiIsInVzZXJfaWQiOiJhc2RmQGdtYWlsLmNvbSIsIl9kYXRhIjp7InVzZXIiOnsiZmlyc3RfbmFtZSI6IiIsImxhc3RfbmFtZSI6IiIsInVzZXJuYW1lIjoib25lc3BhbmFkbWluIiwiZW1haWwiOiJhc2RmQGdtYWlsLmNvbSIsIm9yZ2FuaXphdGlvbl9wZXJtaXNzaW9ucyI6eyJhZG1pbiI6W3sibmFtZSI6Ik9uZXNwYW4iLCJpc19hY3RpdmUiOnRydWV9XSwiZGF0YV9zY2llbnRpc3QiOlt7Im5hbWUiOiJPbmVzcGFuIiwiaXNfYWN0aXZlIjp0cnVlfV0sImFuYWx5c3QiOlt7Im5hbWUiOiJPbmVzcGFuIiwiaXNfYWN0aXZlIjp0cnVlfV19fX19.fPuF6P68b64J_OnmY0UDCPsKKDo74RH1qZSMABkmC9bUuw913cZ0W5qLt_bjcHycvDe5Y7IVdQ7MPSj6xZTwIRkgH3vPUMpFd6B6WSy6EeWgWIgv4NVyZ_S8jeZxG_mKrCU23d46xyVpwT5W9eIh9YgWYpTEYxGzodooMQ62j1sUT2MInWBFGMok1yIwaAWDr8QtG4cZRmuk5dCzTfVoYV4mFoXv0lY1DxyRCBgIRXIQHplNah0Y5IOEkPePzAs_izRo2XtYyc1O87KoQjCheGn4hfilJgWW9bXqxbjz3tMHblCgpOBwVBjak9facea6AFRm-S294ejJWB3dZHiGeOiLvbaVOwAvharRPYXBy-zFFLNxaKkv6erZkBipachaqIAqLQH04U3WGQGhLOC2nRL1BOkH0PFOyKHzO9_tDrYo3oIR7bFMG4zYC8usg3I5KB2fWWucBPNOwwfoyOvo-3sR1BX8zYsUKFCo0keUxYdqsn3-Rpf1YuLnSj59H0BZl4PEbDjpgsc98UAXqTCqhPb7bnXa8xmmmIGXZaXzqpsiDBR5gX6b9fZ2s5r5QcjYl1sEg3L0QIH_v8i1xdNgCgesZd8tNBohVDINSsaRSZRNVtwMmvTwRm7MhERUdjaakO6WbO21oSp0WFySJcH0ssSP-nx2HZP_uKbUfI76raY'}\n",
      "success\n"
     ]
    }
   ],
   "source": [
    "from seclea_ai import SecleaAI\n",
    "\n",
    "# NOTE - use the organization name provided to you when issued credentials.\n",
    "seclea = SecleaAI(project_name=\"Car Insurance Fraud Detection\", organization='Onespan', platform_url=\"http://localhost:8000\", auth_url=\"http://localhost:8010\")"
   ],
   "metadata": {
    "collapsed": false,
    "pycharm": {
     "name": "#%%\n"
    }
   }
  },
  {
   "cell_type": "markdown",
   "source": [
    "## Handle the Data\n",
    "\n",
    "Download the [data](https://raw.githubusercontent.com/mwitiderrick/insurancedata/master/insurance_claims.csv) for\n",
    "this tutorial - this is an Insurance Claims dataset with a variety of features and 1000 samples."
   ],
   "metadata": {
    "collapsed": false
   }
  },
  {
   "cell_type": "markdown",
   "source": [
    "Now we can upload the initial data to the Seclea Platform. \n",
    "\n",
    "This should include whatever information we know about the dataset at this point as metadata. \n",
    "There are only two keys to add in metadata for now - outcome_name and continuous_features.\n",
    "\n",
    "Outcome name can be omitted if you haven't established what you will be predicting yet, but you should\n",
    "know or be able to find out the continuous features at this point. It is possible to update these when uploading datasets \n",
    "during/after pre-processing. \n"
   ],
   "metadata": {
    "collapsed": false
   }
  },
  {
   "cell_type": "code",
   "execution_count": 3,
   "outputs": [],
   "source": [
    "import numpy as np\n",
    "import pandas as pd\n",
    "\n",
    "# load the data \n",
    "data = pd.read_csv('insurance_claims.csv', index_col=\"policy_number\")\n",
    "\n",
    "# upload the data in its initial state to the Seclea Platform\n",
    "\n",
    "\n",
    "dataset_metadata = {\"outcome_name\": \"fraud_reported\", \n",
    "                    \"continuous_features\": [\n",
    "                                            \"total_claim_amount\",\n",
    "                                            'policy_annual_premium',\n",
    "                                            'capital-gains',\n",
    "                                            'capital-loss',\n",
    "                                            'injury_claim',\n",
    "                                            'property_claim',\n",
    "                                            'vehicle_claim',\n",
    "                                            'incident_hour_of_the_day',\n",
    "                                            ]}\n",
    "\n",
    "####################################\n",
    "# UPLOAD\n",
    "####################################\n",
    "# upload the dataset - pick a meaningful name here, you'll be seeing it a lot on the platform!\n",
    "seclea.upload_dataset(dataset=data, dataset_name=\"Auto Insurance Fraud\", metadata=dataset_metadata)\n"
   ],
   "metadata": {
    "collapsed": false,
    "pycharm": {
     "name": "#%%\n"
    }
   }
  },
  {
   "cell_type": "markdown",
   "source": [
    "### Seclea Platform - Datasets\n",
    "\n",
    "Heading back to the platform we can take a look at our Dataset\n",
    "\n",
    "Navigate to the Datasets section - under Prepare tab. See the preview and use the format check/PII check.\n",
    "\n",
    "PII  and Format Check\n",
    "\n",
    "Bias Check\n",
    "\n",
    "Include screen shots."
   ],
   "metadata": {
    "collapsed": false
   }
  },
  {
   "cell_type": "markdown",
   "source": [
    "## Transformations\n",
    "\n",
    "There is one important requirement when using Seclea to record your Data Science work, that is how\n",
    "to deal with transformations of the data.\n",
    "\n",
    "We require that all transformations are encapsulated in a function, that takes the data and returns the\n",
    "transformed data. There are a few things to be aware of so please see the [docs](https://docs.seclea.com) for more."
   ],
   "metadata": {
    "collapsed": false
   }
  },
  {
   "cell_type": "code",
   "execution_count": 4,
   "outputs": [],
   "source": [
    "# Create a copy to isolate the original dataset\n",
    "df1 = data.copy(deep=True)\n",
    "\n",
    "def encode_nans(df):\n",
    "    # converting the special characters to nans\n",
    "    return df.replace('?', np.NaN)\n",
    "\n",
    "df2 = encode_nans(df1)"
   ],
   "metadata": {
    "collapsed": false,
    "pycharm": {
     "name": "#%%\n"
    }
   }
  },
  {
   "cell_type": "markdown",
   "source": [
    "## Data pre-processing\n",
    "\n",
    "We will carry out some pre-processing and generate a few different datasets so that we\n",
    "can see on the platform how to track these.This also means we can train our models on some\n",
    "different data and see how that affects performance."
   ],
   "metadata": {
    "collapsed": false
   }
  },
  {
   "cell_type": "code",
   "execution_count": 5,
   "outputs": [
    {
     "name": "stdout",
     "output_type": "stream",
     "text": [
      "Columns to drop with correlation > 0.9: ['age', 'vehicle_claim']\n"
     ]
    },
    {
     "name": "stderr",
     "output_type": "stream",
     "text": [
      "/var/folders/yg/2b7814tx3js7jgnyw_cdydn80000gn/T/ipykernel_21873/4208148544.py:16: DeprecationWarning: `np.bool` is a deprecated alias for the builtin `bool`. To silence this warning, use `bool` by itself. Doing this will not modify any behavior and is safe. If you specifically wanted the numpy scalar type, use `np.bool_` here.\n",
      "Deprecated in NumPy 1.20; for more details and guidance: https://numpy.org/devdocs/release/1.20.0-notes.html#deprecations\n",
      "  upper = corr_matrix.where(np.triu(np.ones(corr_matrix.shape), k=1).astype(np.bool))\n"
     ]
    }
   ],
   "source": [
    "## Drop the the column with certain proportion NaN value \n",
    "def drop_nulls(df, threshold):\n",
    "    cols = [x for x in df.columns if df[x].isnull().sum() / df.shape[0] > threshold]\n",
    "    return df.drop(columns=cols)\n",
    "\n",
    "# We choose 95% as our threshold\n",
    "null_thresh = 0.95\n",
    "df3 = drop_nulls(df2, threshold=null_thresh)\n",
    "\n",
    "def drop_correlated(data, thresh):\n",
    "    import numpy as np\n",
    "\n",
    "    # calculate correlations\n",
    "    corr_matrix = data.corr().abs()\n",
    "    # get the upper part of correlation matrix\n",
    "    upper = corr_matrix.where(np.triu(np.ones(corr_matrix.shape), k=1).astype(np.bool))\n",
    "\n",
    "    # columns with correlation above threshold\n",
    "    redundant = [column for column in upper.columns if any(upper[column] >= thresh)]\n",
    "    print(f\"Columns to drop with correlation > {thresh}: {redundant}\")\n",
    "    new_data = data.drop(columns=redundant)\n",
    "    return new_data\n",
    "\n",
    "correlation_threshold = 0.9\n",
    "\n",
    "df4 = drop_correlated(df3, correlation_threshold)"
   ],
   "metadata": {
    "collapsed": false,
    "pycharm": {
     "name": "#%%\n"
    }
   }
  },
  {
   "cell_type": "markdown",
   "source": [
    "## Upload Intermediate Dataset\n",
    "\n",
    "Before getting to balancing the datasets we will upload them to the Seclea Platform.\n",
    "\n",
    "- We define the metadata for the dataset - if there have been any changes since the original dataset we need to put that here, otherwise we can reuse the original metadata. In this case we have dropped some of the continuous feature columns so we will need to redefine\n",
    "\n",
    "- We define the transformations that took place between the last state we uploaded and this dataset. This is a list of functions and arguments. See docs.seclea.com for more details of the correct formatting.\n",
    "\n"
   ],
   "metadata": {
    "collapsed": false,
    "pycharm": {
     "name": "#%% md\n"
    }
   }
  },
  {
   "cell_type": "code",
   "execution_count": 6,
   "outputs": [
    {
     "name": "stderr",
     "output_type": "stream",
     "text": [
      "/var/folders/yg/2b7814tx3js7jgnyw_cdydn80000gn/T/ipykernel_21873/4208148544.py:16: DeprecationWarning: `np.bool` is a deprecated alias for the builtin `bool`. To silence this warning, use `bool` by itself. Doing this will not modify any behavior and is safe. If you specifically wanted the numpy scalar type, use `np.bool_` here.\n",
      "Deprecated in NumPy 1.20; for more details and guidance: https://numpy.org/devdocs/release/1.20.0-notes.html#deprecations\n",
      "  upper = corr_matrix.where(np.triu(np.ones(corr_matrix.shape), k=1).astype(np.bool))\n"
     ]
    },
    {
     "name": "stdout",
     "output_type": "stream",
     "text": [
      "Columns to drop with correlation > 0.9: ['age', 'vehicle_claim']\n"
     ]
    }
   ],
   "source": [
    "from seclea_ai.transformations import DatasetTransformation\n",
    "\n",
    "# define the metadata\n",
    "processed_metadata = {\n",
    "                  \"outcome_name\": \"fraud_reported\",\n",
    "                  \"continuous_features\": [\"total_claim_amount\",\n",
    "                                          'policy_annual_premium',\n",
    "                                          'capital-gains',\n",
    "                                          'capital-loss',\n",
    "                                          'injury_claim',\n",
    "                                          'property_claim',\n",
    "                                          'incident_hour_of_the_day',\n",
    "                                          ]}\n",
    "\n",
    "# Define the transformations - note the arguments.\n",
    "cleaning_transformations = [\n",
    "            DatasetTransformation(encode_nans, data_kwargs={\"df\": df1}, kwargs={}, outputs=[\"df\"]),\n",
    "            DatasetTransformation(\n",
    "                drop_nulls, data_kwargs={\"df\": \"inherit\"}, kwargs={\"threshold\": null_thresh}, outputs=[\"data\"]\n",
    "            ),\n",
    "            DatasetTransformation(\n",
    "                drop_correlated, data_kwargs={\"data\": \"inherit\"}, kwargs={\"thresh\": correlation_threshold}, outputs=[\"df\"]\n",
    "            ),\n",
    "        ]\n",
    "\n",
    "####################################\n",
    "# UPLOAD\n",
    "####################################\n",
    "# Upload the cleaned datasets.\n",
    "seclea.upload_dataset(dataset=df4,\n",
    "                      dataset_name=\"Auto Insurance Fraud - Cleaned\",\n",
    "                      metadata=processed_metadata,\n",
    "                      transformations=cleaning_transformations)\n"
   ],
   "metadata": {
    "collapsed": false,
    "pycharm": {
     "name": "#%%\n"
    }
   }
  },
  {
   "cell_type": "code",
   "execution_count": 20,
   "outputs": [
    {
     "name": "stdout",
     "output_type": "stream",
     "text": [
      "Shape of X before SMOTE: (800, 35)\n",
      "    Shape of X after SMOTE: (1204, 35)\n",
      "Shape of y before SMOTE: (800,)\n",
      "    Shape of y after SMOTE: (1204,)\n",
      "Shape of X before SMOTE: (800, 35)\n",
      "    Shape of X after SMOTE: (1204, 35)\n",
      "Shape of y before SMOTE: (800,)\n",
      "    Shape of y after SMOTE: (1204,)\n",
      "Shape of X before SMOTE: (800, 35)\n",
      "    Shape of X after SMOTE: (1204, 35)\n",
      "Shape of y before SMOTE: (800,)\n",
      "    Shape of y after SMOTE: (1204,)\n",
      "Shape of X before SMOTE: (800, 35)\n",
      "    Shape of X after SMOTE: (1204, 35)\n",
      "Shape of y before SMOTE: (800,)\n",
      "    Shape of y after SMOTE: (1204,)\n"
     ]
    }
   ],
   "source": [
    "def fill_nan_const(df, val):\n",
    "    \"\"\"Fill NaN values in the dataframe with a constant value\"\"\"\n",
    "    return df.replace(['None', np.nan], val)\n",
    "\n",
    "\n",
    "# Fill nans in 1st dataset with -1\n",
    "const_val = -1\n",
    "df_const = fill_nan_const(df4, const_val)\n",
    "\n",
    "def fill_nan_mode(df, columns):\n",
    "    \"\"\"\n",
    "    Fills nans in specified columns with the mode of that column\n",
    "    Note that we want to make sure to not modify the dataset we passed in but to\n",
    "    return a new copy.\n",
    "    We do that by making a copy and specifying deep=True.\n",
    "    \"\"\"\n",
    "    new_df = df.copy(deep=True)\n",
    "    for col in df.columns:\n",
    "        if col in columns:\n",
    "            new_df[col] = df[col].fillna(df[col].mode()[0])\n",
    "    return new_df\n",
    "\n",
    "\n",
    "nan_cols = ['collision_type','property_damage','police_report_available']\n",
    "df_mode = fill_nan_mode(df4, nan_cols)\n",
    "\n",
    "\n",
    "# find columns with categorical data for both dataset\n",
    "cat_cols = df_const.select_dtypes(include=['object']).columns.tolist()\n",
    "\n",
    "def encode_categorical(df, cat_cols): \n",
    "  from sklearn.preprocessing import LabelEncoder\n",
    "\n",
    "  new_df = df.copy(deep=True)\n",
    "  for col in cat_cols:\n",
    "    if col in df.columns:\n",
    "        le = LabelEncoder()\n",
    "        le.fit(list(df[col].astype(str).values))\n",
    "        new_df[col] = le.transform(list(df[col].astype(str).values))\n",
    "  return new_df\n",
    "\n",
    "df_const = encode_categorical(df_const, cat_cols)\n",
    "df_mode = encode_categorical(df_mode, cat_cols)\n",
    "\n",
    "\n",
    "\n",
    "\n",
    "# here we need to define the transformations we applied to our original dataset\n",
    "# to get it to this point.\n",
    "# see the documentation for more details of the formatting this needs.\n",
    "\n",
    "const_processed_transformations = [\n",
    "    DatasetTransformation(fill_nan_const, data_kwargs={\"df\": df4}, kwargs={\"val\": const_val}, outputs=[\"df\"]),\n",
    "    DatasetTransformation(encode_categorical, data_kwargs={\"df\": \"inherit\"}, kwargs={\"cat_cols\":cat_cols}, outputs=[\"df\"]),\n",
    "]\n",
    "\n",
    "####################################\n",
    "# UPLOAD\n",
    "####################################\n",
    "seclea.upload_dataset(dataset=df_const, \n",
    "                      dataset_name=\"Auto Insurance Fraud - Const Fill\", \n",
    "                      metadata=processed_metadata,\n",
    "                      transformations=const_processed_transformations)\n",
    "\n",
    "mode_processed_transformations = [\n",
    "    DatasetTransformation(fill_nan_mode, data_kwargs={\"df\": df4}, kwargs={\"columns\": nan_cols}, outputs=[\"df\"]),\n",
    "    DatasetTransformation(encode_categorical, data_kwargs={\"df\": \"inherit\"}, kwargs={\"cat_cols\": cat_cols}, outputs=[\"df\"]),\n",
    "]\n",
    "\n",
    "####################################\n",
    "# UPLOAD\n",
    "####################################\n",
    "seclea.upload_dataset(dataset=df_mode,\n",
    "                      dataset_name=\"Auto Insurance Fraud - Mode Fill\",\n",
    "                      metadata=processed_metadata,\n",
    "                      transformations=mode_processed_transformations)\n",
    "\n",
    "def get_samples_labels(df, output_col):\n",
    "    X = df.drop(output_col, axis=1)\n",
    "    y = df[output_col]\n",
    "\n",
    "    return X, y\n",
    "\n",
    "\n",
    "X_const, y_const = get_samples_labels(df_const, \"fraud_reported\")\n",
    "X_mode, y_mode = get_samples_labels(df_mode, \"fraud_reported\")\n",
    "\n",
    "def get_test_train_splits(X, y, test_size, random_state):\n",
    "    from sklearn.model_selection import train_test_split\n",
    "\n",
    "    return train_test_split(\n",
    "        X, y, test_size=test_size, stratify=y, random_state=random_state\n",
    "    )\n",
    "    # returns X_train, X_test, y_train, y_test\n",
    "\n",
    "\n",
    "X_train_const, X_test_const, y_train_const, y_test_const = get_test_train_splits(X_const, y_const, test_size=0.2, random_state=42)\n",
    "X_train_mode, X_test_mode, y_train_mode, y_test_mode = get_test_train_splits(X_mode, y_mode, test_size=0.2, random_state=42)\n",
    "\n",
    "\n",
    "const_train_transformations = [\n",
    "    DatasetTransformation(\n",
    "            get_test_train_splits,\n",
    "            data_kwargs={\"X\": X_const, \"y\": y_const},\n",
    "            kwargs={\"test_size\": 0.2, \"random_state\": 42},\n",
    "            outputs=[\"X_train_const\", None, \"y_train_const\", None],\n",
    "            split=\"train\",\n",
    "            ),\n",
    "]\n",
    "\n",
    "seclea.upload_dataset_split(\n",
    "                        X=X_train_const,\n",
    "                        y=y_train_const,\n",
    "                        dataset_name=\"Auto Insurance Fraud - Const Fill - Train\",\n",
    "                        metadata=processed_metadata,\n",
    "                        transformations=const_train_transformations\n",
    ")\n",
    "\n",
    "const_test_transformations = [\n",
    "    DatasetTransformation(\n",
    "            get_test_train_splits,\n",
    "            data_kwargs={\"X\": X_const, \"y\": y_const},\n",
    "            kwargs={\"test_size\": 0.2, \"random_state\": 42},\n",
    "            outputs=[None, \"X_test_const\", None, \"y_test_const\"],\n",
    "            split=\"test\"\n",
    "            ),\n",
    "]\n",
    "\n",
    "seclea.upload_dataset_split(X=X_test_const,\n",
    "                      y=y_test_const,\n",
    "                      dataset_name=\"Auto Insurance Fraud - Const Fill - Test\",\n",
    "                      metadata=processed_metadata,\n",
    "                      transformations=const_test_transformations)\n",
    "\n",
    "mode_train_transformations = [\n",
    "    DatasetTransformation(\n",
    "            get_test_train_splits,\n",
    "            data_kwargs={\"X\": X_mode, \"y\": y_mode},\n",
    "            kwargs={\"test_size\": 0.2, \"random_state\": 42},\n",
    "            outputs=[\"X_train_mode\", None, \"y_train_mode\", None],\n",
    "            split=\"train\",\n",
    "            ),\n",
    "]\n",
    "\n",
    "seclea.upload_dataset_split(X=X_train_mode,\n",
    "                      y=y_train_mode,\n",
    "                      dataset_name=\"Auto Insurance Fraud - Mode Fill - Train\",\n",
    "                      metadata=processed_metadata,\n",
    "                      transformations=mode_train_transformations)\n",
    "\n",
    "mode_test_transformations = [\n",
    "    DatasetTransformation(\n",
    "            get_test_train_splits,\n",
    "            data_kwargs={\"X\": X_mode, \"y\": y_mode},\n",
    "            kwargs={\"test_size\": 0.2, \"random_state\": 42},\n",
    "            outputs=[None, \"X_test_mode\", None, \"y_test_mode\"],\n",
    "            split=\"test\",\n",
    "            ),\n",
    "]\n",
    "\n",
    "seclea.upload_dataset_split(X=X_test_mode,\n",
    "                      y=y_test_mode,\n",
    "                      dataset_name=\"Auto Insurance Fraud - Mode Fill - Test\",\n",
    "                      metadata=processed_metadata,\n",
    "                      transformations=mode_test_transformations)\n",
    "\n",
    "\n",
    "\n",
    "def smote_balance(X, y, random_state):\n",
    "    from imblearn.over_sampling import SMOTE\n",
    "\n",
    "    sm = SMOTE(random_state=random_state)\n",
    "\n",
    "    X_sm, y_sm = sm.fit_resample(X, y)\n",
    "\n",
    "    print(\n",
    "        f\"\"\"Shape of X before SMOTE: {X.shape}\n",
    "    Shape of X after SMOTE: {X_sm.shape}\"\"\"\n",
    "    )\n",
    "    print(\n",
    "        f\"\"\"Shape of y before SMOTE: {y.shape}\n",
    "    Shape of y after SMOTE: {y_sm.shape}\"\"\"\n",
    "    )\n",
    "    return X_sm, y_sm\n",
    "    # returns X, y\n",
    "\n",
    "X_train_const_smote, y_train_const_smote = smote_balance(X_train_const, y_train_const, random_state=42)\n",
    "X_train_mode_smote, y_train_mode_smote = smote_balance(X_train_mode, y_train_mode, random_state=42)\n",
    "\n",
    "\n",
    "const_smote_transformations = [\n",
    "    DatasetTransformation(\n",
    "            smote_balance,\n",
    "            data_kwargs={\"X\": X_train_const, \"y\": y_train_const},\n",
    "            kwargs={\"random_state\": 42},\n",
    "            outputs=[\"X\", \"y\"]\n",
    "            ),\n",
    "]\n",
    "\n",
    "seclea.upload_dataset_split(X=X_train_const_smote,\n",
    "                      y=y_train_const_smote,\n",
    "                      dataset_name=\"Auto Insurance Fraud - Const Fill - Smote Train\",\n",
    "                      metadata=processed_metadata,\n",
    "                      transformations=const_smote_transformations)\n",
    "\n",
    "mode_smote_transformations = [\n",
    "    DatasetTransformation(\n",
    "            smote_balance,\n",
    "            data_kwargs={\"X\": X_train_mode, \"y\": y_train_mode},\n",
    "            kwargs={\"random_state\": 42},\n",
    "            outputs=[\"X\", \"y\"]\n",
    "            ),\n",
    "]\n",
    "\n",
    "seclea.upload_dataset_split(X=X_train_mode_smote,\n",
    "                      y=y_train_mode_smote,\n",
    "                      dataset_name=\"Auto Insurance Fraud - Mode Fill - Smote Train\",\n",
    "                      metadata=processed_metadata,\n",
    "                      transformations=mode_smote_transformations)"
   ],
   "metadata": {
    "collapsed": false,
    "pycharm": {
     "name": "#%%\n"
    }
   }
  },
  {
   "cell_type": "markdown",
   "source": [
    "Now head to platform.seclea.com again to take another look at the Datasets section. You will see that there is a lot more to look at this time.\n",
    "\n",
    "You can see here how the transformations are used to show you the history of the data and how it arrived in its final state."
   ],
   "metadata": {
    "collapsed": false
   }
  },
  {
   "cell_type": "markdown",
   "source": [
    "# 5.Modeling with Balancing Techniques"
   ],
   "metadata": {
    "collapsed": false
   }
  },
  {
   "cell_type": "markdown",
   "source": [
    "Now we get started with the modelling. We will run the same models over each of our datasets to explore how the different processing of the data has affected our results.\n",
    "\n",
    "We will use three models from sklearn for this, DecisionTree, RandomForest and GradientBoosting Classifers. \n"
   ],
   "metadata": {
    "collapsed": false
   }
  },
  {
   "cell_type": "markdown",
   "source": [
    "## Training"
   ],
   "metadata": {
    "collapsed": false
   }
  },
  {
   "cell_type": "code",
   "execution_count": 21,
   "outputs": [
    {
     "name": "stdout",
     "output_type": "stream",
     "text": [
      "Cookies: {'refresh_token': 'eyJ0eXAiOiJKV1QiLCJhbGciOiJSUzI1NiJ9.eyJ0b2tlbl90eXBlIjoicmVmcmVzaCIsImV4cCI6MTY0OTc3Nzc0MSwianRpIjoiZjE3MjMyYjdjNzA4NGI3Y2IwZTFhZWY0NDU4MmQ2NGMiLCJ1c2VyX2lkIjoiYXNkZkBnbWFpbC5jb20iLCJfZGF0YSI6eyJ1c2VyIjp7ImZpcnN0X25hbWUiOiIiLCJsYXN0X25hbWUiOiIiLCJ1c2VybmFtZSI6Im9uZXNwYW5hZG1pbiIsImVtYWlsIjoiYXNkZkBnbWFpbC5jb20iLCJvcmdhbml6YXRpb25fcGVybWlzc2lvbnMiOnsiYWRtaW4iOlt7Im5hbWUiOiJPbmVzcGFuIiwiaXNfYWN0aXZlIjp0cnVlfV0sImRhdGFfc2NpZW50aXN0IjpbeyJuYW1lIjoiT25lc3BhbiIsImlzX2FjdGl2ZSI6dHJ1ZX1dLCJhbmFseXN0IjpbeyJuYW1lIjoiT25lc3BhbiIsImlzX2FjdGl2ZSI6dHJ1ZX1dfX19fQ.LX5kXKAwLG4mYhOLuScmtIqrtfkRuCe5Wj7vaP29Jp3ElNonuOB79HNbLdaCCdz8tmQ1V8MqZBC7FpauKWBvnt-w5Rl_aS9PERigS2lTGB6-5aHFnwesOkSNXJSJUnls9Yw62Ry5Q3lpGTywHxvVpmf3siJvSw0Fk1wD5V51F1fCY9uO_2NK4KBt9f-a5obscn_i9UeN6D7q6v7ied3LuZ2rpeFcOZdXCK4JoDODtYwgq234DIf-bh7nm2NvuygVjDAb8ldebD5KKjuZ35eN3XvgSUQIG6BlEybD6_TNHuSg329s9FRMuMhkQtAGIIGVJcBZLI7YwvpMOxtNVDLJT7-XdA4tj8AWixQtWsMVz6R5Eh9bjvxEij1K18oYEgcN44Ahpn4677eUtAAf3AJaNTEiIqYcChtPOQpd8f6SwBdlmzqwiaY1QtJemcxJW534OexqERFggjVx9vyPWORLomOCV4qd_7Qo3_KVvfsj5RaF01IwT1DYNYjdSnxa0lHGZF3gSnEDvSnXugphQnWpkHlkUCVU3U0FRwIrGclLg-YzAwdrVxE02JV7qqZnpV4wvsra9lUcMHXBAisjIye1I2JYbNRgx5wkJx4LkwZaLvhAbmNXhaJRofR6zWZNb80CRkFFwLJ_STldRr9Qx6bKe9NsxH7a11eKvWHJUm9GuOE', 'access_token': 'eyJ0eXAiOiJKV1QiLCJhbGciOiJSUzI1NiJ9.eyJ0b2tlbl90eXBlIjoiYWNjZXNzIiwiZXhwIjoxNjQ5NzEwMjE1LCJqdGkiOiI1NGMxNzBkYjIzZGM0ODUxOWMyYWFlMDk3MmVmN2VhNSIsInVzZXJfaWQiOiJhc2RmQGdtYWlsLmNvbSIsIl9kYXRhIjp7InVzZXIiOnsiZmlyc3RfbmFtZSI6IiIsImxhc3RfbmFtZSI6IiIsInVzZXJuYW1lIjoib25lc3BhbmFkbWluIiwiZW1haWwiOiJhc2RmQGdtYWlsLmNvbSIsIm9yZ2FuaXphdGlvbl9wZXJtaXNzaW9ucyI6eyJhZG1pbiI6W3sibmFtZSI6Ik9uZXNwYW4iLCJpc19hY3RpdmUiOnRydWV9XSwiZGF0YV9zY2llbnRpc3QiOlt7Im5hbWUiOiJPbmVzcGFuIiwiaXNfYWN0aXZlIjp0cnVlfV0sImFuYWx5c3QiOlt7Im5hbWUiOiJPbmVzcGFuIiwiaXNfYWN0aXZlIjp0cnVlfV19fX19.NX4-Li-kon1sEgpOuupZEDxj7s-GFt09NoFOY4vXrIFGBRVAPyzYx693U-f4WZuCYjz3wmK0WWRYnduS6dfeia4NKUGoY3_Z_3Qd3KFZaiIC_9zuejYwvDcfBW_Pj5wOaQ4jMjlPX1owidIsXpYMRv-m1E3dHW4wrwnKMjJ-bf4QMt6Du3bNNJSYlu2SzZf38WUMVh0CmQjYwTmsZmuqLv-iktvh1tvtMAhQbNZpZKAOBRfR0DnYLV9qZRpZETxGSDPS9fstQqo2e2v5jVpbCvVJULNkxs-tMUCaq_2Xj3jkgO4vhDAzZh-9dPQUafSEa4-O3RvlTfl7IwmEmdQ4d236DcWSNQ8QXzRvHWHw7iZ8bj0kWUAKmxDf1V8nOoBnAtKCldpznFzWOVl3N_ee8OlMjJL74LOZdA5mRkH39ljkNxlgb1p7hEv8bjvKKnKtJuaX9FGmrJv2XOHJpGKSfBin2JQ58wmShQLBRQoCaUM8WGca0XWjDaqwusjaGmlGVUwqxn7i2BhkyhH-Ko3PCEbXT0QeKAhv7FmmRJWHFOhlDeAt0PGWG8kNkma4RrEqjD6ucNRY_3mz4VNDB-59HJGOYdLidLbVtO_FxfRyoVEa5wBvfjAmAlei697PV9f2WprM3HdaYdEPCy-00uE0V2s9d3YUyFc4GqxZxuEADaU'}\n",
      "Classifier: RandomForestClassifier has a training score of 76.6% accuracy score on Const Fill\n",
      "Classifier: RandomForestClassifier has a test score of 78.5% accuracy score on Const Fill\n",
      "Cookies: {'refresh_token': 'eyJ0eXAiOiJKV1QiLCJhbGciOiJSUzI1NiJ9.eyJ0b2tlbl90eXBlIjoicmVmcmVzaCIsImV4cCI6MTY0OTc3Nzc0MSwianRpIjoiZjE3MjMyYjdjNzA4NGI3Y2IwZTFhZWY0NDU4MmQ2NGMiLCJ1c2VyX2lkIjoiYXNkZkBnbWFpbC5jb20iLCJfZGF0YSI6eyJ1c2VyIjp7ImZpcnN0X25hbWUiOiIiLCJsYXN0X25hbWUiOiIiLCJ1c2VybmFtZSI6Im9uZXNwYW5hZG1pbiIsImVtYWlsIjoiYXNkZkBnbWFpbC5jb20iLCJvcmdhbml6YXRpb25fcGVybWlzc2lvbnMiOnsiYWRtaW4iOlt7Im5hbWUiOiJPbmVzcGFuIiwiaXNfYWN0aXZlIjp0cnVlfV0sImRhdGFfc2NpZW50aXN0IjpbeyJuYW1lIjoiT25lc3BhbiIsImlzX2FjdGl2ZSI6dHJ1ZX1dLCJhbmFseXN0IjpbeyJuYW1lIjoiT25lc3BhbiIsImlzX2FjdGl2ZSI6dHJ1ZX1dfX19fQ.LX5kXKAwLG4mYhOLuScmtIqrtfkRuCe5Wj7vaP29Jp3ElNonuOB79HNbLdaCCdz8tmQ1V8MqZBC7FpauKWBvnt-w5Rl_aS9PERigS2lTGB6-5aHFnwesOkSNXJSJUnls9Yw62Ry5Q3lpGTywHxvVpmf3siJvSw0Fk1wD5V51F1fCY9uO_2NK4KBt9f-a5obscn_i9UeN6D7q6v7ied3LuZ2rpeFcOZdXCK4JoDODtYwgq234DIf-bh7nm2NvuygVjDAb8ldebD5KKjuZ35eN3XvgSUQIG6BlEybD6_TNHuSg329s9FRMuMhkQtAGIIGVJcBZLI7YwvpMOxtNVDLJT7-XdA4tj8AWixQtWsMVz6R5Eh9bjvxEij1K18oYEgcN44Ahpn4677eUtAAf3AJaNTEiIqYcChtPOQpd8f6SwBdlmzqwiaY1QtJemcxJW534OexqERFggjVx9vyPWORLomOCV4qd_7Qo3_KVvfsj5RaF01IwT1DYNYjdSnxa0lHGZF3gSnEDvSnXugphQnWpkHlkUCVU3U0FRwIrGclLg-YzAwdrVxE02JV7qqZnpV4wvsra9lUcMHXBAisjIye1I2JYbNRgx5wkJx4LkwZaLvhAbmNXhaJRofR6zWZNb80CRkFFwLJ_STldRr9Qx6bKe9NsxH7a11eKvWHJUm9GuOE', 'access_token': 'eyJ0eXAiOiJKV1QiLCJhbGciOiJSUzI1NiJ9.eyJ0b2tlbl90eXBlIjoiYWNjZXNzIiwiZXhwIjoxNjQ5NzEwMjE2LCJqdGkiOiI0ZGE3Y2UyMWFmMzQ0ZmU3ODM0YjdmMTE5MzFkZmFiMiIsInVzZXJfaWQiOiJhc2RmQGdtYWlsLmNvbSIsIl9kYXRhIjp7InVzZXIiOnsiZmlyc3RfbmFtZSI6IiIsImxhc3RfbmFtZSI6IiIsInVzZXJuYW1lIjoib25lc3BhbmFkbWluIiwiZW1haWwiOiJhc2RmQGdtYWlsLmNvbSIsIm9yZ2FuaXphdGlvbl9wZXJtaXNzaW9ucyI6eyJhZG1pbiI6W3sibmFtZSI6Ik9uZXNwYW4iLCJpc19hY3RpdmUiOnRydWV9XSwiZGF0YV9zY2llbnRpc3QiOlt7Im5hbWUiOiJPbmVzcGFuIiwiaXNfYWN0aXZlIjp0cnVlfV0sImFuYWx5c3QiOlt7Im5hbWUiOiJPbmVzcGFuIiwiaXNfYWN0aXZlIjp0cnVlfV19fX19.LYxlbFCRWsq7MAmb_IWKp-fUbb-z-5of0ZKEYpz-Ag6tkcWe-unWLD_5U3XxemIxCWsv4uMWKLt8aMAYGfw9QMmSDxyTmuAEGJ_9ijKb_TTRaxNM38OglxLZBlEKQv-aQE4HmKrC9rDARPR-_NNr8jh4ixjDFof3pWXyt__LaWHi1kZhgdj4_z5fl3QprDWuJv-L9kgADvNTfK7WIKbqHrS_jIvBeKXcNvYw5hsptXOYx4OlsDkzPF0Zca0Ma7UF0i530CeCXe2P4sKeZMrZqz8A5tGwcuqy8_RxOEN6LszV_6KTool5gCKTqRIQmiqfIYwo1E_bb5dxo6ryhPBkwyLhXsxPG3rIBnuwZhoXatKosSRerWgfalS431enkLc8O9LMXRgYmlz8mddlS5lyYOqVIjXCQPxevGIUrLqaUnR4QOjhQpd4LrwvJjAsLYODP2ss8UgJDiKjC1er4-Tj7SC9nJcsa6q52aPSsp0ISHfwl3LtNGaBBYuUhgTtMqP5bD1d7OODat7YpHFDH9kKNOEAyLI4jbkh44sjajwgy5vQ4ROHXcAPBGlC2DnLIjQKLhknUCZ4Dom_jrg7RlThkJWENSOGc3jApRmWh_snx1IRYC1PFAd3EeSBOqVsZasXOlIVu1b5Iw6PhMIuogIocrRxRkSyvomlgdj-HA_6CrE'}\n",
      "Classifier: DecisionTreeClassifier has a training score of 80.5% accuracy score on Const Fill\n",
      "Classifier: DecisionTreeClassifier has a test score of 78.5% accuracy score on Const Fill\n",
      "Cookies: {'refresh_token': 'eyJ0eXAiOiJKV1QiLCJhbGciOiJSUzI1NiJ9.eyJ0b2tlbl90eXBlIjoicmVmcmVzaCIsImV4cCI6MTY0OTc3Nzc0MSwianRpIjoiZjE3MjMyYjdjNzA4NGI3Y2IwZTFhZWY0NDU4MmQ2NGMiLCJ1c2VyX2lkIjoiYXNkZkBnbWFpbC5jb20iLCJfZGF0YSI6eyJ1c2VyIjp7ImZpcnN0X25hbWUiOiIiLCJsYXN0X25hbWUiOiIiLCJ1c2VybmFtZSI6Im9uZXNwYW5hZG1pbiIsImVtYWlsIjoiYXNkZkBnbWFpbC5jb20iLCJvcmdhbml6YXRpb25fcGVybWlzc2lvbnMiOnsiYWRtaW4iOlt7Im5hbWUiOiJPbmVzcGFuIiwiaXNfYWN0aXZlIjp0cnVlfV0sImRhdGFfc2NpZW50aXN0IjpbeyJuYW1lIjoiT25lc3BhbiIsImlzX2FjdGl2ZSI6dHJ1ZX1dLCJhbmFseXN0IjpbeyJuYW1lIjoiT25lc3BhbiIsImlzX2FjdGl2ZSI6dHJ1ZX1dfX19fQ.LX5kXKAwLG4mYhOLuScmtIqrtfkRuCe5Wj7vaP29Jp3ElNonuOB79HNbLdaCCdz8tmQ1V8MqZBC7FpauKWBvnt-w5Rl_aS9PERigS2lTGB6-5aHFnwesOkSNXJSJUnls9Yw62Ry5Q3lpGTywHxvVpmf3siJvSw0Fk1wD5V51F1fCY9uO_2NK4KBt9f-a5obscn_i9UeN6D7q6v7ied3LuZ2rpeFcOZdXCK4JoDODtYwgq234DIf-bh7nm2NvuygVjDAb8ldebD5KKjuZ35eN3XvgSUQIG6BlEybD6_TNHuSg329s9FRMuMhkQtAGIIGVJcBZLI7YwvpMOxtNVDLJT7-XdA4tj8AWixQtWsMVz6R5Eh9bjvxEij1K18oYEgcN44Ahpn4677eUtAAf3AJaNTEiIqYcChtPOQpd8f6SwBdlmzqwiaY1QtJemcxJW534OexqERFggjVx9vyPWORLomOCV4qd_7Qo3_KVvfsj5RaF01IwT1DYNYjdSnxa0lHGZF3gSnEDvSnXugphQnWpkHlkUCVU3U0FRwIrGclLg-YzAwdrVxE02JV7qqZnpV4wvsra9lUcMHXBAisjIye1I2JYbNRgx5wkJx4LkwZaLvhAbmNXhaJRofR6zWZNb80CRkFFwLJ_STldRr9Qx6bKe9NsxH7a11eKvWHJUm9GuOE', 'access_token': 'eyJ0eXAiOiJKV1QiLCJhbGciOiJSUzI1NiJ9.eyJ0b2tlbl90eXBlIjoiYWNjZXNzIiwiZXhwIjoxNjQ5NzEwMjE4LCJqdGkiOiIyY2QzMTllNjQwMjI0OGRlYTc1YzMyY2U3NTA1ZTE2OCIsInVzZXJfaWQiOiJhc2RmQGdtYWlsLmNvbSIsIl9kYXRhIjp7InVzZXIiOnsiZmlyc3RfbmFtZSI6IiIsImxhc3RfbmFtZSI6IiIsInVzZXJuYW1lIjoib25lc3BhbmFkbWluIiwiZW1haWwiOiJhc2RmQGdtYWlsLmNvbSIsIm9yZ2FuaXphdGlvbl9wZXJtaXNzaW9ucyI6eyJhZG1pbiI6W3sibmFtZSI6Ik9uZXNwYW4iLCJpc19hY3RpdmUiOnRydWV9XSwiZGF0YV9zY2llbnRpc3QiOlt7Im5hbWUiOiJPbmVzcGFuIiwiaXNfYWN0aXZlIjp0cnVlfV0sImFuYWx5c3QiOlt7Im5hbWUiOiJPbmVzcGFuIiwiaXNfYWN0aXZlIjp0cnVlfV19fX19.gQ9wDrvJmbaeKx1QLI0mtE_35qcG2YiBlontVdoGMB-Aw4ajzDybq9IZ3y2K70QZnRdJId9ZpJXGw6zyIQ7NXfhUQbuktpO_YskZ8lPnvtNsUiZijZOAr3MGj3TupYIc-NmTggnOzTY6iBCMegfE_tMkSU6IfTqU60ZzPuwmAV1jZuo26vrHIFXsBvudU8FrVg3GwNohfzE4mw0rsNF5wyEYxV2US9S-shzXbJx44u_b4w9BPewGFQDqKyaQt-S9CnkeTmLQaqXpKwqVWMBvRKTe3zC0D_o7ftZinaTaT9thPMTz9XESWZhwiB3-U5lvTz4keHMrwbgYdw1NhpkR9XLXp9CmbmqOHgLjHL8rfSvyVBhiciI7sLmQbQTHD3v_17MYC1j1Zs_UspGOk5JYsKXtET8hqV4pBukXzQrEoFw334mh9lh8lSZRi0q5rorgCAK688PGEePB6v9s5w-3LaF-MJehcUjnHMjoHaC835PbJExDnfsCiHr6UHCJ8tZBxFmma698DBzUSNE_MGa9eTblNuqwDL17yjsLeV0tpby7MoQ0GKqsqCpAoU1a1wEcis6cizSoPbz2F0fol96Oi4PBnr-Zpyt01F2hFC3K9gPOy5eSK4OzJ7hOJbjnz8tPcwmwo_MhTlQ99kIMXbOLpKikb4j9tAeiBRWLf8vxlh0'}\n",
      "Classifier: GradientBoostingClassifier has a training score of 84.5% accuracy score on Const Fill\n",
      "Classifier: GradientBoostingClassifier has a test score of 81.5% accuracy score on Const Fill\n",
      "Cookies: {'refresh_token': 'eyJ0eXAiOiJKV1QiLCJhbGciOiJSUzI1NiJ9.eyJ0b2tlbl90eXBlIjoicmVmcmVzaCIsImV4cCI6MTY0OTc3Nzc0MSwianRpIjoiZjE3MjMyYjdjNzA4NGI3Y2IwZTFhZWY0NDU4MmQ2NGMiLCJ1c2VyX2lkIjoiYXNkZkBnbWFpbC5jb20iLCJfZGF0YSI6eyJ1c2VyIjp7ImZpcnN0X25hbWUiOiIiLCJsYXN0X25hbWUiOiIiLCJ1c2VybmFtZSI6Im9uZXNwYW5hZG1pbiIsImVtYWlsIjoiYXNkZkBnbWFpbC5jb20iLCJvcmdhbml6YXRpb25fcGVybWlzc2lvbnMiOnsiYWRtaW4iOlt7Im5hbWUiOiJPbmVzcGFuIiwiaXNfYWN0aXZlIjp0cnVlfV0sImRhdGFfc2NpZW50aXN0IjpbeyJuYW1lIjoiT25lc3BhbiIsImlzX2FjdGl2ZSI6dHJ1ZX1dLCJhbmFseXN0IjpbeyJuYW1lIjoiT25lc3BhbiIsImlzX2FjdGl2ZSI6dHJ1ZX1dfX19fQ.LX5kXKAwLG4mYhOLuScmtIqrtfkRuCe5Wj7vaP29Jp3ElNonuOB79HNbLdaCCdz8tmQ1V8MqZBC7FpauKWBvnt-w5Rl_aS9PERigS2lTGB6-5aHFnwesOkSNXJSJUnls9Yw62Ry5Q3lpGTywHxvVpmf3siJvSw0Fk1wD5V51F1fCY9uO_2NK4KBt9f-a5obscn_i9UeN6D7q6v7ied3LuZ2rpeFcOZdXCK4JoDODtYwgq234DIf-bh7nm2NvuygVjDAb8ldebD5KKjuZ35eN3XvgSUQIG6BlEybD6_TNHuSg329s9FRMuMhkQtAGIIGVJcBZLI7YwvpMOxtNVDLJT7-XdA4tj8AWixQtWsMVz6R5Eh9bjvxEij1K18oYEgcN44Ahpn4677eUtAAf3AJaNTEiIqYcChtPOQpd8f6SwBdlmzqwiaY1QtJemcxJW534OexqERFggjVx9vyPWORLomOCV4qd_7Qo3_KVvfsj5RaF01IwT1DYNYjdSnxa0lHGZF3gSnEDvSnXugphQnWpkHlkUCVU3U0FRwIrGclLg-YzAwdrVxE02JV7qqZnpV4wvsra9lUcMHXBAisjIye1I2JYbNRgx5wkJx4LkwZaLvhAbmNXhaJRofR6zWZNb80CRkFFwLJ_STldRr9Qx6bKe9NsxH7a11eKvWHJUm9GuOE', 'access_token': 'eyJ0eXAiOiJKV1QiLCJhbGciOiJSUzI1NiJ9.eyJ0b2tlbl90eXBlIjoiYWNjZXNzIiwiZXhwIjoxNjQ5NzEwMjIwLCJqdGkiOiJlMzI1OTgzNWU2OWY0YWRhODE2NDBkMTRlNzk4NGFhMSIsInVzZXJfaWQiOiJhc2RmQGdtYWlsLmNvbSIsIl9kYXRhIjp7InVzZXIiOnsiZmlyc3RfbmFtZSI6IiIsImxhc3RfbmFtZSI6IiIsInVzZXJuYW1lIjoib25lc3BhbmFkbWluIiwiZW1haWwiOiJhc2RmQGdtYWlsLmNvbSIsIm9yZ2FuaXphdGlvbl9wZXJtaXNzaW9ucyI6eyJhZG1pbiI6W3sibmFtZSI6Ik9uZXNwYW4iLCJpc19hY3RpdmUiOnRydWV9XSwiZGF0YV9zY2llbnRpc3QiOlt7Im5hbWUiOiJPbmVzcGFuIiwiaXNfYWN0aXZlIjp0cnVlfV0sImFuYWx5c3QiOlt7Im5hbWUiOiJPbmVzcGFuIiwiaXNfYWN0aXZlIjp0cnVlfV19fX19.fa2cPwNRAh946sV0NkbJVNsl0QLfAT1sWjHRQ18wM6QXAXGB-k1Uc0d_YGLIsBjAaORJ5viYHz_ixFwGzT1SH61aw-di1tmeAMMKny3FuAPIVfR2uiPaJAkkLVZT5KWM1gOfIUl6TyeTCwy-76lZ-LMCY8YhwSpwgjyTe6fm-JSmSGeN0IKRJNaXzTkznbzgbcmvQetXIUojGFyyAQK4FS-oddgfaP5al6gP9F-dgkh3gjJA-tp_H2VKf5Ugu3RSDE2UWelVspTP04_2YDhy2ybD1Qziqf2cpoyrP--Aw-Gr71rOcg6xn-2G7l8iPeiU75Y1snjrd79NVu2XS1gwg4imH02D9jB5E9-y2fxNKKLLvAztO2ZbbRuTfVfEs4Y9GGfQFcNDALQa0glbpG8T8VRmjHtlUPEKY2HGfT14ragdlKcDn_qkXhCr1Ss4o-3eA7wfx2Suh2vBiAfcEHjtHf_vG2V42jWiTT0j7fObrAS2KzGfQOhVWEBk2WAtkRpnHuq7BObqsNwHlXYRGAJwZfBJUTPZh3TjPJxfoUsdCJ_6yNlawlUBB4zt4bcj1NEzA5O01RQmzlB8ewZBJI-o_6FJdz4UQTAVqOyJ5Xfa7FDpcmN_G_M7lGV8SYXHD_eqc4LqaRRLA7n5onS4JQtyAOOSYpm0N9s4P4hljiaOtNY'}\n",
      "Classifier: RandomForestClassifier has a training score of 76.0% accuracy score on Mode Fill\n",
      "Classifier: RandomForestClassifier has a test score of 80.0% accuracy score on Mode Fill\n",
      "Cookies: {'refresh_token': 'eyJ0eXAiOiJKV1QiLCJhbGciOiJSUzI1NiJ9.eyJ0b2tlbl90eXBlIjoicmVmcmVzaCIsImV4cCI6MTY0OTc3Nzc0MSwianRpIjoiZjE3MjMyYjdjNzA4NGI3Y2IwZTFhZWY0NDU4MmQ2NGMiLCJ1c2VyX2lkIjoiYXNkZkBnbWFpbC5jb20iLCJfZGF0YSI6eyJ1c2VyIjp7ImZpcnN0X25hbWUiOiIiLCJsYXN0X25hbWUiOiIiLCJ1c2VybmFtZSI6Im9uZXNwYW5hZG1pbiIsImVtYWlsIjoiYXNkZkBnbWFpbC5jb20iLCJvcmdhbml6YXRpb25fcGVybWlzc2lvbnMiOnsiYWRtaW4iOlt7Im5hbWUiOiJPbmVzcGFuIiwiaXNfYWN0aXZlIjp0cnVlfV0sImRhdGFfc2NpZW50aXN0IjpbeyJuYW1lIjoiT25lc3BhbiIsImlzX2FjdGl2ZSI6dHJ1ZX1dLCJhbmFseXN0IjpbeyJuYW1lIjoiT25lc3BhbiIsImlzX2FjdGl2ZSI6dHJ1ZX1dfX19fQ.LX5kXKAwLG4mYhOLuScmtIqrtfkRuCe5Wj7vaP29Jp3ElNonuOB79HNbLdaCCdz8tmQ1V8MqZBC7FpauKWBvnt-w5Rl_aS9PERigS2lTGB6-5aHFnwesOkSNXJSJUnls9Yw62Ry5Q3lpGTywHxvVpmf3siJvSw0Fk1wD5V51F1fCY9uO_2NK4KBt9f-a5obscn_i9UeN6D7q6v7ied3LuZ2rpeFcOZdXCK4JoDODtYwgq234DIf-bh7nm2NvuygVjDAb8ldebD5KKjuZ35eN3XvgSUQIG6BlEybD6_TNHuSg329s9FRMuMhkQtAGIIGVJcBZLI7YwvpMOxtNVDLJT7-XdA4tj8AWixQtWsMVz6R5Eh9bjvxEij1K18oYEgcN44Ahpn4677eUtAAf3AJaNTEiIqYcChtPOQpd8f6SwBdlmzqwiaY1QtJemcxJW534OexqERFggjVx9vyPWORLomOCV4qd_7Qo3_KVvfsj5RaF01IwT1DYNYjdSnxa0lHGZF3gSnEDvSnXugphQnWpkHlkUCVU3U0FRwIrGclLg-YzAwdrVxE02JV7qqZnpV4wvsra9lUcMHXBAisjIye1I2JYbNRgx5wkJx4LkwZaLvhAbmNXhaJRofR6zWZNb80CRkFFwLJ_STldRr9Qx6bKe9NsxH7a11eKvWHJUm9GuOE', 'access_token': 'eyJ0eXAiOiJKV1QiLCJhbGciOiJSUzI1NiJ9.eyJ0b2tlbl90eXBlIjoiYWNjZXNzIiwiZXhwIjoxNjQ5NzEwMjIxLCJqdGkiOiIwMzc0NGZjY2RhZjM0ZDRmODllYWViODMzN2NkMjQyNiIsInVzZXJfaWQiOiJhc2RmQGdtYWlsLmNvbSIsIl9kYXRhIjp7InVzZXIiOnsiZmlyc3RfbmFtZSI6IiIsImxhc3RfbmFtZSI6IiIsInVzZXJuYW1lIjoib25lc3BhbmFkbWluIiwiZW1haWwiOiJhc2RmQGdtYWlsLmNvbSIsIm9yZ2FuaXphdGlvbl9wZXJtaXNzaW9ucyI6eyJhZG1pbiI6W3sibmFtZSI6Ik9uZXNwYW4iLCJpc19hY3RpdmUiOnRydWV9XSwiZGF0YV9zY2llbnRpc3QiOlt7Im5hbWUiOiJPbmVzcGFuIiwiaXNfYWN0aXZlIjp0cnVlfV0sImFuYWx5c3QiOlt7Im5hbWUiOiJPbmVzcGFuIiwiaXNfYWN0aXZlIjp0cnVlfV19fX19.rlPepp9L4M_JYrAL_gDKv8c8lCWdhUVg_PCHkFVEv_7AXkabPvb9lZ44K461jUIq3YQ9V73DZ7Q5qtwYurtCb60a96oRGVOV8WD_YQNESpayd1_1YbFnOSdC6TCCv9tg1zoAWOxYKcfJkYWS90XVfEgiPBriy07D8qTkwCa5p9kboqwvgSlTTkz2O1BcQmTog0csHBLH_eLdcp7lP_GHxUAcqh02q8JiPFSGKcSbLdlmLo9FIRLOuChnUwkhGucLXeqzwfPmAnzKUJvQ1vXBtP8aR_85x7ODcRC6Z_cAYjwVdP7n0E9Qoijcf7m9Ocob-5KWah979KiQGGtM4mZWXFZtq8MizADKM6LEcB0bNQYscX3v8Sjp-41WKl3VEuhsnutOOjEI8jx90IqY98PMxcHPVARMvxcE0FpFVV1CS7WSl8Q1qHW6v08Dqtqy43to8kACJnwZJv1Rs2WQA0H-x74_WnOp7xcTl2ECF_95PxCV8Wsek80HlBqne7MApCl2Ao79gRhTjy_1sTiE-nRrN7vs1gpMheWENT6xcJ58YlU_z9fzhV9uP1EessDv5arx-0GAQGsw51ZVGmwwvr_pahCo0hdZ4rurh7Wj4jyN6gduflDaXLQ0Dyfc3ykxmYdGUuB0kHy5V-nsOv3HS_vAbA89fcce9sk5Pm-Ca6Os0Xc'}\n",
      "Classifier: DecisionTreeClassifier has a training score of 78.4% accuracy score on Mode Fill\n",
      "Classifier: DecisionTreeClassifier has a test score of 77.0% accuracy score on Mode Fill\n",
      "Cookies: {'refresh_token': 'eyJ0eXAiOiJKV1QiLCJhbGciOiJSUzI1NiJ9.eyJ0b2tlbl90eXBlIjoicmVmcmVzaCIsImV4cCI6MTY0OTc3Nzc0MSwianRpIjoiZjE3MjMyYjdjNzA4NGI3Y2IwZTFhZWY0NDU4MmQ2NGMiLCJ1c2VyX2lkIjoiYXNkZkBnbWFpbC5jb20iLCJfZGF0YSI6eyJ1c2VyIjp7ImZpcnN0X25hbWUiOiIiLCJsYXN0X25hbWUiOiIiLCJ1c2VybmFtZSI6Im9uZXNwYW5hZG1pbiIsImVtYWlsIjoiYXNkZkBnbWFpbC5jb20iLCJvcmdhbml6YXRpb25fcGVybWlzc2lvbnMiOnsiYWRtaW4iOlt7Im5hbWUiOiJPbmVzcGFuIiwiaXNfYWN0aXZlIjp0cnVlfV0sImRhdGFfc2NpZW50aXN0IjpbeyJuYW1lIjoiT25lc3BhbiIsImlzX2FjdGl2ZSI6dHJ1ZX1dLCJhbmFseXN0IjpbeyJuYW1lIjoiT25lc3BhbiIsImlzX2FjdGl2ZSI6dHJ1ZX1dfX19fQ.LX5kXKAwLG4mYhOLuScmtIqrtfkRuCe5Wj7vaP29Jp3ElNonuOB79HNbLdaCCdz8tmQ1V8MqZBC7FpauKWBvnt-w5Rl_aS9PERigS2lTGB6-5aHFnwesOkSNXJSJUnls9Yw62Ry5Q3lpGTywHxvVpmf3siJvSw0Fk1wD5V51F1fCY9uO_2NK4KBt9f-a5obscn_i9UeN6D7q6v7ied3LuZ2rpeFcOZdXCK4JoDODtYwgq234DIf-bh7nm2NvuygVjDAb8ldebD5KKjuZ35eN3XvgSUQIG6BlEybD6_TNHuSg329s9FRMuMhkQtAGIIGVJcBZLI7YwvpMOxtNVDLJT7-XdA4tj8AWixQtWsMVz6R5Eh9bjvxEij1K18oYEgcN44Ahpn4677eUtAAf3AJaNTEiIqYcChtPOQpd8f6SwBdlmzqwiaY1QtJemcxJW534OexqERFggjVx9vyPWORLomOCV4qd_7Qo3_KVvfsj5RaF01IwT1DYNYjdSnxa0lHGZF3gSnEDvSnXugphQnWpkHlkUCVU3U0FRwIrGclLg-YzAwdrVxE02JV7qqZnpV4wvsra9lUcMHXBAisjIye1I2JYbNRgx5wkJx4LkwZaLvhAbmNXhaJRofR6zWZNb80CRkFFwLJ_STldRr9Qx6bKe9NsxH7a11eKvWHJUm9GuOE', 'access_token': 'eyJ0eXAiOiJKV1QiLCJhbGciOiJSUzI1NiJ9.eyJ0b2tlbl90eXBlIjoiYWNjZXNzIiwiZXhwIjoxNjQ5NzEwMjIzLCJqdGkiOiJiZTUzNzNhMGI3ODQ0ZTZmYmUzZDRiMGM5ZDBlMzdhMCIsInVzZXJfaWQiOiJhc2RmQGdtYWlsLmNvbSIsIl9kYXRhIjp7InVzZXIiOnsiZmlyc3RfbmFtZSI6IiIsImxhc3RfbmFtZSI6IiIsInVzZXJuYW1lIjoib25lc3BhbmFkbWluIiwiZW1haWwiOiJhc2RmQGdtYWlsLmNvbSIsIm9yZ2FuaXphdGlvbl9wZXJtaXNzaW9ucyI6eyJhZG1pbiI6W3sibmFtZSI6Ik9uZXNwYW4iLCJpc19hY3RpdmUiOnRydWV9XSwiZGF0YV9zY2llbnRpc3QiOlt7Im5hbWUiOiJPbmVzcGFuIiwiaXNfYWN0aXZlIjp0cnVlfV0sImFuYWx5c3QiOlt7Im5hbWUiOiJPbmVzcGFuIiwiaXNfYWN0aXZlIjp0cnVlfV19fX19.CBzNNhP814kll2RL7n0o3lMbbgc3SBycJINOg7TsanHEozr_a-R7UojNspHJ5y6K6L3zn0BMhsV94INp5m3kQwmd2DcCSjN-mtXP__a2wI6DKU2_NYMKdYIkohVdoIZGswg74ZIlpYfobGzoVz2qaLC0Xaa2jKULZJ0wXkib6tgC5vD7GeVmRYHZfvAK8CeK6UCXAP8l7FIC3E0oXkb2eQ19PuH0Ep7-dFwvhBK1F_aBJgQB2N8VFqYrLUVITs8xByS9MofFbTKCx9mq0aCtWpob1q5rJg3hIXRD9aT3kLrvfzp1CeJwsW1WHVeD9qfik2QMwRxg_zKO51afS_dbR91HM5JspKOOUv8qj7hsOEslNzoxwyhYfm2YjHiKaby2ocajJO6i9_5wX1qrXzPeiMCUhOOg2RvY9nTQvunf_bkn_cGEJIJa5zbzlYjZXjnGh-TfuSVbRHhdCOY68U2EHqNyvJrKXKLYb6EfhDxgtuIFfZ6yCPN_Ps_EukYHIahpIbzGEQrXWsIJ02-5AnH51djDm-O6hUfD3qDrCotJ7Yly_ALq-c44XifVnGESpJ0xq335TLEJR_KG6e0CP5ds8UVcrT7GXeWE_C9hf73qATPGkVosTW34EdODG_dv9Urv7iGQ-tkG5pQj6DHi9UShASRbwRtyXC0lMvWM7aweZC4'}\n",
      "Classifier: GradientBoostingClassifier has a training score of 84.2% accuracy score on Mode Fill\n",
      "Classifier: GradientBoostingClassifier has a test score of 81.5% accuracy score on Mode Fill\n",
      "Cookies: {'refresh_token': 'eyJ0eXAiOiJKV1QiLCJhbGciOiJSUzI1NiJ9.eyJ0b2tlbl90eXBlIjoicmVmcmVzaCIsImV4cCI6MTY0OTc3Nzc0MSwianRpIjoiZjE3MjMyYjdjNzA4NGI3Y2IwZTFhZWY0NDU4MmQ2NGMiLCJ1c2VyX2lkIjoiYXNkZkBnbWFpbC5jb20iLCJfZGF0YSI6eyJ1c2VyIjp7ImZpcnN0X25hbWUiOiIiLCJsYXN0X25hbWUiOiIiLCJ1c2VybmFtZSI6Im9uZXNwYW5hZG1pbiIsImVtYWlsIjoiYXNkZkBnbWFpbC5jb20iLCJvcmdhbml6YXRpb25fcGVybWlzc2lvbnMiOnsiYWRtaW4iOlt7Im5hbWUiOiJPbmVzcGFuIiwiaXNfYWN0aXZlIjp0cnVlfV0sImRhdGFfc2NpZW50aXN0IjpbeyJuYW1lIjoiT25lc3BhbiIsImlzX2FjdGl2ZSI6dHJ1ZX1dLCJhbmFseXN0IjpbeyJuYW1lIjoiT25lc3BhbiIsImlzX2FjdGl2ZSI6dHJ1ZX1dfX19fQ.LX5kXKAwLG4mYhOLuScmtIqrtfkRuCe5Wj7vaP29Jp3ElNonuOB79HNbLdaCCdz8tmQ1V8MqZBC7FpauKWBvnt-w5Rl_aS9PERigS2lTGB6-5aHFnwesOkSNXJSJUnls9Yw62Ry5Q3lpGTywHxvVpmf3siJvSw0Fk1wD5V51F1fCY9uO_2NK4KBt9f-a5obscn_i9UeN6D7q6v7ied3LuZ2rpeFcOZdXCK4JoDODtYwgq234DIf-bh7nm2NvuygVjDAb8ldebD5KKjuZ35eN3XvgSUQIG6BlEybD6_TNHuSg329s9FRMuMhkQtAGIIGVJcBZLI7YwvpMOxtNVDLJT7-XdA4tj8AWixQtWsMVz6R5Eh9bjvxEij1K18oYEgcN44Ahpn4677eUtAAf3AJaNTEiIqYcChtPOQpd8f6SwBdlmzqwiaY1QtJemcxJW534OexqERFggjVx9vyPWORLomOCV4qd_7Qo3_KVvfsj5RaF01IwT1DYNYjdSnxa0lHGZF3gSnEDvSnXugphQnWpkHlkUCVU3U0FRwIrGclLg-YzAwdrVxE02JV7qqZnpV4wvsra9lUcMHXBAisjIye1I2JYbNRgx5wkJx4LkwZaLvhAbmNXhaJRofR6zWZNb80CRkFFwLJ_STldRr9Qx6bKe9NsxH7a11eKvWHJUm9GuOE', 'access_token': 'eyJ0eXAiOiJKV1QiLCJhbGciOiJSUzI1NiJ9.eyJ0b2tlbl90eXBlIjoiYWNjZXNzIiwiZXhwIjoxNjQ5NzEwMjI0LCJqdGkiOiJiN2FmYTljZGZjNjg0NjJkYTI4N2FhYjljZTI2MDcxOCIsInVzZXJfaWQiOiJhc2RmQGdtYWlsLmNvbSIsIl9kYXRhIjp7InVzZXIiOnsiZmlyc3RfbmFtZSI6IiIsImxhc3RfbmFtZSI6IiIsInVzZXJuYW1lIjoib25lc3BhbmFkbWluIiwiZW1haWwiOiJhc2RmQGdtYWlsLmNvbSIsIm9yZ2FuaXphdGlvbl9wZXJtaXNzaW9ucyI6eyJhZG1pbiI6W3sibmFtZSI6Ik9uZXNwYW4iLCJpc19hY3RpdmUiOnRydWV9XSwiZGF0YV9zY2llbnRpc3QiOlt7Im5hbWUiOiJPbmVzcGFuIiwiaXNfYWN0aXZlIjp0cnVlfV0sImFuYWx5c3QiOlt7Im5hbWUiOiJPbmVzcGFuIiwiaXNfYWN0aXZlIjp0cnVlfV19fX19.Y54rmUfFQq8U8cB29xmNURRHRPUCMgUS2a2MF2QlGSeuy28pnXCIDnAAXlvw7HzJ_Tg4bYXsG8TKJZRAcdhj3tKsMoyhgLehIyRX3FNbLMZve8c38LWs9FA4k0NQT5-UXwW5ixNh1-UvjbKadrCta-Dmhi-92kcnmz4ElJxseLv4vgN_M-C6cCOhgwSgz_hNi-9JTBMZ8-6S9jkePqhcBMPrVLQ8nMxE4ulrMUAgA1N1bQyhyM3VzpmPb7Kv2QvbrZdx4Nohg0KuqYGikktSS2goha39aCbiTlKiezSRM_YjqvkBhTCwojR1Atus29fX7zwoovsAJPu8yekUUO8w56DNcIqFUsJ6AiBVCnsLK1-UgG1tLqQHQI3NpfUXS17s1kYs0tqYWrXdMWfyLmRlVK3WI6o2g_d_88nrfCheZ6PO2W-XAZ9evIOyGQM0_AgiAlo6c7FlwzL3MXfzGez_Zisk4fuATjmwREB4OzhWZkBgF-xx570PPF3BX4bUdWuWUbI7OZuUNTUXdiCCsGnfvDO7qUuzCVE3okwUdh3vueKkuGzffDjlgOYHXAbx_dVJRE5_W5gXl3NdTicZpaQz0dwMUxq0XwrIgVK_S_fJ0okXYx9lk6EaSXqc9KZge1vDOjs_yL84Z_A2mcVjzk931H6jDCdVwlcEoVZgl7AS_f8'}\n",
      "Classifier: RandomForestClassifier has a training score of 86.4% accuracy score on Const Fill Smote\n",
      "Classifier: RandomForestClassifier has a test score of 81.5% accuracy score on Const Fill Smote\n",
      "Cookies: {'refresh_token': 'eyJ0eXAiOiJKV1QiLCJhbGciOiJSUzI1NiJ9.eyJ0b2tlbl90eXBlIjoicmVmcmVzaCIsImV4cCI6MTY0OTc3Nzc0MSwianRpIjoiZjE3MjMyYjdjNzA4NGI3Y2IwZTFhZWY0NDU4MmQ2NGMiLCJ1c2VyX2lkIjoiYXNkZkBnbWFpbC5jb20iLCJfZGF0YSI6eyJ1c2VyIjp7ImZpcnN0X25hbWUiOiIiLCJsYXN0X25hbWUiOiIiLCJ1c2VybmFtZSI6Im9uZXNwYW5hZG1pbiIsImVtYWlsIjoiYXNkZkBnbWFpbC5jb20iLCJvcmdhbml6YXRpb25fcGVybWlzc2lvbnMiOnsiYWRtaW4iOlt7Im5hbWUiOiJPbmVzcGFuIiwiaXNfYWN0aXZlIjp0cnVlfV0sImRhdGFfc2NpZW50aXN0IjpbeyJuYW1lIjoiT25lc3BhbiIsImlzX2FjdGl2ZSI6dHJ1ZX1dLCJhbmFseXN0IjpbeyJuYW1lIjoiT25lc3BhbiIsImlzX2FjdGl2ZSI6dHJ1ZX1dfX19fQ.LX5kXKAwLG4mYhOLuScmtIqrtfkRuCe5Wj7vaP29Jp3ElNonuOB79HNbLdaCCdz8tmQ1V8MqZBC7FpauKWBvnt-w5Rl_aS9PERigS2lTGB6-5aHFnwesOkSNXJSJUnls9Yw62Ry5Q3lpGTywHxvVpmf3siJvSw0Fk1wD5V51F1fCY9uO_2NK4KBt9f-a5obscn_i9UeN6D7q6v7ied3LuZ2rpeFcOZdXCK4JoDODtYwgq234DIf-bh7nm2NvuygVjDAb8ldebD5KKjuZ35eN3XvgSUQIG6BlEybD6_TNHuSg329s9FRMuMhkQtAGIIGVJcBZLI7YwvpMOxtNVDLJT7-XdA4tj8AWixQtWsMVz6R5Eh9bjvxEij1K18oYEgcN44Ahpn4677eUtAAf3AJaNTEiIqYcChtPOQpd8f6SwBdlmzqwiaY1QtJemcxJW534OexqERFggjVx9vyPWORLomOCV4qd_7Qo3_KVvfsj5RaF01IwT1DYNYjdSnxa0lHGZF3gSnEDvSnXugphQnWpkHlkUCVU3U0FRwIrGclLg-YzAwdrVxE02JV7qqZnpV4wvsra9lUcMHXBAisjIye1I2JYbNRgx5wkJx4LkwZaLvhAbmNXhaJRofR6zWZNb80CRkFFwLJ_STldRr9Qx6bKe9NsxH7a11eKvWHJUm9GuOE', 'access_token': 'eyJ0eXAiOiJKV1QiLCJhbGciOiJSUzI1NiJ9.eyJ0b2tlbl90eXBlIjoiYWNjZXNzIiwiZXhwIjoxNjQ5NzEwMjI1LCJqdGkiOiIzOGFkN2ZmNDJiYjA0MzViYmE3ODE3N2NhYzUyYjUwZiIsInVzZXJfaWQiOiJhc2RmQGdtYWlsLmNvbSIsIl9kYXRhIjp7InVzZXIiOnsiZmlyc3RfbmFtZSI6IiIsImxhc3RfbmFtZSI6IiIsInVzZXJuYW1lIjoib25lc3BhbmFkbWluIiwiZW1haWwiOiJhc2RmQGdtYWlsLmNvbSIsIm9yZ2FuaXphdGlvbl9wZXJtaXNzaW9ucyI6eyJhZG1pbiI6W3sibmFtZSI6Ik9uZXNwYW4iLCJpc19hY3RpdmUiOnRydWV9XSwiZGF0YV9zY2llbnRpc3QiOlt7Im5hbWUiOiJPbmVzcGFuIiwiaXNfYWN0aXZlIjp0cnVlfV0sImFuYWx5c3QiOlt7Im5hbWUiOiJPbmVzcGFuIiwiaXNfYWN0aXZlIjp0cnVlfV19fX19.Epd-V2ALvD33mdwSd4uPLIxTpbRBPRDXWk7t0kifIrFXYFNXjBoJpIOqwZZWLuzWlNlkcvMisB4Z0XmqvPR0rFZWPWgN-VuzVEpI8Z73kVqPY7i7coExoUr0Rr3BeXBGvE2PBuFPbzHeG3m0J-aZB9hagRgThiZO5K0DG9961DKwJRfyv-AkKSsN4WV8_kjsCDjsilrXkp1-M97pXWclbJ-ihHvhaC95yqKlmXUA400HFYF8DRlNKcaLzhRupeGEtI4HWcUPVVWvoijfuFPqdULAoLrG88hwBnCRfrlq-iu-UhrEOpsyPZ3jB1KBDdjEYTPWzfA94VEIYO81umiJ0rinbeLYIdxKOJIr0MWn5iJXIAZ_6nIFGdJjMvacPWuKfcg9CXd_B5KSv-5vtI4PvxsKLu-z85PX3AToNgk6kKK0eZgyVi5Nhnb6FX_a2xqJk4Eq64Oq7WEgJBqyaH17OhA4Ssj2E3zfpC8pDuKVB_RcS7VuOwGsFmHJiEDiuU3EdII6Ay_OEnuDfpS2CJDa6Bp99kKhqJNOxhx1vpuyomxlQPp-v_Kedyj4gryfYncXSxA7eh0yaR5W22OwQPpM7klzLyNORBnjHoqjvw9oxjv6AimkVCsAuUB9jmEYo0JZf-JSPeFYV-8FPVAVOrsAN6WqZneyDAwz3PiIr0UHAWo'}\n",
      "Classifier: DecisionTreeClassifier has a training score of 81.5% accuracy score on Const Fill Smote\n",
      "Classifier: DecisionTreeClassifier has a test score of 72.5% accuracy score on Const Fill Smote\n",
      "Cookies: {'refresh_token': 'eyJ0eXAiOiJKV1QiLCJhbGciOiJSUzI1NiJ9.eyJ0b2tlbl90eXBlIjoicmVmcmVzaCIsImV4cCI6MTY0OTc3Nzc0MSwianRpIjoiZjE3MjMyYjdjNzA4NGI3Y2IwZTFhZWY0NDU4MmQ2NGMiLCJ1c2VyX2lkIjoiYXNkZkBnbWFpbC5jb20iLCJfZGF0YSI6eyJ1c2VyIjp7ImZpcnN0X25hbWUiOiIiLCJsYXN0X25hbWUiOiIiLCJ1c2VybmFtZSI6Im9uZXNwYW5hZG1pbiIsImVtYWlsIjoiYXNkZkBnbWFpbC5jb20iLCJvcmdhbml6YXRpb25fcGVybWlzc2lvbnMiOnsiYWRtaW4iOlt7Im5hbWUiOiJPbmVzcGFuIiwiaXNfYWN0aXZlIjp0cnVlfV0sImRhdGFfc2NpZW50aXN0IjpbeyJuYW1lIjoiT25lc3BhbiIsImlzX2FjdGl2ZSI6dHJ1ZX1dLCJhbmFseXN0IjpbeyJuYW1lIjoiT25lc3BhbiIsImlzX2FjdGl2ZSI6dHJ1ZX1dfX19fQ.LX5kXKAwLG4mYhOLuScmtIqrtfkRuCe5Wj7vaP29Jp3ElNonuOB79HNbLdaCCdz8tmQ1V8MqZBC7FpauKWBvnt-w5Rl_aS9PERigS2lTGB6-5aHFnwesOkSNXJSJUnls9Yw62Ry5Q3lpGTywHxvVpmf3siJvSw0Fk1wD5V51F1fCY9uO_2NK4KBt9f-a5obscn_i9UeN6D7q6v7ied3LuZ2rpeFcOZdXCK4JoDODtYwgq234DIf-bh7nm2NvuygVjDAb8ldebD5KKjuZ35eN3XvgSUQIG6BlEybD6_TNHuSg329s9FRMuMhkQtAGIIGVJcBZLI7YwvpMOxtNVDLJT7-XdA4tj8AWixQtWsMVz6R5Eh9bjvxEij1K18oYEgcN44Ahpn4677eUtAAf3AJaNTEiIqYcChtPOQpd8f6SwBdlmzqwiaY1QtJemcxJW534OexqERFggjVx9vyPWORLomOCV4qd_7Qo3_KVvfsj5RaF01IwT1DYNYjdSnxa0lHGZF3gSnEDvSnXugphQnWpkHlkUCVU3U0FRwIrGclLg-YzAwdrVxE02JV7qqZnpV4wvsra9lUcMHXBAisjIye1I2JYbNRgx5wkJx4LkwZaLvhAbmNXhaJRofR6zWZNb80CRkFFwLJ_STldRr9Qx6bKe9NsxH7a11eKvWHJUm9GuOE', 'access_token': 'eyJ0eXAiOiJKV1QiLCJhbGciOiJSUzI1NiJ9.eyJ0b2tlbl90eXBlIjoiYWNjZXNzIiwiZXhwIjoxNjQ5NzEwMjI4LCJqdGkiOiJjMTk0YjRmNTdjOGU0Y2JjODY0YWQ4NmVkNjllNDY5MyIsInVzZXJfaWQiOiJhc2RmQGdtYWlsLmNvbSIsIl9kYXRhIjp7InVzZXIiOnsiZmlyc3RfbmFtZSI6IiIsImxhc3RfbmFtZSI6IiIsInVzZXJuYW1lIjoib25lc3BhbmFkbWluIiwiZW1haWwiOiJhc2RmQGdtYWlsLmNvbSIsIm9yZ2FuaXphdGlvbl9wZXJtaXNzaW9ucyI6eyJhZG1pbiI6W3sibmFtZSI6Ik9uZXNwYW4iLCJpc19hY3RpdmUiOnRydWV9XSwiZGF0YV9zY2llbnRpc3QiOlt7Im5hbWUiOiJPbmVzcGFuIiwiaXNfYWN0aXZlIjp0cnVlfV0sImFuYWx5c3QiOlt7Im5hbWUiOiJPbmVzcGFuIiwiaXNfYWN0aXZlIjp0cnVlfV19fX19.i0X2xj-3p5U8s0ACss9So_iUNlaDxx8wkl0fi4ESBDkfdnx-hQD65DDtWb-suR8FP7r7gQMQBMVRKHFOAVchvIr6pQFw1Ix-3J9BO4CjirMZMu5YaWNBR-LKx61OoML3G3RHDWQ8IR-ErXIFWtj_stMG0Tdh8tzS25xxINhAXcyqcZlvH9Df71HHcnnHnpXLYfu14hiOXLhwdq-bArdD2jD3S1IpT3SSLNwwh4SBhRq4iuLW4XbfJUFVwa39fTEXEQaktd43bjxPqoVPiqVfA4z6cD9OGZZAYAIdDEL6Ih5Ws4QMgRUK2eSCgAK-PiqyJPmb-9270jJL3UKKoKY2le88dE-6Qii9YBFnpqk3Kn1qPJO0MoT6KR26tu6SOU5oqWASzWMuCAfm_dnz2vT91Sp8vb03K-m6e9pl72bt_LJj6urIV_CzrAvSjjpKunVoXleRq8cBikkhqLYUi6Hp3KclQ8WGkfz5auoBgD15LZuxnflL9vpYRnqunvAoGvQkCSuPBucxztogdWkFkIZgVhjNX4GrZvAFAZaBH74vXsLoO3r_fDrxZ6fLmdii3MgjqSjTFfNJ9Sv-9K9p0kG6WnTLC5AvUdSvph0nAHWoOJSLe-kuBtH8TdVKl2INB0O5R96kuvDWYA9gUQTmIedL72tNXnjCro0lxWoM4sAfhPY'}\n",
      "Classifier: GradientBoostingClassifier has a training score of 87.0% accuracy score on Const Fill Smote\n",
      "Classifier: GradientBoostingClassifier has a test score of 82.0% accuracy score on Const Fill Smote\n",
      "Cookies: {'refresh_token': 'eyJ0eXAiOiJKV1QiLCJhbGciOiJSUzI1NiJ9.eyJ0b2tlbl90eXBlIjoicmVmcmVzaCIsImV4cCI6MTY0OTc3Nzc0MSwianRpIjoiZjE3MjMyYjdjNzA4NGI3Y2IwZTFhZWY0NDU4MmQ2NGMiLCJ1c2VyX2lkIjoiYXNkZkBnbWFpbC5jb20iLCJfZGF0YSI6eyJ1c2VyIjp7ImZpcnN0X25hbWUiOiIiLCJsYXN0X25hbWUiOiIiLCJ1c2VybmFtZSI6Im9uZXNwYW5hZG1pbiIsImVtYWlsIjoiYXNkZkBnbWFpbC5jb20iLCJvcmdhbml6YXRpb25fcGVybWlzc2lvbnMiOnsiYWRtaW4iOlt7Im5hbWUiOiJPbmVzcGFuIiwiaXNfYWN0aXZlIjp0cnVlfV0sImRhdGFfc2NpZW50aXN0IjpbeyJuYW1lIjoiT25lc3BhbiIsImlzX2FjdGl2ZSI6dHJ1ZX1dLCJhbmFseXN0IjpbeyJuYW1lIjoiT25lc3BhbiIsImlzX2FjdGl2ZSI6dHJ1ZX1dfX19fQ.LX5kXKAwLG4mYhOLuScmtIqrtfkRuCe5Wj7vaP29Jp3ElNonuOB79HNbLdaCCdz8tmQ1V8MqZBC7FpauKWBvnt-w5Rl_aS9PERigS2lTGB6-5aHFnwesOkSNXJSJUnls9Yw62Ry5Q3lpGTywHxvVpmf3siJvSw0Fk1wD5V51F1fCY9uO_2NK4KBt9f-a5obscn_i9UeN6D7q6v7ied3LuZ2rpeFcOZdXCK4JoDODtYwgq234DIf-bh7nm2NvuygVjDAb8ldebD5KKjuZ35eN3XvgSUQIG6BlEybD6_TNHuSg329s9FRMuMhkQtAGIIGVJcBZLI7YwvpMOxtNVDLJT7-XdA4tj8AWixQtWsMVz6R5Eh9bjvxEij1K18oYEgcN44Ahpn4677eUtAAf3AJaNTEiIqYcChtPOQpd8f6SwBdlmzqwiaY1QtJemcxJW534OexqERFggjVx9vyPWORLomOCV4qd_7Qo3_KVvfsj5RaF01IwT1DYNYjdSnxa0lHGZF3gSnEDvSnXugphQnWpkHlkUCVU3U0FRwIrGclLg-YzAwdrVxE02JV7qqZnpV4wvsra9lUcMHXBAisjIye1I2JYbNRgx5wkJx4LkwZaLvhAbmNXhaJRofR6zWZNb80CRkFFwLJ_STldRr9Qx6bKe9NsxH7a11eKvWHJUm9GuOE', 'access_token': 'eyJ0eXAiOiJKV1QiLCJhbGciOiJSUzI1NiJ9.eyJ0b2tlbl90eXBlIjoiYWNjZXNzIiwiZXhwIjoxNjQ5NzEwMjMwLCJqdGkiOiIzOWE0YThlNjMzYzk0MGY3OWQzNjZjZGZlNDAxZDU0NSIsInVzZXJfaWQiOiJhc2RmQGdtYWlsLmNvbSIsIl9kYXRhIjp7InVzZXIiOnsiZmlyc3RfbmFtZSI6IiIsImxhc3RfbmFtZSI6IiIsInVzZXJuYW1lIjoib25lc3BhbmFkbWluIiwiZW1haWwiOiJhc2RmQGdtYWlsLmNvbSIsIm9yZ2FuaXphdGlvbl9wZXJtaXNzaW9ucyI6eyJhZG1pbiI6W3sibmFtZSI6Ik9uZXNwYW4iLCJpc19hY3RpdmUiOnRydWV9XSwiZGF0YV9zY2llbnRpc3QiOlt7Im5hbWUiOiJPbmVzcGFuIiwiaXNfYWN0aXZlIjp0cnVlfV0sImFuYWx5c3QiOlt7Im5hbWUiOiJPbmVzcGFuIiwiaXNfYWN0aXZlIjp0cnVlfV19fX19.BG4px4JnRdRbWieL1ShgFIYfuU1c53ZRvPs7_HdJQ65MdtZOYMpxI7VRmJ39Mdt4qH94uh79nS3JsgneZjNY-1bP6DObY3TEuL2RIbe8b6B3f0_OlkIIWnz-jaBQd5CksYDD4kZ3V79JRjmxl2vdBZj2tg26uuh0F7vQXZzXtadUd9TaamBVnMz7jQcUD2hUosW0cBFm_du2D3fSva2zDgnxhBOMYMFfssa-8Qp83WlcZUYwCH91iiA24l8Dbt4WYzoZRlZ0dM8vtj87JLYhpUyZU4vIbWN7kfr-_sTEME4MjOB2sHYmgcyFKmaQFRMssHkgKr8ADK29aM_gmP-eQxuhbEgGo6TxKobluUHDCfOQnYnBLYV802HYyoppEkV7lZkBV1mCFmL6PhMfxUeMRApUIgNqCiYuuh_CpxCKX2OnIpaDnUMm0yWPz2QtvVLdrhj55vLKtZ1ncFdynVWQ7ppJzeD7VIe_iLunSLcTqEvq5DRUt22CZbl35A79l-7vcwlGnlcSYuQKl9ab4twsuncEIiyHlM91uj1MRtQBJwt2JlKSu5Ku0ZcGZl618eXiizNUcbuS23WyarbO_Lq8h2FWKoiOcFycHaQg3tpVMxA2f5avlfix2-CLLvYe-ecDlxEkeWtFxxG10P2otTlrRzk1JOnc3NeFv6adXEmAqCw'}\n",
      "Classifier: RandomForestClassifier has a training score of 86.7% accuracy score on Mode Fill Smote\n",
      "Classifier: RandomForestClassifier has a test score of 80.0% accuracy score on Mode Fill Smote\n",
      "Cookies: {'refresh_token': 'eyJ0eXAiOiJKV1QiLCJhbGciOiJSUzI1NiJ9.eyJ0b2tlbl90eXBlIjoicmVmcmVzaCIsImV4cCI6MTY0OTc3Nzc0MSwianRpIjoiZjE3MjMyYjdjNzA4NGI3Y2IwZTFhZWY0NDU4MmQ2NGMiLCJ1c2VyX2lkIjoiYXNkZkBnbWFpbC5jb20iLCJfZGF0YSI6eyJ1c2VyIjp7ImZpcnN0X25hbWUiOiIiLCJsYXN0X25hbWUiOiIiLCJ1c2VybmFtZSI6Im9uZXNwYW5hZG1pbiIsImVtYWlsIjoiYXNkZkBnbWFpbC5jb20iLCJvcmdhbml6YXRpb25fcGVybWlzc2lvbnMiOnsiYWRtaW4iOlt7Im5hbWUiOiJPbmVzcGFuIiwiaXNfYWN0aXZlIjp0cnVlfV0sImRhdGFfc2NpZW50aXN0IjpbeyJuYW1lIjoiT25lc3BhbiIsImlzX2FjdGl2ZSI6dHJ1ZX1dLCJhbmFseXN0IjpbeyJuYW1lIjoiT25lc3BhbiIsImlzX2FjdGl2ZSI6dHJ1ZX1dfX19fQ.LX5kXKAwLG4mYhOLuScmtIqrtfkRuCe5Wj7vaP29Jp3ElNonuOB79HNbLdaCCdz8tmQ1V8MqZBC7FpauKWBvnt-w5Rl_aS9PERigS2lTGB6-5aHFnwesOkSNXJSJUnls9Yw62Ry5Q3lpGTywHxvVpmf3siJvSw0Fk1wD5V51F1fCY9uO_2NK4KBt9f-a5obscn_i9UeN6D7q6v7ied3LuZ2rpeFcOZdXCK4JoDODtYwgq234DIf-bh7nm2NvuygVjDAb8ldebD5KKjuZ35eN3XvgSUQIG6BlEybD6_TNHuSg329s9FRMuMhkQtAGIIGVJcBZLI7YwvpMOxtNVDLJT7-XdA4tj8AWixQtWsMVz6R5Eh9bjvxEij1K18oYEgcN44Ahpn4677eUtAAf3AJaNTEiIqYcChtPOQpd8f6SwBdlmzqwiaY1QtJemcxJW534OexqERFggjVx9vyPWORLomOCV4qd_7Qo3_KVvfsj5RaF01IwT1DYNYjdSnxa0lHGZF3gSnEDvSnXugphQnWpkHlkUCVU3U0FRwIrGclLg-YzAwdrVxE02JV7qqZnpV4wvsra9lUcMHXBAisjIye1I2JYbNRgx5wkJx4LkwZaLvhAbmNXhaJRofR6zWZNb80CRkFFwLJ_STldRr9Qx6bKe9NsxH7a11eKvWHJUm9GuOE', 'access_token': 'eyJ0eXAiOiJKV1QiLCJhbGciOiJSUzI1NiJ9.eyJ0b2tlbl90eXBlIjoiYWNjZXNzIiwiZXhwIjoxNjQ5NzEwMjMxLCJqdGkiOiJmMTY1NWFiNWViNjU0ODdlODdiZjVjM2EyOTBjY2YzZCIsInVzZXJfaWQiOiJhc2RmQGdtYWlsLmNvbSIsIl9kYXRhIjp7InVzZXIiOnsiZmlyc3RfbmFtZSI6IiIsImxhc3RfbmFtZSI6IiIsInVzZXJuYW1lIjoib25lc3BhbmFkbWluIiwiZW1haWwiOiJhc2RmQGdtYWlsLmNvbSIsIm9yZ2FuaXphdGlvbl9wZXJtaXNzaW9ucyI6eyJhZG1pbiI6W3sibmFtZSI6Ik9uZXNwYW4iLCJpc19hY3RpdmUiOnRydWV9XSwiZGF0YV9zY2llbnRpc3QiOlt7Im5hbWUiOiJPbmVzcGFuIiwiaXNfYWN0aXZlIjp0cnVlfV0sImFuYWx5c3QiOlt7Im5hbWUiOiJPbmVzcGFuIiwiaXNfYWN0aXZlIjp0cnVlfV19fX19.e5RPHDrh_lNVn4dE63_Kprcch-6Rs3diq0dsYFfUSCf7SiUTZ7ExMHw3SzarBIC7Tj9sdz_4tlmyI3X1U7thb6X2FwP25pWUWpYBC77P1MN9z1M3D-yOhlbflW84qlYQJ4JwGuEoKnjvSYWs2JmJM-85jAaps_xUVbN1S9_vJ70EXbB7TVMPLSzbkLfF_CsApe3Amp_8_04bY2hyvcvkevyKW5atyTyZeqVkPWl2xTQBdVoL4ARUrFzEDLQSWWkmkht7KoLratiJpOe45odJwU8IjpaKlUEVRg5S8vlfX09dcsnNaDR-vjV5_-8xInv91jTI29J9Qc1gWCMZ5cGZ4WgG9aoZj3jID9NffjL1JinfnI31Ae-_TxCDzbrK5DJl8zbxl_z815hdQa5mW2QEcgv_qj3NoVbV-hnPOZFoY6MfxzVPkF33rIdOMuXNW_RrUJIWev1U8V5XGwY22yyRj1SqNjnv5J-d-WkKn3W7cI5VItsGJPeEAPYdNYI4ltlfwbfH6t_VRE2huMrwq07cE0_5MQpDdm9qGymFCoy8uXekiGt2UXUdtp7s5q9VI_vhurmH7EmnP8Kvtchh2h1L2a8forXYVYG7qrISHOg1mQsriJ2M-3s60UwsxekapnWbEgQYGQfaWjK6WRckZLEtwonEZ1P-Jt9G91tnm7kvKHk'}\n",
      "Classifier: DecisionTreeClassifier has a training score of 79.2% accuracy score on Mode Fill Smote\n",
      "Classifier: DecisionTreeClassifier has a test score of 75.0% accuracy score on Mode Fill Smote\n",
      "Cookies: {'refresh_token': 'eyJ0eXAiOiJKV1QiLCJhbGciOiJSUzI1NiJ9.eyJ0b2tlbl90eXBlIjoicmVmcmVzaCIsImV4cCI6MTY0OTc3Nzc0MSwianRpIjoiZjE3MjMyYjdjNzA4NGI3Y2IwZTFhZWY0NDU4MmQ2NGMiLCJ1c2VyX2lkIjoiYXNkZkBnbWFpbC5jb20iLCJfZGF0YSI6eyJ1c2VyIjp7ImZpcnN0X25hbWUiOiIiLCJsYXN0X25hbWUiOiIiLCJ1c2VybmFtZSI6Im9uZXNwYW5hZG1pbiIsImVtYWlsIjoiYXNkZkBnbWFpbC5jb20iLCJvcmdhbml6YXRpb25fcGVybWlzc2lvbnMiOnsiYWRtaW4iOlt7Im5hbWUiOiJPbmVzcGFuIiwiaXNfYWN0aXZlIjp0cnVlfV0sImRhdGFfc2NpZW50aXN0IjpbeyJuYW1lIjoiT25lc3BhbiIsImlzX2FjdGl2ZSI6dHJ1ZX1dLCJhbmFseXN0IjpbeyJuYW1lIjoiT25lc3BhbiIsImlzX2FjdGl2ZSI6dHJ1ZX1dfX19fQ.LX5kXKAwLG4mYhOLuScmtIqrtfkRuCe5Wj7vaP29Jp3ElNonuOB79HNbLdaCCdz8tmQ1V8MqZBC7FpauKWBvnt-w5Rl_aS9PERigS2lTGB6-5aHFnwesOkSNXJSJUnls9Yw62Ry5Q3lpGTywHxvVpmf3siJvSw0Fk1wD5V51F1fCY9uO_2NK4KBt9f-a5obscn_i9UeN6D7q6v7ied3LuZ2rpeFcOZdXCK4JoDODtYwgq234DIf-bh7nm2NvuygVjDAb8ldebD5KKjuZ35eN3XvgSUQIG6BlEybD6_TNHuSg329s9FRMuMhkQtAGIIGVJcBZLI7YwvpMOxtNVDLJT7-XdA4tj8AWixQtWsMVz6R5Eh9bjvxEij1K18oYEgcN44Ahpn4677eUtAAf3AJaNTEiIqYcChtPOQpd8f6SwBdlmzqwiaY1QtJemcxJW534OexqERFggjVx9vyPWORLomOCV4qd_7Qo3_KVvfsj5RaF01IwT1DYNYjdSnxa0lHGZF3gSnEDvSnXugphQnWpkHlkUCVU3U0FRwIrGclLg-YzAwdrVxE02JV7qqZnpV4wvsra9lUcMHXBAisjIye1I2JYbNRgx5wkJx4LkwZaLvhAbmNXhaJRofR6zWZNb80CRkFFwLJ_STldRr9Qx6bKe9NsxH7a11eKvWHJUm9GuOE', 'access_token': 'eyJ0eXAiOiJKV1QiLCJhbGciOiJSUzI1NiJ9.eyJ0b2tlbl90eXBlIjoiYWNjZXNzIiwiZXhwIjoxNjQ5NzEwMjMzLCJqdGkiOiJiODgwMWExYjMzODg0MGFjODYyZTE3NzRlMjJjMjY2MiIsInVzZXJfaWQiOiJhc2RmQGdtYWlsLmNvbSIsIl9kYXRhIjp7InVzZXIiOnsiZmlyc3RfbmFtZSI6IiIsImxhc3RfbmFtZSI6IiIsInVzZXJuYW1lIjoib25lc3BhbmFkbWluIiwiZW1haWwiOiJhc2RmQGdtYWlsLmNvbSIsIm9yZ2FuaXphdGlvbl9wZXJtaXNzaW9ucyI6eyJhZG1pbiI6W3sibmFtZSI6Ik9uZXNwYW4iLCJpc19hY3RpdmUiOnRydWV9XSwiZGF0YV9zY2llbnRpc3QiOlt7Im5hbWUiOiJPbmVzcGFuIiwiaXNfYWN0aXZlIjp0cnVlfV0sImFuYWx5c3QiOlt7Im5hbWUiOiJPbmVzcGFuIiwiaXNfYWN0aXZlIjp0cnVlfV19fX19.EpZWH2PZ-55fG5q-DFN_6DzbjCPTy96Qy-j87TBTgoOL_ew_zqbj6DAdFcefIxIEfiMKwk2-7cpO_GR_FJ0Pr5ZdOKaQly4FOVC39vGMPGjr4aW8jVGTvjUirrjlVruhKQlY3kosQXXTFQGJBsf594eZhMQf8GlqdKq8tJOrcd-kUbxMmFmZK8w1YqDcWFHLYV6EldQI-Qi8SsQRJX_BBYh9j_45YPR4GpfzeteP2dRE9m0rjpM33wBOzdk6TD6JUnhjsknvLCXMQFjUOEphMlx3fMA5f6M_UBVs6Ty0y0kx1h_ve0famYCRj57ULu_VaZL0Dizz92x1dCNuikp3wYuNQS80fj2h6ePb7sClnhfK1in1xsouVYgtk5bz_by9MLSUUa9Utu6Ls3ONz2d6DPtDJvt7wzIHvQPbjVrvT2n5zYwnuVdKbU7_jWl90Po8zBznyZ6d3qE3msdSzX9OSTIZv_WSvWoeT-c8MbTBFDM_E6e8iQI43y6broZGQ_qdhTUoxzGgMzwSDOYcCDw6VpD29AqoTbsC4i2EM8d0dVkp36PprMwqrQQtqPqpJcKwetH2-X8YZn2gAOJkHCww0AMqjgwpvq0kJHwUyVxJwT7E__I_zklK0p2_XhopxCarG272-tRjey0JAVjFKvkXh1LIGmA7rsXn909VLuN84gk'}\n",
      "Classifier: GradientBoostingClassifier has a training score of 87.4% accuracy score on Mode Fill Smote\n",
      "Classifier: GradientBoostingClassifier has a test score of 82.0% accuracy score on Mode Fill Smote\n"
     ]
    }
   ],
   "source": [
    "from sklearn.tree import DecisionTreeClassifier\n",
    "from sklearn.ensemble import RandomForestClassifier\n",
    "from sklearn.ensemble import GradientBoostingClassifier\n",
    "from sklearn.model_selection import cross_val_score\n",
    "from sklearn.metrics import accuracy_score\n",
    "\n",
    "classifiers = {\n",
    "    \"RandomForestClassifier\": RandomForestClassifier(),\n",
    "    \"DecisionTreeClassifier\": DecisionTreeClassifier(),\n",
    "    \"GradientBoostingClassifier\": GradientBoostingClassifier()\n",
    "}\n",
    "\n",
    "datasets = [\n",
    "    (\"Const Fill\", (X_train_const, X_test_const, y_train_const, y_test_const)),\n",
    "    (\"Mode Fill\", (X_train_mode, X_test_mode, y_train_mode, y_test_mode)),\n",
    "    (\"Const Fill Smote\", (X_train_const_smote, X_test_const, y_train_const_smote, y_test_const)),\n",
    "    (\"Mode Fill Smote\", (X_train_mode_smote, X_test_mode, y_train_mode_smote, y_test_mode))\n",
    "    ]\n",
    "\n",
    "for name, (X_train, X_test, y_train, y_test) in datasets:\n",
    "\n",
    "    for key, classifier in classifiers.items():\n",
    "        # cross validate to get an idea of generalisation.\n",
    "        training_score = cross_val_score(classifier, X_train, y_train, cv=5)\n",
    "\n",
    "        # train on the full training set\n",
    "        classifier.fit(X_train, y_train)\n",
    "\n",
    "        # upload the fully trained model\n",
    "        seclea.upload_training_run_split(model=classifier, X_train=X_train, y_train=y_train, X_test=X_test, y_test=y_test)\n",
    "\n",
    "        # test accuracy\n",
    "        y_preds = classifier.predict(X_test)\n",
    "        test_score = accuracy_score(y_test, y_preds)\n",
    "        print(f\"Classifier: {classifier.__class__.__name__} has a training score of {round(training_score.mean(), 3) * 100}% accuracy score on {name}\")\n",
    "        print(f\"Classifier: {classifier.__class__.__name__} has a test score of {round(test_score, 3) * 100}% accuracy score on {name}\")"
   ],
   "metadata": {
    "collapsed": false,
    "pycharm": {
     "name": "#%%\n"
    }
   }
  },
  {
   "cell_type": "markdown",
   "source": [
    "## Analysis\n",
    "\n",
    "Head back to [platform.seclea.com](https://platform.seclea.com) and we can analyse our Models\n",
    "\n"
   ],
   "metadata": {
    "collapsed": false,
    "pycharm": {
     "name": "#%% md\n"
    }
   }
  }
 ]
}