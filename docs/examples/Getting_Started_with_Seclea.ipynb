{
  "nbformat": 4,
  "nbformat_minor": 0,
  "metadata": {
    "colab": {
      "name": "Intro to Seclea!",
      "provenance": []
    },
    "kernelspec": {
      "name": "python3",
      "display_name": "Python 3"
    },
    "language_info": {
      "name": "python"
    }
  },
  "cells": [
    {
      "cell_type": "markdown",
      "metadata": {
        "id": "6AKWMSQcKXg0"
      },
      "source": [
        "First things first, you will need a Google account for this tutorial so that you can mount your Google Drive to this Colab notebook. \n",
        "\n",
        "If you do not have one then now is a good time to get one. Once you have created it return here and run the following cell. \n",
        "- It will prompt you to login and authorize mounting Google Drive. \n",
        "- Select the account to link the drive and follow the prompts.\n",
        "\n",
        "At this point you should also navigate to platform.seclea.com and log in with your credentials. Raise any issues now."
      ]
    },
    {
      "cell_type": "code",
      "metadata": {
        "id": "T4mu_2hUJ7x8",
        "colab": {
          "base_uri": "https://localhost:8080/"
        },
        "outputId": "24a1031f-e649-4b0b-bf58-18ec68e64acb"
      },
      "source": [
        "project_name = \"insurance_fraud\"\n",
        "\n",
        "# Google Colab\n",
        "try:\n",
        "    from google.colab import drive\n",
        "    drive.mount('/content/gdrive')\n",
        "    import os\n",
        "    os.environ['KAGGLE_CONFIG_DIR'] = \"/content/gdrive/My Drive/seclea/kaggle\"\n",
        "    # /content/gdrive/My Drive/Kaggle is the path where kaggle.json is present in the Google Drive\n",
        "    # changing the working directory\n",
        "    !mkdir /content/gdrive/MyDrive/seclea/\n",
        "    !mkdir \"/content/gdrive/MyDrive/seclea/{project_name}\"\n",
        "    %cd \"/content/gdrive/MyDrive/seclea/{project_name}\"\n",
        "    print(\"Running on Colab, mounted drive and set kaggle path.\")\n",
        "except Exception:\n",
        "    # not on Colab, do nothing.\n",
        "    print(\"Running locally\")\n",
        "    pass"
      ],
      "execution_count": null,
      "outputs": [
        {
          "output_type": "stream",
          "name": "stdout",
          "text": [
            "Mounted at /content/gdrive\n",
            "mkdir: cannot create directory ‘/content/gdrive/MyDrive/seclea/’: File exists\n",
            "mkdir: cannot create directory ‘/content/gdrive/MyDrive/seclea/insurance_fraud’: File exists\n",
            "/content/gdrive/MyDrive/seclea/insurance_fraud\n",
            "Running on Colab, mounted drive and set kaggle path.\n"
          ]
        }
      ]
    },
    {
      "cell_type": "markdown",
      "metadata": {
        "id": "RJeRSsumM75t"
      },
      "source": [
        "##1.Overview of the Tutorial"
      ]
    },
    {
      "cell_type": "markdown",
      "metadata": {
        "id": "8QvVXpxNrHLQ"
      },
      "source": [
        "\n",
        "This tutorial is designed to familiarise students with using the Seclea AI platform. \n",
        "\n",
        "In this tutorial, we will be using a dataset of auto insurance claims as insurance fraud is a huge problem in the industry. It's time consuming and can be complicated to identify and separate fraudulent claims from legitimate ones making it a good candidate for applying ML techniques. This dataset provides you with information about the fraud claims. In this dataset we will be using the following techniques:\n",
        "\n",
        "\n",
        "1. Data processing techniques \n",
        "2. Data balancing techniques \n",
        "3. Models to predict if an insurance claim is fraudulent or not. \n",
        "\n",
        "We have created two datasets using two different techniques of dealing with Nan values then we treat one dataset with balancing techniques and leave the other without using balancing techniques. Then we train three different models on each dataset. "
      ]
    },
    {
      "cell_type": "markdown",
      "metadata": {
        "id": "9iuZES5tKxGD"
      },
      "source": [
        "# 2.Download the data\n"
      ]
    },
    {
      "cell_type": "code",
      "metadata": {
        "id": "KDbm75P5KrZZ",
        "colab": {
          "base_uri": "https://localhost:8080/"
        },
        "outputId": "6a097169-5bc0-4872-de7b-bbf4059a4f56"
      },
      "source": [
        "!ls "
      ],
      "execution_count": null,
      "outputs": [
        {
          "output_type": "stream",
          "name": "stdout",
          "text": [
            "insurance_claims.csv\n"
          ]
        }
      ]
    },
    {
      "cell_type": "markdown",
      "metadata": {
        "id": "mxJRXOM6LDnx"
      },
      "source": [
        "The data needs to be downloaded using Kaggle. In order to download you will first need to set up access to kaggle.\n",
        "\n",
        "- Once you have logged in to your account, click on your profile (originally a goose) in the top right corner. \n",
        "- Select Your Profile\n",
        "- Select the Account tab in that page\n",
        "- Scroll down to the API section and click the Create New API Token button. A file named kaggle.json will be downloaded.\n",
        "- Move that file to your Google Drive in the following location\n",
        "  - The seclea folder inside another folder called kaggle. If it does not already exist then create it.\n",
        "  - The full path should be MyDrive/seclea/kaggle/kaggle.json\n",
        "\n",
        "After placing the file run the following cells to download the dataset we will be working with."
      ]
    },
    {
      "cell_type": "code",
      "metadata": {
        "colab": {
          "base_uri": "https://localhost:8080/"
        },
        "id": "YbaQywm0K8X1",
        "outputId": "4b427094-aefb-4d07-ffa5-4bfbb47d0712"
      },
      "source": [
        "!pip install kaggle\n",
        "!pip install --upgrade seclea-ai"
      ],
      "execution_count": null,
      "outputs": [
        {
          "output_type": "stream",
          "name": "stdout",
          "text": [
            "Requirement already satisfied: kaggle in /usr/local/lib/python3.7/dist-packages (1.5.12)\n",
            "Requirement already satisfied: urllib3 in /usr/local/lib/python3.7/dist-packages (from kaggle) (1.24.3)\n",
            "Requirement already satisfied: tqdm in /usr/local/lib/python3.7/dist-packages (from kaggle) (4.62.3)\n",
            "Requirement already satisfied: certifi in /usr/local/lib/python3.7/dist-packages (from kaggle) (2021.10.8)\n",
            "Requirement already satisfied: requests in /usr/local/lib/python3.7/dist-packages (from kaggle) (2.23.0)\n",
            "Requirement already satisfied: python-slugify in /usr/local/lib/python3.7/dist-packages (from kaggle) (5.0.2)\n",
            "Requirement already satisfied: six>=1.10 in /usr/local/lib/python3.7/dist-packages (from kaggle) (1.15.0)\n",
            "Requirement already satisfied: python-dateutil in /usr/local/lib/python3.7/dist-packages (from kaggle) (2.8.2)\n",
            "Requirement already satisfied: text-unidecode>=1.3 in /usr/local/lib/python3.7/dist-packages (from python-slugify->kaggle) (1.3)\n",
            "Requirement already satisfied: chardet<4,>=3.0.2 in /usr/local/lib/python3.7/dist-packages (from requests->kaggle) (3.0.4)\n",
            "Requirement already satisfied: idna<3,>=2.5 in /usr/local/lib/python3.7/dist-packages (from requests->kaggle) (2.10)\n",
            "Collecting seclea-ai\n",
            "  Downloading seclea_ai-0.0.33-py3-none-any.whl (12 kB)\n",
            "Requirement already satisfied: pandas>=1.1.0 in /usr/local/lib/python3.7/dist-packages (from seclea-ai) (1.1.5)\n",
            "Collecting seclea-utils>=0.0.45\n",
            "  Downloading seclea_utils-0.0.52-py3-none-any.whl (15 kB)\n",
            "Collecting pickleDB>=0.9.2\n",
            "  Downloading pickleDB-0.9.2.tar.gz (3.7 kB)\n",
            "Requirement already satisfied: numpy>=1.15.4 in /usr/local/lib/python3.7/dist-packages (from pandas>=1.1.0->seclea-ai) (1.19.5)\n",
            "Requirement already satisfied: python-dateutil>=2.7.3 in /usr/local/lib/python3.7/dist-packages (from pandas>=1.1.0->seclea-ai) (2.8.2)\n",
            "Requirement already satisfied: pytz>=2017.2 in /usr/local/lib/python3.7/dist-packages (from pandas>=1.1.0->seclea-ai) (2018.9)\n",
            "Requirement already satisfied: six>=1.5 in /usr/local/lib/python3.7/dist-packages (from python-dateutil>=2.7.3->pandas>=1.1.0->seclea-ai) (1.15.0)\n",
            "Collecting ujson>=4.0.2\n",
            "  Downloading ujson-4.3.0-cp37-cp37m-manylinux_2_17_x86_64.manylinux2014_x86_64.whl (216 kB)\n",
            "\u001b[K     |████████████████████████████████| 216 kB 7.1 MB/s \n",
            "\u001b[?25hCollecting urllib3>=1.25.8\n",
            "  Downloading urllib3-1.26.7-py2.py3-none-any.whl (138 kB)\n",
            "\u001b[K     |████████████████████████████████| 138 kB 67.2 MB/s \n",
            "\u001b[?25hCollecting zstandard>=0.15.2\n",
            "  Downloading zstandard-0.16.0-cp37-cp37m-manylinux_2_17_x86_64.manylinux2014_x86_64.whl (2.9 MB)\n",
            "\u001b[K     |████████████████████████████████| 2.9 MB 57.0 MB/s \n",
            "\u001b[?25hRequirement already satisfied: requests>=2.22.0 in /usr/local/lib/python3.7/dist-packages (from seclea-utils>=0.0.45->seclea-ai) (2.23.0)\n",
            "Requirement already satisfied: certifi>=2017.4.17 in /usr/local/lib/python3.7/dist-packages (from requests>=2.22.0->seclea-utils>=0.0.45->seclea-ai) (2021.10.8)\n",
            "Requirement already satisfied: chardet<4,>=3.0.2 in /usr/local/lib/python3.7/dist-packages (from requests>=2.22.0->seclea-utils>=0.0.45->seclea-ai) (3.0.4)\n",
            "Requirement already satisfied: idna<3,>=2.5 in /usr/local/lib/python3.7/dist-packages (from requests>=2.22.0->seclea-utils>=0.0.45->seclea-ai) (2.10)\n",
            "Collecting urllib3>=1.25.8\n",
            "  Downloading urllib3-1.25.11-py2.py3-none-any.whl (127 kB)\n",
            "\u001b[K     |████████████████████████████████| 127 kB 56.4 MB/s \n",
            "\u001b[?25hBuilding wheels for collected packages: pickleDB\n",
            "  Building wheel for pickleDB (setup.py) ... \u001b[?25l\u001b[?25hdone\n",
            "  Created wheel for pickleDB: filename=pickleDB-0.9.2-py3-none-any.whl size=4268 sha256=1c08ba023e01d36ac6027c5272b1df4f798f3b92d36d51a39ca8024bc5fe30ec\n",
            "  Stored in directory: /root/.cache/pip/wheels/08/34/42/9a7f94099208ce3d32638d98586a5a50f821db2fc75a3bdaae\n",
            "Successfully built pickleDB\n",
            "Installing collected packages: urllib3, zstandard, ujson, seclea-utils, pickleDB, seclea-ai\n",
            "  Attempting uninstall: urllib3\n",
            "    Found existing installation: urllib3 1.24.3\n",
            "    Uninstalling urllib3-1.24.3:\n",
            "      Successfully uninstalled urllib3-1.24.3\n",
            "\u001b[31mERROR: pip's dependency resolver does not currently take into account all the packages that are installed. This behaviour is the source of the following dependency conflicts.\n",
            "datascience 0.10.6 requires folium==0.2.1, but you have folium 0.8.3 which is incompatible.\u001b[0m\n",
            "Successfully installed pickleDB-0.9.2 seclea-ai-0.0.33 seclea-utils-0.0.52 ujson-4.3.0 urllib3-1.25.11 zstandard-0.16.0\n"
          ]
        }
      ]
    },
    {
      "cell_type": "code",
      "metadata": {
        "colab": {
          "base_uri": "https://localhost:8080/"
        },
        "id": "gZtITw37LJ1p",
        "outputId": "15700311-aca3-4091-d63f-7bfff82cb431"
      },
      "source": [
        "!kaggle datasets download -d buntyshah/auto-insurance-claims-data "
      ],
      "execution_count": null,
      "outputs": [
        {
          "output_type": "stream",
          "name": "stdout",
          "text": [
            "Downloading auto-insurance-claims-data.zip to /content/gdrive/MyDrive/seclea/insurance_fraud\n",
            "\r  0% 0.00/67.4k [00:00<?, ?B/s]\n",
            "\r100% 67.4k/67.4k [00:00<00:00, 9.24MB/s]\n"
          ]
        }
      ]
    },
    {
      "cell_type": "code",
      "metadata": {
        "colab": {
          "base_uri": "https://localhost:8080/"
        },
        "id": "GNoNTBisLOIy",
        "outputId": "7a834151-4877-452f-90dc-e05793569682"
      },
      "source": [
        "!unzip \\*.zip  && rm *.zip"
      ],
      "execution_count": null,
      "outputs": [
        {
          "output_type": "stream",
          "name": "stdout",
          "text": [
            "Archive:  auto-insurance-claims-data.zip\n",
            "replace insurance_claims.csv? [y]es, [n]o, [A]ll, [N]one, [r]ename: y\n",
            "  inflating: insurance_claims.csv    \n"
          ]
        }
      ]
    },
    {
      "cell_type": "markdown",
      "metadata": {
        "id": "RyKa-ktC_k7A"
      },
      "source": [
        "#3.Load Auto Insurance Dataset\n",
        "\n",
        "\n"
      ]
    },
    {
      "cell_type": "markdown",
      "metadata": {
        "id": "QGBOci4jvM3u"
      },
      "source": [
        "Now we need to load the data into Pandas so that we can start analysing and preparing it for modelling. \n",
        "\n",
        "At this time we also need to upload the data in its initial state to the Seclea Platform. This should include whatever information we know about the dataset at this point as metadata.\n",
        "\n",
        "- You need to fill in the \"continuous_features\" section of the metadata using the information available in kaggle. Find the dataset information here www.kaggle.com/buntyshah/auto-insurance-claims-data\n",
        "\n",
        "Here you will also have to log in to the Platform using the credentials given to you."
      ]
    },
    {
      "cell_type": "code",
      "metadata": {
        "id": "Nzt4VMzvLTdV",
        "colab": {
          "base_uri": "https://localhost:8080/",
          "height": 416
        },
        "outputId": "1a796320-f895-48a1-9aec-ffa3d33f83cd"
      },
      "source": [
        "#Importing the libraries\n",
        "import numpy as np\n",
        "import pandas as pd\n",
        "import seaborn as sns\n",
        "import matplotlib.pyplot as plt\n",
        "from seclea_ai import SecleaAI\n",
        "\n",
        "# load the data \n",
        "df=pd.read_csv('insurance_claims.csv')\n",
        "\n",
        "# upload the data in its initial state to the Seclea Platform\n",
        "seclea = SecleaAI(project_name=\"Tutorial Auto Insurance Fraud\", organization='University of Aberdeen')\n",
        "\n",
        "dataset_metadata = {\"index\": None, \n",
        "                    \"outcome_name\": \"fraud_reported\", \n",
        "                    \"continuous_features\": [\n",
        "                                            # \"total_claim_amount\", Susmita they will fill in this section.\n",
        "                                            # 'policy_annual_premium',\n",
        "                                            # 'capital-gains',\n",
        "                                            # 'capital-loss',\n",
        "                                            # 'injury_claim',\n",
        "                                            # 'property_claim',\n",
        "                                            # 'vehicle_claim',\n",
        "                                            # 'incident_hour_of_the_day',\n",
        "                                            ]}\n",
        "\n",
        "seclea.upload_dataset(dataset=df, dataset_name=\"Auto Insurance Fraud\", metadata=dataset_metadata)\n"
      ],
      "execution_count": null,
      "outputs": [
        {
          "output_type": "error",
          "ename": "ValueError",
          "evalue": "ignored",
          "traceback": [
            "\u001b[0;31m---------------------------------------------------------------------------\u001b[0m",
            "\u001b[0;31mValueError\u001b[0m                                Traceback (most recent call last)",
            "\u001b[0;32m<ipython-input-58-4cf9b1e3119d>\u001b[0m in \u001b[0;36m<module>\u001b[0;34m()\u001b[0m\n\u001b[1;32m     10\u001b[0m \u001b[0;34m\u001b[0m\u001b[0m\n\u001b[1;32m     11\u001b[0m \u001b[0;31m# upload the data in its initial state to the Seclea Platform\u001b[0m\u001b[0;34m\u001b[0m\u001b[0;34m\u001b[0m\u001b[0;34m\u001b[0m\u001b[0m\n\u001b[0;32m---> 12\u001b[0;31m \u001b[0mseclea\u001b[0m \u001b[0;34m=\u001b[0m \u001b[0mSecleaAI\u001b[0m\u001b[0;34m(\u001b[0m\u001b[0mproject_name\u001b[0m\u001b[0;34m=\u001b[0m\u001b[0;34m\"Tutorial Auto Insurance Fraud\"\u001b[0m\u001b[0;34m,\u001b[0m \u001b[0morganization\u001b[0m\u001b[0;34m=\u001b[0m\u001b[0;34m'University of Aberdeen'\u001b[0m\u001b[0;34m)\u001b[0m\u001b[0;34m\u001b[0m\u001b[0;34m\u001b[0m\u001b[0m\n\u001b[0m\u001b[1;32m     13\u001b[0m \u001b[0;34m\u001b[0m\u001b[0m\n\u001b[1;32m     14\u001b[0m dataset_metadata = {\"index\": None, \n",
            "\u001b[0;32m/usr/local/lib/python3.7/dist-packages/seclea_ai/seclea_ai.py\u001b[0m in \u001b[0;36m__init__\u001b[0;34m(self, project_name, organization, platform_url, auth_url, username, password)\u001b[0m\n\u001b[1;32m     88\u001b[0m         \u001b[0mself\u001b[0m\u001b[0;34m.\u001b[0m\u001b[0m_training_run\u001b[0m \u001b[0;34m=\u001b[0m \u001b[0;32mNone\u001b[0m\u001b[0;34m\u001b[0m\u001b[0;34m\u001b[0m\u001b[0m\n\u001b[1;32m     89\u001b[0m         \u001b[0mself\u001b[0m\u001b[0;34m.\u001b[0m\u001b[0m_cache_dir\u001b[0m \u001b[0;34m=\u001b[0m \u001b[0mos\u001b[0m\u001b[0;34m.\u001b[0m\u001b[0mpath\u001b[0m\u001b[0;34m.\u001b[0m\u001b[0mjoin\u001b[0m\u001b[0;34m(\u001b[0m\u001b[0mPath\u001b[0m\u001b[0;34m.\u001b[0m\u001b[0mhome\u001b[0m\u001b[0;34m(\u001b[0m\u001b[0;34m)\u001b[0m\u001b[0;34m,\u001b[0m \u001b[0;34mf\".seclea/{self._project_name}\"\u001b[0m\u001b[0;34m)\u001b[0m\u001b[0;34m\u001b[0m\u001b[0;34m\u001b[0m\u001b[0m\n\u001b[0;32m---> 90\u001b[0;31m         \u001b[0mself\u001b[0m\u001b[0;34m.\u001b[0m\u001b[0m_init_project\u001b[0m\u001b[0;34m(\u001b[0m\u001b[0mproject_name\u001b[0m\u001b[0;34m=\u001b[0m\u001b[0mproject_name\u001b[0m\u001b[0;34m)\u001b[0m\u001b[0;34m\u001b[0m\u001b[0;34m\u001b[0m\u001b[0m\n\u001b[0m\u001b[1;32m     91\u001b[0m         \u001b[0mprint\u001b[0m\u001b[0;34m(\u001b[0m\u001b[0;34m\"success\"\u001b[0m\u001b[0;34m)\u001b[0m\u001b[0;34m\u001b[0m\u001b[0;34m\u001b[0m\u001b[0m\n\u001b[1;32m     92\u001b[0m \u001b[0;34m\u001b[0m\u001b[0m\n",
            "\u001b[0;32m/usr/local/lib/python3.7/dist-packages/seclea_ai/seclea_ai.py\u001b[0m in \u001b[0;36m_init_project\u001b[0;34m(self, project_name)\u001b[0m\n\u001b[1;32m    305\u001b[0m         \u001b[0;34m:\u001b[0m\u001b[0;32mreturn\u001b[0m\u001b[0;34m:\u001b[0m \u001b[0;32mNone\u001b[0m\u001b[0;34m\u001b[0m\u001b[0;34m\u001b[0m\u001b[0m\n\u001b[1;32m    306\u001b[0m         \"\"\"\n\u001b[0;32m--> 307\u001b[0;31m         \u001b[0mself\u001b[0m\u001b[0;34m.\u001b[0m\u001b[0m_project\u001b[0m \u001b[0;34m=\u001b[0m \u001b[0mself\u001b[0m\u001b[0;34m.\u001b[0m\u001b[0m_get_project\u001b[0m\u001b[0;34m(\u001b[0m\u001b[0mproject_name\u001b[0m\u001b[0;34m)\u001b[0m\u001b[0;34m\u001b[0m\u001b[0;34m\u001b[0m\u001b[0m\n\u001b[0m\u001b[1;32m    308\u001b[0m         \u001b[0;32mif\u001b[0m \u001b[0mself\u001b[0m\u001b[0;34m.\u001b[0m\u001b[0m_project\u001b[0m \u001b[0;32mis\u001b[0m \u001b[0;32mNone\u001b[0m\u001b[0;34m:\u001b[0m\u001b[0;34m\u001b[0m\u001b[0;34m\u001b[0m\u001b[0m\n\u001b[1;32m    309\u001b[0m             \u001b[0mproj_res\u001b[0m \u001b[0;34m=\u001b[0m \u001b[0mself\u001b[0m\u001b[0;34m.\u001b[0m\u001b[0m_create_project\u001b[0m\u001b[0;34m(\u001b[0m\u001b[0mproject_name\u001b[0m\u001b[0;34m=\u001b[0m\u001b[0mproject_name\u001b[0m\u001b[0;34m)\u001b[0m\u001b[0;34m\u001b[0m\u001b[0;34m\u001b[0m\u001b[0m\n",
            "\u001b[0;32m/usr/local/lib/python3.7/dist-packages/seclea_ai/seclea_ai.py\u001b[0m in \u001b[0;36m_get_project\u001b[0;34m(self, project_name)\u001b[0m\n\u001b[1;32m    333\u001b[0m         )\n\u001b[1;32m    334\u001b[0m         handle_response(\n\u001b[0;32m--> 335\u001b[0;31m             \u001b[0mproject_res\u001b[0m\u001b[0;34m,\u001b[0m \u001b[0;36m200\u001b[0m\u001b[0;34m,\u001b[0m \u001b[0;34mf\"There was an issue getting the projects: {project_res.text}\"\u001b[0m\u001b[0;34m\u001b[0m\u001b[0;34m\u001b[0m\u001b[0m\n\u001b[0m\u001b[1;32m    336\u001b[0m         )\n\u001b[1;32m    337\u001b[0m         \u001b[0;32mif\u001b[0m \u001b[0mlen\u001b[0m\u001b[0;34m(\u001b[0m\u001b[0mproject_res\u001b[0m\u001b[0;34m.\u001b[0m\u001b[0mjson\u001b[0m\u001b[0;34m(\u001b[0m\u001b[0;34m)\u001b[0m\u001b[0;34m)\u001b[0m \u001b[0;34m==\u001b[0m \u001b[0;36m0\u001b[0m\u001b[0;34m:\u001b[0m\u001b[0;34m\u001b[0m\u001b[0;34m\u001b[0m\u001b[0m\n",
            "\u001b[0;32m/usr/local/lib/python3.7/dist-packages/seclea_ai/seclea_ai.py\u001b[0m in \u001b[0;36mhandle_response\u001b[0;34m(res, expected, msg)\u001b[0m\n\u001b[1;32m     43\u001b[0m     \u001b[0;32mif\u001b[0m \u001b[0;32mnot\u001b[0m \u001b[0mres\u001b[0m\u001b[0;34m.\u001b[0m\u001b[0mstatus_code\u001b[0m \u001b[0;34m==\u001b[0m \u001b[0mexpected\u001b[0m\u001b[0;34m:\u001b[0m\u001b[0;34m\u001b[0m\u001b[0;34m\u001b[0m\u001b[0m\n\u001b[1;32m     44\u001b[0m         raise ValueError(\n\u001b[0;32m---> 45\u001b[0;31m             \u001b[0;34mf\"Response Status code {res.status_code}, expected:{expected}. \\n{msg} - {res.reason} - {res.text}\"\u001b[0m\u001b[0;34m\u001b[0m\u001b[0;34m\u001b[0m\u001b[0m\n\u001b[0m\u001b[1;32m     46\u001b[0m         )\n\u001b[1;32m     47\u001b[0m     \u001b[0;32mreturn\u001b[0m \u001b[0mres\u001b[0m\u001b[0;34m\u001b[0m\u001b[0;34m\u001b[0m\u001b[0m\n",
            "\u001b[0;31mValueError\u001b[0m: Response Status code 403, expected:200. \nThere was an issue getting the projects: {\"detail\":\"Failed to retrieve specified organization: University of Aberdeen\"} - Forbidden - {\"detail\":\"Failed to retrieve specified organization: University of Aberdeen\"}"
          ]
        }
      ]
    },
    {
      "cell_type": "code",
      "metadata": {
        "colab": {
          "base_uri": "https://localhost:8080/",
          "height": 296
        },
        "id": "Smo6hiYyLdPi",
        "outputId": "58ba2922-03d5-47da-ddd8-3822a1c59087"
      },
      "source": [
        "# Check first 5 rows \n",
        "df.head(5)"
      ],
      "execution_count": null,
      "outputs": [
        {
          "output_type": "execute_result",
          "data": {
            "text/html": [
              "<div>\n",
              "<style scoped>\n",
              "    .dataframe tbody tr th:only-of-type {\n",
              "        vertical-align: middle;\n",
              "    }\n",
              "\n",
              "    .dataframe tbody tr th {\n",
              "        vertical-align: top;\n",
              "    }\n",
              "\n",
              "    .dataframe thead th {\n",
              "        text-align: right;\n",
              "    }\n",
              "</style>\n",
              "<table border=\"1\" class=\"dataframe\">\n",
              "  <thead>\n",
              "    <tr style=\"text-align: right;\">\n",
              "      <th></th>\n",
              "      <th>months_as_customer</th>\n",
              "      <th>age</th>\n",
              "      <th>policy_number</th>\n",
              "      <th>policy_bind_date</th>\n",
              "      <th>policy_state</th>\n",
              "      <th>policy_csl</th>\n",
              "      <th>policy_deductable</th>\n",
              "      <th>policy_annual_premium</th>\n",
              "      <th>umbrella_limit</th>\n",
              "      <th>insured_zip</th>\n",
              "      <th>insured_sex</th>\n",
              "      <th>insured_education_level</th>\n",
              "      <th>insured_occupation</th>\n",
              "      <th>insured_hobbies</th>\n",
              "      <th>insured_relationship</th>\n",
              "      <th>capital-gains</th>\n",
              "      <th>capital-loss</th>\n",
              "      <th>incident_date</th>\n",
              "      <th>incident_type</th>\n",
              "      <th>collision_type</th>\n",
              "      <th>incident_severity</th>\n",
              "      <th>authorities_contacted</th>\n",
              "      <th>incident_state</th>\n",
              "      <th>incident_city</th>\n",
              "      <th>incident_location</th>\n",
              "      <th>incident_hour_of_the_day</th>\n",
              "      <th>number_of_vehicles_involved</th>\n",
              "      <th>property_damage</th>\n",
              "      <th>bodily_injuries</th>\n",
              "      <th>witnesses</th>\n",
              "      <th>police_report_available</th>\n",
              "      <th>total_claim_amount</th>\n",
              "      <th>injury_claim</th>\n",
              "      <th>property_claim</th>\n",
              "      <th>vehicle_claim</th>\n",
              "      <th>auto_make</th>\n",
              "      <th>auto_model</th>\n",
              "      <th>auto_year</th>\n",
              "      <th>fraud_reported</th>\n",
              "      <th>_c39</th>\n",
              "    </tr>\n",
              "  </thead>\n",
              "  <tbody>\n",
              "    <tr>\n",
              "      <th>0</th>\n",
              "      <td>328</td>\n",
              "      <td>48</td>\n",
              "      <td>521585</td>\n",
              "      <td>2014-10-17</td>\n",
              "      <td>OH</td>\n",
              "      <td>250/500</td>\n",
              "      <td>1000</td>\n",
              "      <td>1406.91</td>\n",
              "      <td>0</td>\n",
              "      <td>466132</td>\n",
              "      <td>MALE</td>\n",
              "      <td>MD</td>\n",
              "      <td>craft-repair</td>\n",
              "      <td>sleeping</td>\n",
              "      <td>husband</td>\n",
              "      <td>53300</td>\n",
              "      <td>0</td>\n",
              "      <td>2015-01-25</td>\n",
              "      <td>Single Vehicle Collision</td>\n",
              "      <td>Side Collision</td>\n",
              "      <td>Major Damage</td>\n",
              "      <td>Police</td>\n",
              "      <td>SC</td>\n",
              "      <td>Columbus</td>\n",
              "      <td>9935 4th Drive</td>\n",
              "      <td>5</td>\n",
              "      <td>1</td>\n",
              "      <td>YES</td>\n",
              "      <td>1</td>\n",
              "      <td>2</td>\n",
              "      <td>YES</td>\n",
              "      <td>71610</td>\n",
              "      <td>6510</td>\n",
              "      <td>13020</td>\n",
              "      <td>52080</td>\n",
              "      <td>Saab</td>\n",
              "      <td>92x</td>\n",
              "      <td>2004</td>\n",
              "      <td>Y</td>\n",
              "      <td>NaN</td>\n",
              "    </tr>\n",
              "    <tr>\n",
              "      <th>1</th>\n",
              "      <td>228</td>\n",
              "      <td>42</td>\n",
              "      <td>342868</td>\n",
              "      <td>2006-06-27</td>\n",
              "      <td>IN</td>\n",
              "      <td>250/500</td>\n",
              "      <td>2000</td>\n",
              "      <td>1197.22</td>\n",
              "      <td>5000000</td>\n",
              "      <td>468176</td>\n",
              "      <td>MALE</td>\n",
              "      <td>MD</td>\n",
              "      <td>machine-op-inspct</td>\n",
              "      <td>reading</td>\n",
              "      <td>other-relative</td>\n",
              "      <td>0</td>\n",
              "      <td>0</td>\n",
              "      <td>2015-01-21</td>\n",
              "      <td>Vehicle Theft</td>\n",
              "      <td>?</td>\n",
              "      <td>Minor Damage</td>\n",
              "      <td>Police</td>\n",
              "      <td>VA</td>\n",
              "      <td>Riverwood</td>\n",
              "      <td>6608 MLK Hwy</td>\n",
              "      <td>8</td>\n",
              "      <td>1</td>\n",
              "      <td>?</td>\n",
              "      <td>0</td>\n",
              "      <td>0</td>\n",
              "      <td>?</td>\n",
              "      <td>5070</td>\n",
              "      <td>780</td>\n",
              "      <td>780</td>\n",
              "      <td>3510</td>\n",
              "      <td>Mercedes</td>\n",
              "      <td>E400</td>\n",
              "      <td>2007</td>\n",
              "      <td>Y</td>\n",
              "      <td>NaN</td>\n",
              "    </tr>\n",
              "    <tr>\n",
              "      <th>2</th>\n",
              "      <td>134</td>\n",
              "      <td>29</td>\n",
              "      <td>687698</td>\n",
              "      <td>2000-09-06</td>\n",
              "      <td>OH</td>\n",
              "      <td>100/300</td>\n",
              "      <td>2000</td>\n",
              "      <td>1413.14</td>\n",
              "      <td>5000000</td>\n",
              "      <td>430632</td>\n",
              "      <td>FEMALE</td>\n",
              "      <td>PhD</td>\n",
              "      <td>sales</td>\n",
              "      <td>board-games</td>\n",
              "      <td>own-child</td>\n",
              "      <td>35100</td>\n",
              "      <td>0</td>\n",
              "      <td>2015-02-22</td>\n",
              "      <td>Multi-vehicle Collision</td>\n",
              "      <td>Rear Collision</td>\n",
              "      <td>Minor Damage</td>\n",
              "      <td>Police</td>\n",
              "      <td>NY</td>\n",
              "      <td>Columbus</td>\n",
              "      <td>7121 Francis Lane</td>\n",
              "      <td>7</td>\n",
              "      <td>3</td>\n",
              "      <td>NO</td>\n",
              "      <td>2</td>\n",
              "      <td>3</td>\n",
              "      <td>NO</td>\n",
              "      <td>34650</td>\n",
              "      <td>7700</td>\n",
              "      <td>3850</td>\n",
              "      <td>23100</td>\n",
              "      <td>Dodge</td>\n",
              "      <td>RAM</td>\n",
              "      <td>2007</td>\n",
              "      <td>N</td>\n",
              "      <td>NaN</td>\n",
              "    </tr>\n",
              "    <tr>\n",
              "      <th>3</th>\n",
              "      <td>256</td>\n",
              "      <td>41</td>\n",
              "      <td>227811</td>\n",
              "      <td>1990-05-25</td>\n",
              "      <td>IL</td>\n",
              "      <td>250/500</td>\n",
              "      <td>2000</td>\n",
              "      <td>1415.74</td>\n",
              "      <td>6000000</td>\n",
              "      <td>608117</td>\n",
              "      <td>FEMALE</td>\n",
              "      <td>PhD</td>\n",
              "      <td>armed-forces</td>\n",
              "      <td>board-games</td>\n",
              "      <td>unmarried</td>\n",
              "      <td>48900</td>\n",
              "      <td>-62400</td>\n",
              "      <td>2015-01-10</td>\n",
              "      <td>Single Vehicle Collision</td>\n",
              "      <td>Front Collision</td>\n",
              "      <td>Major Damage</td>\n",
              "      <td>Police</td>\n",
              "      <td>OH</td>\n",
              "      <td>Arlington</td>\n",
              "      <td>6956 Maple Drive</td>\n",
              "      <td>5</td>\n",
              "      <td>1</td>\n",
              "      <td>?</td>\n",
              "      <td>1</td>\n",
              "      <td>2</td>\n",
              "      <td>NO</td>\n",
              "      <td>63400</td>\n",
              "      <td>6340</td>\n",
              "      <td>6340</td>\n",
              "      <td>50720</td>\n",
              "      <td>Chevrolet</td>\n",
              "      <td>Tahoe</td>\n",
              "      <td>2014</td>\n",
              "      <td>Y</td>\n",
              "      <td>NaN</td>\n",
              "    </tr>\n",
              "    <tr>\n",
              "      <th>4</th>\n",
              "      <td>228</td>\n",
              "      <td>44</td>\n",
              "      <td>367455</td>\n",
              "      <td>2014-06-06</td>\n",
              "      <td>IL</td>\n",
              "      <td>500/1000</td>\n",
              "      <td>1000</td>\n",
              "      <td>1583.91</td>\n",
              "      <td>6000000</td>\n",
              "      <td>610706</td>\n",
              "      <td>MALE</td>\n",
              "      <td>Associate</td>\n",
              "      <td>sales</td>\n",
              "      <td>board-games</td>\n",
              "      <td>unmarried</td>\n",
              "      <td>66000</td>\n",
              "      <td>-46000</td>\n",
              "      <td>2015-02-17</td>\n",
              "      <td>Vehicle Theft</td>\n",
              "      <td>?</td>\n",
              "      <td>Minor Damage</td>\n",
              "      <td>None</td>\n",
              "      <td>NY</td>\n",
              "      <td>Arlington</td>\n",
              "      <td>3041 3rd Ave</td>\n",
              "      <td>20</td>\n",
              "      <td>1</td>\n",
              "      <td>NO</td>\n",
              "      <td>0</td>\n",
              "      <td>1</td>\n",
              "      <td>NO</td>\n",
              "      <td>6500</td>\n",
              "      <td>1300</td>\n",
              "      <td>650</td>\n",
              "      <td>4550</td>\n",
              "      <td>Accura</td>\n",
              "      <td>RSX</td>\n",
              "      <td>2009</td>\n",
              "      <td>N</td>\n",
              "      <td>NaN</td>\n",
              "    </tr>\n",
              "  </tbody>\n",
              "</table>\n",
              "</div>"
            ],
            "text/plain": [
              "   months_as_customer  age  policy_number  ... auto_year fraud_reported _c39\n",
              "0                 328   48         521585  ...      2004              Y  NaN\n",
              "1                 228   42         342868  ...      2007              Y  NaN\n",
              "2                 134   29         687698  ...      2007              N  NaN\n",
              "3                 256   41         227811  ...      2014              Y  NaN\n",
              "4                 228   44         367455  ...      2009              N  NaN\n",
              "\n",
              "[5 rows x 40 columns]"
            ]
          },
          "metadata": {},
          "execution_count": 7
        }
      ]
    },
    {
      "cell_type": "code",
      "metadata": {
        "colab": {
          "base_uri": "https://localhost:8080/"
        },
        "id": "lR7UPkGpLdgx",
        "outputId": "c5874217-2c7d-498b-9b54-7adee8e72aea"
      },
      "source": [
        "#Check and correct data types\n",
        "df.info()"
      ],
      "execution_count": null,
      "outputs": [
        {
          "output_type": "stream",
          "name": "stdout",
          "text": [
            "<class 'pandas.core.frame.DataFrame'>\n",
            "RangeIndex: 1000 entries, 0 to 999\n",
            "Data columns (total 40 columns):\n",
            " #   Column                       Non-Null Count  Dtype  \n",
            "---  ------                       --------------  -----  \n",
            " 0   months_as_customer           1000 non-null   int64  \n",
            " 1   age                          1000 non-null   int64  \n",
            " 2   policy_number                1000 non-null   int64  \n",
            " 3   policy_bind_date             1000 non-null   object \n",
            " 4   policy_state                 1000 non-null   object \n",
            " 5   policy_csl                   1000 non-null   object \n",
            " 6   policy_deductable            1000 non-null   int64  \n",
            " 7   policy_annual_premium        1000 non-null   float64\n",
            " 8   umbrella_limit               1000 non-null   int64  \n",
            " 9   insured_zip                  1000 non-null   int64  \n",
            " 10  insured_sex                  1000 non-null   object \n",
            " 11  insured_education_level      1000 non-null   object \n",
            " 12  insured_occupation           1000 non-null   object \n",
            " 13  insured_hobbies              1000 non-null   object \n",
            " 14  insured_relationship         1000 non-null   object \n",
            " 15  capital-gains                1000 non-null   int64  \n",
            " 16  capital-loss                 1000 non-null   int64  \n",
            " 17  incident_date                1000 non-null   object \n",
            " 18  incident_type                1000 non-null   object \n",
            " 19  collision_type               1000 non-null   object \n",
            " 20  incident_severity            1000 non-null   object \n",
            " 21  authorities_contacted        1000 non-null   object \n",
            " 22  incident_state               1000 non-null   object \n",
            " 23  incident_city                1000 non-null   object \n",
            " 24  incident_location            1000 non-null   object \n",
            " 25  incident_hour_of_the_day     1000 non-null   int64  \n",
            " 26  number_of_vehicles_involved  1000 non-null   int64  \n",
            " 27  property_damage              1000 non-null   object \n",
            " 28  bodily_injuries              1000 non-null   int64  \n",
            " 29  witnesses                    1000 non-null   int64  \n",
            " 30  police_report_available      1000 non-null   object \n",
            " 31  total_claim_amount           1000 non-null   int64  \n",
            " 32  injury_claim                 1000 non-null   int64  \n",
            " 33  property_claim               1000 non-null   int64  \n",
            " 34  vehicle_claim                1000 non-null   int64  \n",
            " 35  auto_make                    1000 non-null   object \n",
            " 36  auto_model                   1000 non-null   object \n",
            " 37  auto_year                    1000 non-null   int64  \n",
            " 38  fraud_reported               1000 non-null   object \n",
            " 39  _c39                         0 non-null      float64\n",
            "dtypes: float64(2), int64(17), object(21)\n",
            "memory usage: 312.6+ KB\n"
          ]
        }
      ]
    },
    {
      "cell_type": "markdown",
      "metadata": {
        "id": "paJc29k51KHV"
      },
      "source": [
        "The describe() function in pandas is very handy in getting various summary statistics. This function returns the count, mean, standard deviation, minimum and maximum values, and the quantiles of the data."
      ]
    },
    {
      "cell_type": "code",
      "metadata": {
        "colab": {
          "base_uri": "https://localhost:8080/",
          "height": 338
        },
        "id": "G7t56KFnLdjT",
        "outputId": "d48a3202-9275-4314-9010-78fabb1930ef"
      },
      "source": [
        "df.describe()"
      ],
      "execution_count": null,
      "outputs": [
        {
          "output_type": "execute_result",
          "data": {
            "text/html": [
              "<div>\n",
              "<style scoped>\n",
              "    .dataframe tbody tr th:only-of-type {\n",
              "        vertical-align: middle;\n",
              "    }\n",
              "\n",
              "    .dataframe tbody tr th {\n",
              "        vertical-align: top;\n",
              "    }\n",
              "\n",
              "    .dataframe thead th {\n",
              "        text-align: right;\n",
              "    }\n",
              "</style>\n",
              "<table border=\"1\" class=\"dataframe\">\n",
              "  <thead>\n",
              "    <tr style=\"text-align: right;\">\n",
              "      <th></th>\n",
              "      <th>months_as_customer</th>\n",
              "      <th>age</th>\n",
              "      <th>policy_number</th>\n",
              "      <th>policy_deductable</th>\n",
              "      <th>policy_annual_premium</th>\n",
              "      <th>umbrella_limit</th>\n",
              "      <th>insured_zip</th>\n",
              "      <th>capital-gains</th>\n",
              "      <th>capital-loss</th>\n",
              "      <th>incident_hour_of_the_day</th>\n",
              "      <th>number_of_vehicles_involved</th>\n",
              "      <th>bodily_injuries</th>\n",
              "      <th>witnesses</th>\n",
              "      <th>total_claim_amount</th>\n",
              "      <th>injury_claim</th>\n",
              "      <th>property_claim</th>\n",
              "      <th>vehicle_claim</th>\n",
              "      <th>auto_year</th>\n",
              "      <th>_c39</th>\n",
              "    </tr>\n",
              "  </thead>\n",
              "  <tbody>\n",
              "    <tr>\n",
              "      <th>count</th>\n",
              "      <td>1000.000000</td>\n",
              "      <td>1000.000000</td>\n",
              "      <td>1000.000000</td>\n",
              "      <td>1000.000000</td>\n",
              "      <td>1000.000000</td>\n",
              "      <td>1.000000e+03</td>\n",
              "      <td>1000.000000</td>\n",
              "      <td>1000.000000</td>\n",
              "      <td>1000.000000</td>\n",
              "      <td>1000.000000</td>\n",
              "      <td>1000.00000</td>\n",
              "      <td>1000.000000</td>\n",
              "      <td>1000.000000</td>\n",
              "      <td>1000.00000</td>\n",
              "      <td>1000.000000</td>\n",
              "      <td>1000.000000</td>\n",
              "      <td>1000.000000</td>\n",
              "      <td>1000.000000</td>\n",
              "      <td>0.0</td>\n",
              "    </tr>\n",
              "    <tr>\n",
              "      <th>mean</th>\n",
              "      <td>203.954000</td>\n",
              "      <td>38.948000</td>\n",
              "      <td>546238.648000</td>\n",
              "      <td>1136.000000</td>\n",
              "      <td>1256.406150</td>\n",
              "      <td>1.101000e+06</td>\n",
              "      <td>501214.488000</td>\n",
              "      <td>25126.100000</td>\n",
              "      <td>-26793.700000</td>\n",
              "      <td>11.644000</td>\n",
              "      <td>1.83900</td>\n",
              "      <td>0.992000</td>\n",
              "      <td>1.487000</td>\n",
              "      <td>52761.94000</td>\n",
              "      <td>7433.420000</td>\n",
              "      <td>7399.570000</td>\n",
              "      <td>37928.950000</td>\n",
              "      <td>2005.103000</td>\n",
              "      <td>NaN</td>\n",
              "    </tr>\n",
              "    <tr>\n",
              "      <th>std</th>\n",
              "      <td>115.113174</td>\n",
              "      <td>9.140287</td>\n",
              "      <td>257063.005276</td>\n",
              "      <td>611.864673</td>\n",
              "      <td>244.167395</td>\n",
              "      <td>2.297407e+06</td>\n",
              "      <td>71701.610941</td>\n",
              "      <td>27872.187708</td>\n",
              "      <td>28104.096686</td>\n",
              "      <td>6.951373</td>\n",
              "      <td>1.01888</td>\n",
              "      <td>0.820127</td>\n",
              "      <td>1.111335</td>\n",
              "      <td>26401.53319</td>\n",
              "      <td>4880.951853</td>\n",
              "      <td>4824.726179</td>\n",
              "      <td>18886.252893</td>\n",
              "      <td>6.015861</td>\n",
              "      <td>NaN</td>\n",
              "    </tr>\n",
              "    <tr>\n",
              "      <th>min</th>\n",
              "      <td>0.000000</td>\n",
              "      <td>19.000000</td>\n",
              "      <td>100804.000000</td>\n",
              "      <td>500.000000</td>\n",
              "      <td>433.330000</td>\n",
              "      <td>-1.000000e+06</td>\n",
              "      <td>430104.000000</td>\n",
              "      <td>0.000000</td>\n",
              "      <td>-111100.000000</td>\n",
              "      <td>0.000000</td>\n",
              "      <td>1.00000</td>\n",
              "      <td>0.000000</td>\n",
              "      <td>0.000000</td>\n",
              "      <td>100.00000</td>\n",
              "      <td>0.000000</td>\n",
              "      <td>0.000000</td>\n",
              "      <td>70.000000</td>\n",
              "      <td>1995.000000</td>\n",
              "      <td>NaN</td>\n",
              "    </tr>\n",
              "    <tr>\n",
              "      <th>25%</th>\n",
              "      <td>115.750000</td>\n",
              "      <td>32.000000</td>\n",
              "      <td>335980.250000</td>\n",
              "      <td>500.000000</td>\n",
              "      <td>1089.607500</td>\n",
              "      <td>0.000000e+00</td>\n",
              "      <td>448404.500000</td>\n",
              "      <td>0.000000</td>\n",
              "      <td>-51500.000000</td>\n",
              "      <td>6.000000</td>\n",
              "      <td>1.00000</td>\n",
              "      <td>0.000000</td>\n",
              "      <td>1.000000</td>\n",
              "      <td>41812.50000</td>\n",
              "      <td>4295.000000</td>\n",
              "      <td>4445.000000</td>\n",
              "      <td>30292.500000</td>\n",
              "      <td>2000.000000</td>\n",
              "      <td>NaN</td>\n",
              "    </tr>\n",
              "    <tr>\n",
              "      <th>50%</th>\n",
              "      <td>199.500000</td>\n",
              "      <td>38.000000</td>\n",
              "      <td>533135.000000</td>\n",
              "      <td>1000.000000</td>\n",
              "      <td>1257.200000</td>\n",
              "      <td>0.000000e+00</td>\n",
              "      <td>466445.500000</td>\n",
              "      <td>0.000000</td>\n",
              "      <td>-23250.000000</td>\n",
              "      <td>12.000000</td>\n",
              "      <td>1.00000</td>\n",
              "      <td>1.000000</td>\n",
              "      <td>1.000000</td>\n",
              "      <td>58055.00000</td>\n",
              "      <td>6775.000000</td>\n",
              "      <td>6750.000000</td>\n",
              "      <td>42100.000000</td>\n",
              "      <td>2005.000000</td>\n",
              "      <td>NaN</td>\n",
              "    </tr>\n",
              "    <tr>\n",
              "      <th>75%</th>\n",
              "      <td>276.250000</td>\n",
              "      <td>44.000000</td>\n",
              "      <td>759099.750000</td>\n",
              "      <td>2000.000000</td>\n",
              "      <td>1415.695000</td>\n",
              "      <td>0.000000e+00</td>\n",
              "      <td>603251.000000</td>\n",
              "      <td>51025.000000</td>\n",
              "      <td>0.000000</td>\n",
              "      <td>17.000000</td>\n",
              "      <td>3.00000</td>\n",
              "      <td>2.000000</td>\n",
              "      <td>2.000000</td>\n",
              "      <td>70592.50000</td>\n",
              "      <td>11305.000000</td>\n",
              "      <td>10885.000000</td>\n",
              "      <td>50822.500000</td>\n",
              "      <td>2010.000000</td>\n",
              "      <td>NaN</td>\n",
              "    </tr>\n",
              "    <tr>\n",
              "      <th>max</th>\n",
              "      <td>479.000000</td>\n",
              "      <td>64.000000</td>\n",
              "      <td>999435.000000</td>\n",
              "      <td>2000.000000</td>\n",
              "      <td>2047.590000</td>\n",
              "      <td>1.000000e+07</td>\n",
              "      <td>620962.000000</td>\n",
              "      <td>100500.000000</td>\n",
              "      <td>0.000000</td>\n",
              "      <td>23.000000</td>\n",
              "      <td>4.00000</td>\n",
              "      <td>2.000000</td>\n",
              "      <td>3.000000</td>\n",
              "      <td>114920.00000</td>\n",
              "      <td>21450.000000</td>\n",
              "      <td>23670.000000</td>\n",
              "      <td>79560.000000</td>\n",
              "      <td>2015.000000</td>\n",
              "      <td>NaN</td>\n",
              "    </tr>\n",
              "  </tbody>\n",
              "</table>\n",
              "</div>"
            ],
            "text/plain": [
              "       months_as_customer          age  ...    auto_year  _c39\n",
              "count         1000.000000  1000.000000  ...  1000.000000   0.0\n",
              "mean           203.954000    38.948000  ...  2005.103000   NaN\n",
              "std            115.113174     9.140287  ...     6.015861   NaN\n",
              "min              0.000000    19.000000  ...  1995.000000   NaN\n",
              "25%            115.750000    32.000000  ...  2000.000000   NaN\n",
              "50%            199.500000    38.000000  ...  2005.000000   NaN\n",
              "75%            276.250000    44.000000  ...  2010.000000   NaN\n",
              "max            479.000000    64.000000  ...  2015.000000   NaN\n",
              "\n",
              "[8 rows x 19 columns]"
            ]
          },
          "metadata": {},
          "execution_count": 9
        }
      ]
    },
    {
      "cell_type": "markdown",
      "metadata": {
        "id": "m567m2y8Qkzs"
      },
      "source": [
        "**IMPORTANT - Don't skip this step!!**\n",
        "\n",
        "\\\\\n",
        "\n",
        "Here we use the .copy(deep=True) function to create a new copy of the data from the original one. \n",
        "\n",
        "This is to make sure that whatever changes that I make in the copy will not be reflected in my original dataset, in general it is good practice to have every function that modifies the dataset return a new version so that if you want to you can assign it to a new variable and separate the newly modified data from the previous version.\n",
        "This can often save time in experimentation later. It is also important for managing your development with the Seclea Platform.\n",
        "\n",
        "There are situations where this is not a good idea such as when working with very large datasets - in this case it is a good idea to save snapshots of the data to disk (or other persistent storage) whenever possible within resource constraints."
      ]
    },
    {
      "cell_type": "code",
      "metadata": {
        "id": "NJ8LnglIQnFq"
      },
      "source": [
        "# Creating new copy - to isolate the original dataset\n",
        "df1 = df.copy(deep=True)"
      ],
      "execution_count": null,
      "outputs": []
    },
    {
      "cell_type": "markdown",
      "metadata": {
        "id": "PUHoyioT1Irs"
      },
      "source": [
        "## 3.1 Null values"
      ]
    },
    {
      "cell_type": "markdown",
      "metadata": {
        "id": "KHjCC89iK6iX"
      },
      "source": [
        "***Important Note on null (or NaN) values***\n",
        "\n",
        "While examining the dataset with the pandas function for finding nulls, you can see there is only one column with missing values - _c39. But while looking at the dataset closely we can see, there are multiple rows that are filled with  '?'. We need to be careful as '?' is considered an object so it doesn't show up as a null value. \n",
        "\n",
        "This reinforces how important it is to study the dataset thoroughly before starting any data processing. \n"
      ]
    },
    {
      "cell_type": "code",
      "metadata": {
        "colab": {
          "base_uri": "https://localhost:8080/"
        },
        "id": "fD7GFCozXybz",
        "outputId": "1b3900a3-d907-49a1-bd99-3ef3b0bea227"
      },
      "source": [
        "#Checking for the missing values \n",
        "df1.isnull().sum()"
      ],
      "execution_count": null,
      "outputs": [
        {
          "output_type": "execute_result",
          "data": {
            "text/plain": [
              "months_as_customer                0\n",
              "age                               0\n",
              "policy_number                     0\n",
              "policy_bind_date                  0\n",
              "policy_state                      0\n",
              "policy_csl                        0\n",
              "policy_deductable                 0\n",
              "policy_annual_premium             0\n",
              "umbrella_limit                    0\n",
              "insured_zip                       0\n",
              "insured_sex                       0\n",
              "insured_education_level           0\n",
              "insured_occupation                0\n",
              "insured_hobbies                   0\n",
              "insured_relationship              0\n",
              "capital-gains                     0\n",
              "capital-loss                      0\n",
              "incident_date                     0\n",
              "incident_type                     0\n",
              "collision_type                    0\n",
              "incident_severity                 0\n",
              "authorities_contacted             0\n",
              "incident_state                    0\n",
              "incident_city                     0\n",
              "incident_location                 0\n",
              "incident_hour_of_the_day          0\n",
              "number_of_vehicles_involved       0\n",
              "property_damage                   0\n",
              "bodily_injuries                   0\n",
              "witnesses                         0\n",
              "police_report_available           0\n",
              "total_claim_amount                0\n",
              "injury_claim                      0\n",
              "property_claim                    0\n",
              "vehicle_claim                     0\n",
              "auto_make                         0\n",
              "auto_model                        0\n",
              "auto_year                         0\n",
              "fraud_reported                    0\n",
              "_c39                           1000\n",
              "dtype: int64"
            ]
          },
          "metadata": {},
          "execution_count": 11
        }
      ]
    },
    {
      "cell_type": "markdown",
      "metadata": {
        "id": "4z8mOxXvTOBd"
      },
      "source": [
        "## 3.2 Functions\n",
        "You may notice in this notebook that all our processing of the dataset is within functions. This is for 2 important reasons.\n",
        "\n",
        "The first is reusability - when working in industry it is a waste of time to keep rewriting the same code for analysing and processing data, particularly if it is done various times with some configuration. By using functions and variables we can reuse the function in another project or even further down in the same project without having to rewrite the logic saving us valuable time.\n",
        "\n",
        "The second reason is to integrate well with the Seclea Platform. In order to record and use the processing code effectively we need it to be packaged into functions."
      ]
    },
    {
      "cell_type": "code",
      "metadata": {
        "id": "U2QHMPiU_q4l"
      },
      "source": [
        "def encode_nans(df):\n",
        "    # converting the special character to nans so we can use nan processing code\n",
        "    # available in pandas.\n",
        "    return df.replace('?', np.NaN)"
      ],
      "execution_count": null,
      "outputs": []
    },
    {
      "cell_type": "code",
      "metadata": {
        "id": "90Ou3cCCqehU"
      },
      "source": [
        "df1 = encode_nans(df1)"
      ],
      "execution_count": null,
      "outputs": []
    },
    {
      "cell_type": "code",
      "metadata": {
        "colab": {
          "base_uri": "https://localhost:8080/"
        },
        "id": "GunomiAYqlTD",
        "outputId": "4c36de59-964b-408e-90a6-1607998acc3e"
      },
      "source": [
        "df1.isnull().sum()"
      ],
      "execution_count": null,
      "outputs": [
        {
          "output_type": "execute_result",
          "data": {
            "text/plain": [
              "months_as_customer                0\n",
              "age                               0\n",
              "policy_number                     0\n",
              "policy_bind_date                  0\n",
              "policy_state                      0\n",
              "policy_csl                        0\n",
              "policy_deductable                 0\n",
              "policy_annual_premium             0\n",
              "umbrella_limit                    0\n",
              "insured_zip                       0\n",
              "insured_sex                       0\n",
              "insured_education_level           0\n",
              "insured_occupation                0\n",
              "insured_hobbies                   0\n",
              "insured_relationship              0\n",
              "capital-gains                     0\n",
              "capital-loss                      0\n",
              "incident_date                     0\n",
              "incident_type                     0\n",
              "collision_type                  178\n",
              "incident_severity                 0\n",
              "authorities_contacted             0\n",
              "incident_state                    0\n",
              "incident_city                     0\n",
              "incident_location                 0\n",
              "incident_hour_of_the_day          0\n",
              "number_of_vehicles_involved       0\n",
              "property_damage                 360\n",
              "bodily_injuries                   0\n",
              "witnesses                         0\n",
              "police_report_available         343\n",
              "total_claim_amount                0\n",
              "injury_claim                      0\n",
              "property_claim                    0\n",
              "vehicle_claim                     0\n",
              "auto_make                         0\n",
              "auto_model                        0\n",
              "auto_year                         0\n",
              "fraud_reported                    0\n",
              "_c39                           1000\n",
              "dtype: int64"
            ]
          },
          "metadata": {},
          "execution_count": 14
        }
      ]
    },
    {
      "cell_type": "markdown",
      "metadata": {
        "id": "--C3Reds2isQ"
      },
      "source": [
        "Now we can see how many null values we actually have and in which columns. We can see there are three more columns containing these values which are collision_type, property_damage , police_report_available as well as  _c39 which we could already see."
      ]
    },
    {
      "cell_type": "markdown",
      "metadata": {
        "id": "ABepDM35MFRD"
      },
      "source": [
        "## 3.3 Indexing\n",
        "\n",
        "Depending on our data we may want to define an index for the dataframe. This should be a unique identifier. If there is no reasonable column to consider the index then we can use the default indexing by pandas. In the case of auto insurance dataset we consider policy_number as an index."
      ]
    },
    {
      "cell_type": "code",
      "metadata": {
        "id": "Va5l5grVLlPz"
      },
      "source": [
        "# change Data to  Index \n",
        "df1 = df1.set_index('policy_number')"
      ],
      "execution_count": null,
      "outputs": []
    },
    {
      "cell_type": "markdown",
      "metadata": {
        "id": "8pSAmGzBT6Wz"
      },
      "source": [
        "## 3.4 Seclea Platform\n",
        "\n",
        "Now you should navigate in your browser to platform.seclea.com and login.\n",
        "\n",
        "You should see a dashboard etc. select the project\n",
        "\n",
        "Navigate to the Datasets section - under Prepare tab. See the preview and use the format check/PII check.\n",
        "\n",
        "Include some tasks for them to explore.\n",
        "\n",
        "Include screen shots."
      ]
    },
    {
      "cell_type": "markdown",
      "metadata": {
        "id": "1NTteLpn64yW"
      },
      "source": [
        "# 4.Data preprocessing/Feature Engineering "
      ]
    },
    {
      "cell_type": "markdown",
      "metadata": {
        "id": "pXIv2Cn-KMJP"
      },
      "source": [
        "## 4.1 Dealing with Missing values"
      ]
    },
    {
      "cell_type": "markdown",
      "metadata": {
        "id": "h5XO4QzFKQzi"
      },
      "source": [
        "We may think that None (or NaN) values are just zeroes because they represent the absence of a value. The main difference between zero and None value is that zero is a value (for example integer or float), while the None value represents the absence of that value.\n",
        "\n",
        "There are various techniques to replace missing value such as \n",
        "1. Fill NaN with Mean, Median or Mode of the data\n",
        "2. Fill NaN with a constant value\n",
        "3. Imputing with KNN\n",
        "4. Imputing with MICE(Multiple Imputation by Chained Equations)\n",
        "\n",
        "We will try two of these techniques, the constant fill for which we will use the value -1 as the fill value. We will also use the mode filling technique for a second version of the dataset."
      ]
    },
    {
      "cell_type": "markdown",
      "metadata": {
        "id": "PcKbGZg3TuOZ"
      },
      "source": [
        "Here we define a function to carry out the dropping of columns that contain more than a certain proportion of nulls. We do this as these columns usually don't add useful information and only slow us down."
      ]
    },
    {
      "cell_type": "code",
      "metadata": {
        "id": "8BDx82pX8yWE"
      },
      "source": [
        "## Drop the the column with certain proportion NaN value \n",
        "def drop_nulls(df, threshold):\n",
        "    cols = [x for x in df.columns if df[x].isnull().sum() / df.shape[0] > threshold]\n",
        "    return df.drop(columns=cols)"
      ],
      "execution_count": null,
      "outputs": []
    },
    {
      "cell_type": "markdown",
      "metadata": {
        "id": "ucdcaINqUo-v"
      },
      "source": [
        "You will notice that we define the threshold value as a variable and pass it in. That is because we will be using this variable again later to upload these transformations. It is easier than copy and pasting the value."
      ]
    },
    {
      "cell_type": "code",
      "metadata": {
        "id": "biDoBczcOXeg"
      },
      "source": [
        "# We choose 95% as our threshold\n",
        "null_thresh = 0.95\n",
        "df1 = drop_nulls(df1, threshold=null_thresh)"
      ],
      "execution_count": null,
      "outputs": []
    },
    {
      "cell_type": "markdown",
      "metadata": {
        "id": "Bd1v7XPsbkzJ"
      },
      "source": [
        "We can see that in this case only _c39 will be dropped as it is 100% null values.\n"
      ]
    },
    {
      "cell_type": "markdown",
      "metadata": {
        "id": "uAgb0UUBSlrC"
      },
      "source": [
        "Now we will define a function that will replace nans with a constant value. Here we have shown an option that will deal directly with None values in the dataframe as well - not needed for this dataset but can be useful on others."
      ]
    },
    {
      "cell_type": "code",
      "metadata": {
        "id": "k1kEU7aI3w6O"
      },
      "source": [
        "# Changing 1st dataset with -1 \n",
        "\n",
        "def fill_nan_const(df, val):\n",
        "    \"\"\"Fill NaN values in the dataframe with a constant value\"\"\"\n",
        "    return df.replace(['None', np.nan], val) \n",
        " \n",
        "\n",
        "const_val = -1\n",
        "df_const = fill_nan_const(df1, const_val)"
      ],
      "execution_count": null,
      "outputs": []
    },
    {
      "cell_type": "code",
      "metadata": {
        "id": "p-J_-gCe3z6n",
        "colab": {
          "base_uri": "https://localhost:8080/"
        },
        "outputId": "d372c6d5-9031-465b-96d1-e7273d8a720b"
      },
      "source": [
        "df_const.isnull().sum()"
      ],
      "execution_count": null,
      "outputs": [
        {
          "output_type": "execute_result",
          "data": {
            "text/plain": [
              "months_as_customer             0\n",
              "age                            0\n",
              "policy_bind_date               0\n",
              "policy_state                   0\n",
              "policy_csl                     0\n",
              "policy_deductable              0\n",
              "policy_annual_premium          0\n",
              "umbrella_limit                 0\n",
              "insured_zip                    0\n",
              "insured_sex                    0\n",
              "insured_education_level        0\n",
              "insured_occupation             0\n",
              "insured_hobbies                0\n",
              "insured_relationship           0\n",
              "capital-gains                  0\n",
              "capital-loss                   0\n",
              "incident_date                  0\n",
              "incident_type                  0\n",
              "collision_type                 0\n",
              "incident_severity              0\n",
              "authorities_contacted          0\n",
              "incident_state                 0\n",
              "incident_city                  0\n",
              "incident_location              0\n",
              "incident_hour_of_the_day       0\n",
              "number_of_vehicles_involved    0\n",
              "property_damage                0\n",
              "bodily_injuries                0\n",
              "witnesses                      0\n",
              "police_report_available        0\n",
              "total_claim_amount             0\n",
              "injury_claim                   0\n",
              "property_claim                 0\n",
              "vehicle_claim                  0\n",
              "auto_make                      0\n",
              "auto_model                     0\n",
              "auto_year                      0\n",
              "fraud_reported                 0\n",
              "dtype: int64"
            ]
          },
          "metadata": {},
          "execution_count": 19
        }
      ]
    },
    {
      "cell_type": "code",
      "metadata": {
        "id": "LdEOkSNP9xZT"
      },
      "source": [
        "def fill_nan_mode(df, columns):\n",
        "    \"\"\"\n",
        "    Fills nans in specified columns with the mode of that column\n",
        "    Note that we want to make sure to not modify the dataset we passed in but to\n",
        "    return a new copy.\n",
        "    We do that by making a copy and specifying deep=True.\n",
        "    \"\"\"\n",
        "    new_df = df.copy(deep=True)\n",
        "    for col in df.columns:\n",
        "        if col in columns:\n",
        "            new_df[col] = df[col].fillna(df[col].mode()[0])\n",
        "    return new_df"
      ],
      "execution_count": null,
      "outputs": []
    },
    {
      "cell_type": "code",
      "metadata": {
        "id": "kdFGIdsyPPB-"
      },
      "source": [
        "nan_cols = ['collision_type','property_damage','police_report_available']\n",
        "df_mode = fill_nan_mode(df1, nan_cols)"
      ],
      "execution_count": null,
      "outputs": []
    },
    {
      "cell_type": "code",
      "metadata": {
        "id": "6KhKOOSSOaVa",
        "colab": {
          "base_uri": "https://localhost:8080/"
        },
        "outputId": "722d601d-3ccd-4eeb-9c1d-cdd6fcfd22b0"
      },
      "source": [
        "print(df_mode)"
      ],
      "execution_count": null,
      "outputs": [
        {
          "output_type": "stream",
          "name": "stdout",
          "text": [
            "               months_as_customer  age  ... auto_year fraud_reported\n",
            "policy_number                           ...                         \n",
            "521585                        328   48  ...      2004              Y\n",
            "342868                        228   42  ...      2007              Y\n",
            "687698                        134   29  ...      2007              N\n",
            "227811                        256   41  ...      2014              Y\n",
            "367455                        228   44  ...      2009              N\n",
            "...                           ...  ...  ...       ...            ...\n",
            "941851                          3   38  ...      2006              N\n",
            "186934                        285   41  ...      2015              N\n",
            "918516                        130   34  ...      1996              N\n",
            "533940                        458   62  ...      1998              N\n",
            "556080                        456   60  ...      2007              N\n",
            "\n",
            "[1000 rows x 38 columns]\n"
          ]
        }
      ]
    },
    {
      "cell_type": "code",
      "metadata": {
        "id": "vEIyqKIs-myr",
        "colab": {
          "base_uri": "https://localhost:8080/"
        },
        "outputId": "d65ee7d4-1825-43bb-970c-fa0fa8ed1fdf"
      },
      "source": [
        "df_mode.isnull().sum()"
      ],
      "execution_count": null,
      "outputs": [
        {
          "output_type": "execute_result",
          "data": {
            "text/plain": [
              "months_as_customer             0\n",
              "age                            0\n",
              "policy_bind_date               0\n",
              "policy_state                   0\n",
              "policy_csl                     0\n",
              "policy_deductable              0\n",
              "policy_annual_premium          0\n",
              "umbrella_limit                 0\n",
              "insured_zip                    0\n",
              "insured_sex                    0\n",
              "insured_education_level        0\n",
              "insured_occupation             0\n",
              "insured_hobbies                0\n",
              "insured_relationship           0\n",
              "capital-gains                  0\n",
              "capital-loss                   0\n",
              "incident_date                  0\n",
              "incident_type                  0\n",
              "collision_type                 0\n",
              "incident_severity              0\n",
              "authorities_contacted          0\n",
              "incident_state                 0\n",
              "incident_city                  0\n",
              "incident_location              0\n",
              "incident_hour_of_the_day       0\n",
              "number_of_vehicles_involved    0\n",
              "property_damage                0\n",
              "bodily_injuries                0\n",
              "witnesses                      0\n",
              "police_report_available        0\n",
              "total_claim_amount             0\n",
              "injury_claim                   0\n",
              "property_claim                 0\n",
              "vehicle_claim                  0\n",
              "auto_make                      0\n",
              "auto_model                     0\n",
              "auto_year                      0\n",
              "fraud_reported                 0\n",
              "dtype: int64"
            ]
          },
          "metadata": {},
          "execution_count": 23
        }
      ]
    },
    {
      "cell_type": "markdown",
      "metadata": {
        "id": "s7GdnmEtCMke"
      },
      "source": [
        "## 4.2 Checking Correlation \n",
        "Correlation is mainly checked in order to examine the relationships between two quantitative variables such or whether one variable could cause or depend on the values of another variable."
      ]
    },
    {
      "cell_type": "code",
      "metadata": {
        "colab": {
          "base_uri": "https://localhost:8080/",
          "height": 835
        },
        "id": "DPT_j9W_abfs",
        "outputId": "7fccde78-5e63-44d7-c666-db50c60da3d1"
      },
      "source": [
        "##Check the correlation\n",
        "# plotting correlation heatmap\n",
        "import seaborn as sns\n",
        "\n",
        "# get correlations\n",
        "df_const_corr = df_const.corr()\n",
        "\n",
        "fig, ax = plt.subplots(figsize=(20, 12))\n",
        "# mask\n",
        "mask = np.triu(np.ones_like(df_const_corr, dtype=np.bool))\n",
        "# adjust mask and df\n",
        "mask = mask[1:, :-1]\n",
        "corr = df_const_corr.iloc[1:,:-1].copy()\n",
        "# plot heatmap\n",
        "sns.heatmap(corr, mask=mask, annot=True, fmt=\".2f\", cmap='Blues',\n",
        "           vmin=-1, vmax=1, cbar_kws={\"shrink\": .8})\n",
        "# yticks\n",
        "plt.yticks(rotation=0)\n",
        "plt.show()"
      ],
      "execution_count": null,
      "outputs": [
        {
          "output_type": "display_data",
          "data": {
            "image/png": "[encoded data removed]",
            "text/plain": [
              "<Figure size 1440x864 with 2 Axes>"
            ]
          },
          "metadata": {
            "needs_background": "light"
          }
        }
      ]
    },
    {
      "cell_type": "markdown",
      "metadata": {
        "id": "2lkqusfCb0Ik"
      },
      "source": [
        "\n",
        "From the above plot, we can see that there is high correlation between age and months_as_customer. We will drop the \"Age\" column. Also there is high correlation between total_claim_amount, injury_claim, property_claim, vehicle_claim as total claim is the sum of all others. Vehicle claim also correlates strongly with the other claim columns. There can be multiple reasons for dropping correlated columns from preventing possible bias to increasing the speed of the model, in this case the increase in speed is the main motivation. \n",
        "\n",
        "We will use a function to drop columns that are correlated beyond a certain threshold. We determined this threshold by looking at the above plot."
      ]
    },
    {
      "cell_type": "code",
      "metadata": {
        "id": "woiobd0Fabh_",
        "colab": {
          "base_uri": "https://localhost:8080/"
        },
        "outputId": "5f35b4d0-b0af-4b39-cf7c-e5e8c7c8b890"
      },
      "source": [
        "def drop_correlated(data, thresh):\n",
        "    import numpy as np\n",
        "\n",
        "    # calculate correlations\n",
        "    corr_matrix = data.corr().abs()\n",
        "    # get the upper part of correlation matrix\n",
        "    upper = corr_matrix.where(np.triu(np.ones(corr_matrix.shape), k=1).astype(np.bool))\n",
        "\n",
        "    # columns with correlation above threshold\n",
        "    redundant = [column for column in upper.columns if any(upper[column] >= thresh)]\n",
        "    print(f\"Columns to drop with correlation > {thresh}: {redundant}\")\n",
        "    new_data = data.drop(columns=redundant)\n",
        "    return new_data\n",
        "\n",
        "correlation_threshold = 0.9\n",
        "\n",
        "df_const = drop_correlated(df_const, correlation_threshold)\n",
        "df_mode = drop_correlated(df_mode, correlation_threshold)"
      ],
      "execution_count": null,
      "outputs": [
        {
          "output_type": "stream",
          "name": "stdout",
          "text": [
            "Columns to drop with correlation > 0.9: ['age', 'vehicle_claim']\n",
            "Columns to drop with correlation > 0.9: ['age', 'vehicle_claim']\n"
          ]
        }
      ]
    },
    {
      "cell_type": "markdown",
      "metadata": {
        "id": "rh_cAiL-VbYt"
      },
      "source": [
        "##4.3 Changing categorial data to numeric "
      ]
    },
    {
      "cell_type": "markdown",
      "metadata": {
        "id": "9mZcoNJXv2Hl"
      },
      "source": [
        "\n",
        "Categorical data is a common type of non-numerical data that contains label values that are not numbers such as colours, cities, gender, place etc. There are mainly three types of categorical data: Binary, Ordinal and Nominal data. \n",
        "\n",
        "1. Binary data: A variable that has only two values such as True/False or Yes/No.\n",
        "\n",
        "2. Ordinal data: In ordinal encoding, each unique category value is assigned an integer value and can be ranked. An ordinal variable has a clear ordering. For example (low, medium and high).\n",
        "\n",
        "3. Nominal data: Nominal data is called labelled or named data such as name, hair colour, sex etc with no rank. \n",
        "\n",
        "There are mainly three approaches to convert categorical data\n",
        "\n",
        "1. Replacing values\n",
        "2. Encoding labels\n",
        "3. One-Hot encoding\n",
        "4. Binary encoding\n",
        "5. Backward difference encoding\n",
        "6. Miscellaneous features\n",
        "\n",
        "I am using label encoding for this dataset to convert the categorical dataset to numeric. \n",
        "\n",
        "\n",
        "\n",
        "\n",
        "\n",
        "\n",
        "\n",
        "\n",
        "\n",
        "\n",
        "\n"
      ]
    },
    {
      "cell_type": "markdown",
      "metadata": {
        "id": "RlrDAsFRVFbA"
      },
      "source": [
        "As we still have the same columns for both df_const and df_mode we are only looking for the columns in one dataset.\n",
        "\n",
        "If we had dropped different columns in each that would not be possible.\n",
        "\n",
        "Also an important note is that these columns are only considered categorical for encoding purposes! This doesn't mean that no other columns represent categorical values, just that if there are, they have already been encoded to numerical values in some way. This may be important for other datasets and analyses."
      ]
    },
    {
      "cell_type": "code",
      "metadata": {
        "colab": {
          "base_uri": "https://localhost:8080/"
        },
        "id": "eaEhKRJh9Mmr",
        "outputId": "5b1249de-01e9-4ca2-b744-f8565172f7e4"
      },
      "source": [
        "# find columns with categorial data for both dataset \n",
        "cat_cols = df_const.select_dtypes(include=['object']).columns.tolist()\n",
        "cat_cols"
      ],
      "execution_count": null,
      "outputs": [
        {
          "output_type": "execute_result",
          "data": {
            "text/plain": [
              "['policy_bind_date',\n",
              " 'policy_state',\n",
              " 'policy_csl',\n",
              " 'insured_sex',\n",
              " 'insured_education_level',\n",
              " 'insured_occupation',\n",
              " 'insured_hobbies',\n",
              " 'insured_relationship',\n",
              " 'incident_date',\n",
              " 'incident_type',\n",
              " 'collision_type',\n",
              " 'incident_severity',\n",
              " 'authorities_contacted',\n",
              " 'incident_state',\n",
              " 'incident_city',\n",
              " 'incident_location',\n",
              " 'property_damage',\n",
              " 'police_report_available',\n",
              " 'auto_make',\n",
              " 'auto_model',\n",
              " 'fraud_reported']"
            ]
          },
          "metadata": {},
          "execution_count": 26
        }
      ]
    },
    {
      "cell_type": "markdown",
      "metadata": {
        "id": "AtM-7cAuVtAo"
      },
      "source": [
        "Here we are using the sklearn LabelEncoder to encode each of the selected columns passed in. We do this to avoid encoding columns that already contain categorical data."
      ]
    },
    {
      "cell_type": "code",
      "metadata": {
        "id": "PGRtG9143FgP"
      },
      "source": [
        "def encode_categorical(df, cat_cols): \n",
        "  from sklearn.preprocessing import LabelEncoder\n",
        "\n",
        "  new_df = df.copy(deep=True)\n",
        "  for col in cat_cols:\n",
        "    if col in df.columns:\n",
        "        le = LabelEncoder()\n",
        "        le.fit(list(df[col].astype(str).values))\n",
        "        new_df[col] = le.transform(list(df[col].astype(str).values))\n",
        "  return new_df\n"
      ],
      "execution_count": null,
      "outputs": []
    },
    {
      "cell_type": "code",
      "metadata": {
        "id": "IzUxh_504BBF"
      },
      "source": [
        "df_const = encode_categorical(df_const, cat_cols)\n",
        "df_mode = encode_categorical(df_mode, cat_cols)"
      ],
      "execution_count": null,
      "outputs": []
    },
    {
      "cell_type": "markdown",
      "metadata": {
        "id": "cfFtuMCq3nSI"
      },
      "source": [
        "### 4.3.1 Uploading processed datasets\n",
        "\n",
        "Before getting to balancing the datasets we will upload them to the Seclea Plaform.\n",
        "\n",
        "- We define the metadata for the dataset - if there have been any changes since the original dataset we need to put that here, otherwise we can reuse the original metadata. In this case we have dropped some of the continuous feature columns so we will need to redefine\n",
        "\n",
        "- We define the transformations that took place between the last state we uploaded and this dataset. This is a list of functions and arguments. See docs.seclea.com for more details of the correct formatting."
      ]
    },
    {
      "cell_type": "code",
      "metadata": {
        "colab": {
          "base_uri": "https://localhost:8080/"
        },
        "id": "IkZlrX2i31v3",
        "outputId": "01a0f9fe-6a0d-4933-8c75-ea7fd7756201"
      },
      "source": [
        "# define the metadata\n",
        "# NOTE even though we defined an index initially, because this dataset has been \n",
        "# augmented, the index has been dropped so now there is no specific index column.\n",
        "processed_metadata = {\"index\": None, \n",
        "                  \"outcome_name\": \"fraud_reported\", \n",
        "                  \"continuous_features\": [\"total_claim_amount\",\n",
        "                                          'policy_annual_premium',\n",
        "                                          'capital-gains',\n",
        "                                          'capital-loss',\n",
        "                                          'injury_claim',\n",
        "                                          'property_claim',\n",
        "                                          'incident_hour_of_the_day',\n",
        "                                          ]}\n",
        "\n",
        "# here we need to define the transformations we applied to our original dataset\n",
        "# to get it to this point.\n",
        "# see the documentation for more details of the formatting this needs.\n",
        "\n",
        "const_processed_transformations = [\n",
        "    encode_nans,\n",
        "    (drop_nulls, [null_thresh]),\n",
        "    (fill_nan_const, [const_val]),\n",
        "    (drop_correlated, [correlation_threshold]),\n",
        "    (encode_categorical, [cat_cols]),\n",
        "]\n",
        "\n",
        "seclea.upload_dataset(dataset=df_const, \n",
        "                      dataset_name=\"Auto Insurance Fraud - Const Fill\", \n",
        "                      metadata=processed_metadata, \n",
        "                      parent=df, \n",
        "                      transformations=const_processed_transformations)"
      ],
      "execution_count": null,
      "outputs": [
        {
          "output_type": "stream",
          "name": "stdout",
          "text": [
            "Query Params:  {'project': 10, 'organization': 'Seclea', 'name': 'Auto Insurance Fraud - Const Fill', 'metadata': '{\"index\": null, \"outcome_name\": \"fraud_reported\", \"continuous_features\": [\"total_claim_amount\", \"policy_annual_premium\", \"capital-gains\", \"capital-loss\", \"injury_claim\", \"property_claim\", \"incident_hour_of_the_day\"]}', 'hash': '-758745408087824886', 'parent': '1686480620896445615'}\n"
          ]
        }
      ]
    },
    {
      "cell_type": "markdown",
      "metadata": {
        "id": "nChZBsyO5JB-"
      },
      "source": [
        "- We need to do this for the dataset that filled NaN values with the mode. We can reuse the metadata for the processed data as it is the same but we need to change the transformations."
      ]
    },
    {
      "cell_type": "code",
      "metadata": {
        "colab": {
          "base_uri": "https://localhost:8080/"
        },
        "id": "HmStvMal43WY",
        "outputId": "bbb06c1c-d3b1-4012-8f8b-6660f324c2a3"
      },
      "source": [
        "mode_processed_transformations = [\n",
        "    encode_nans,\n",
        "    (drop_nulls, [null_thresh]),\n",
        "    (fill_nan_mode, [nan_cols]),\n",
        "    (drop_correlated, [correlation_threshold]),\n",
        "    (encode_categorical, [cat_cols]),\n",
        "]\n",
        "\n",
        "seclea.upload_dataset(dataset=df_mode, \n",
        "                      dataset_name=\"Auto Insurance Fraud - Mode Fill\", \n",
        "                      metadata=processed_metadata, \n",
        "                      parent=df, \n",
        "                      transformations=mode_processed_transformations)"
      ],
      "execution_count": null,
      "outputs": [
        {
          "output_type": "stream",
          "name": "stdout",
          "text": [
            "Query Params:  {'project': 10, 'organization': 'Seclea', 'name': 'Auto Insurance Fraud - Mode Fill', 'metadata': '{\"index\": null, \"outcome_name\": \"fraud_reported\", \"continuous_features\": [\"total_claim_amount\", \"policy_annual_premium\", \"capital-gains\", \"capital-loss\", \"injury_claim\", \"property_claim\", \"incident_hour_of_the_day\"]}', 'hash': '1888157424819567954', 'parent': '1686480620896445615'}\n"
          ]
        }
      ]
    },
    {
      "cell_type": "markdown",
      "metadata": {
        "id": "WMKB38UWWcNN"
      },
      "source": [
        "##4.4 Balancing the dataset"
      ]
    },
    {
      "cell_type": "code",
      "metadata": {
        "colab": {
          "base_uri": "https://localhost:8080/",
          "height": 406
        },
        "id": "7dW_p4UK8B7N",
        "outputId": "9e74c002-a4c2-4bdd-d9a5-598600c26fd7"
      },
      "source": [
        "#Checking for imbalance dataset (with half of the dataset)\n",
        "import matplotlib.pyplot as plt\n",
        "plt.figure(figsize=(2.5,5)) \n",
        "plt.title(\"Fraud Transaction Distribution\") \n",
        "p1 = sns.countplot(df_const['fraud_reported'], palette = 'plasma') \n",
        "for p in p1.patches:\n",
        "    height = p.get_height()\n",
        "    p1.text(p.get_x()+p.get_width()/2.,\n",
        "            height,\n",
        "            f'{height/df.shape[0] * 100:.2f}%',\n",
        "            ha='center', fontsize=12)"
      ],
      "execution_count": null,
      "outputs": [
        {
          "output_type": "stream",
          "name": "stderr",
          "text": [
            "/usr/local/lib/python3.7/dist-packages/seaborn/_decorators.py:43: FutureWarning: Pass the following variable as a keyword arg: x. From version 0.12, the only valid positional argument will be `data`, and passing other arguments without an explicit keyword will result in an error or misinterpretation.\n",
            "  FutureWarning\n"
          ]
        },
        {
          "output_type": "display_data",
          "data": {
            "image/png": "[encoded data removed]",
            "text/plain": [
              "<Figure size 180x360 with 1 Axes>"
            ]
          },
          "metadata": {
            "needs_background": "light"
          }
        }
      ]
    },
    {
      "cell_type": "markdown",
      "metadata": {
        "id": "_jwiBmH58uuN"
      },
      "source": [
        "\n"
      ]
    },
    {
      "cell_type": "markdown",
      "metadata": {
        "id": "0XQZs_jF3gsD"
      },
      "source": [
        "Most machine learning models perform best with balanced datasets and tolerate imbalanced datasets to different levels. Imbalance very often causes poor predictions, especially for minority class samples. In this dataset we are dealing with a mildly imbalanced dataset however many fraud datasets can have fraud cases making up as little as 0.1% of samples and security datasets even fewer.\n",
        "\n",
        "We would expect to achieve fairly good accuracy on the basis of this, however we will explore the impact that balance can have on the accuracy of a model and see if balancing can be beneficial to us. \n"
      ]
    },
    {
      "cell_type": "markdown",
      "metadata": {
        "id": "LWaLnWni3Zph"
      },
      "source": [
        "\n",
        "There are more than 10 techniques available for balancing datasets. Out of all I have detailed the three most used tchniques\n",
        "\n",
        "1.   Random under sampling: Removing majority of the class and keeping the data same as minor class. The main drawback of this technique is it may remove the important information from the dataset  \n",
        "\n",
        "2.   Random oversampling techniques: adding more value to minority class when there is not enough data for minority class however this can cause overfitting and poor generalization. \n",
        "\n",
        "3. SMOTE (Synthetic Minority Oversampling Techniques ) the main idea of this techniuqe is it randomly picks a point from minority class and compute k-nearest neighbour for the point. Synthetic points are added between. \n",
        "\n",
        "In this dataset we will use SMOTE for balancind as random over sampling is prone to overfitting and undersampling will remove some information that may be useful to our model.\n",
        "\n"
      ]
    },
    {
      "cell_type": "markdown",
      "metadata": {
        "id": "bgzPLrteWU58"
      },
      "source": [
        "The following function has some particular restrictions in order to work well with the Seclea Platform. We need the function that processes the dataset to return the dataset in a complete form - that is with both features and labels as part of the same DataFrame. \n",
        "\n",
        "This will likely be changed in the future but for now you will need to split the data in the function into features and labels for the oversampling and then concat them back together after sampling to return all together from the function."
      ]
    },
    {
      "cell_type": "code",
      "metadata": {
        "id": "Z6J1SaKf8CFI"
      },
      "source": [
        "# define a balancing function\n",
        "\n",
        "def smote_balance(df):\n",
        "    from imblearn.over_sampling import SMOTE\n",
        "\n",
        "    X1 = df.drop('fraud_reported', axis=1)\n",
        "    y1 = df.fraud_reported\n",
        "\n",
        "    sm = SMOTE(random_state=42)\n",
        "\n",
        "    X_sm, y_sm = sm.fit_resample(X1, y1)\n",
        "\n",
        "    print(f'''Shape of X before SMOTE: {X1.shape}\n",
        "    Shape of X after SMOTE: {X_sm.shape}''')\n",
        "    print(f'''Shape of y before SMOTE: {y1.shape}\n",
        "    Shape of y after SMOTE: {y_sm.shape}''')\n",
        "    return pd.concat([X_sm, y_sm], axis=1)\n"
      ],
      "execution_count": null,
      "outputs": []
    },
    {
      "cell_type": "code",
      "metadata": {
        "colab": {
          "base_uri": "https://localhost:8080/"
        },
        "id": "NqYSlbQ6h_UV",
        "outputId": "0d9fa36a-d325-46ba-dd1f-cf4403e51284"
      },
      "source": [
        "# Using Smote to balance the dataset \n",
        "df_const_smote = smote_balance(df_const)\n",
        "df_mode_smote = smote_balance(df_mode)"
      ],
      "execution_count": null,
      "outputs": [
        {
          "output_type": "stream",
          "name": "stdout",
          "text": [
            "Shape of X before SMOTE: (1000, 35)\n",
            "    Shape of X after SMOTE: (1506, 35)\n",
            "Shape of y before SMOTE: (1000,)\n",
            "    Shape of y after SMOTE: (1506,)\n",
            "Shape of X before SMOTE: (1000, 35)\n",
            "    Shape of X after SMOTE: (1506, 35)\n",
            "Shape of y before SMOTE: (1000,)\n",
            "    Shape of y after SMOTE: (1506,)\n"
          ]
        }
      ]
    },
    {
      "cell_type": "code",
      "metadata": {
        "colab": {
          "base_uri": "https://localhost:8080/",
          "height": 212
        },
        "id": "5A5M0otmD-oz",
        "outputId": "79a788d8-408f-4bba-c099-73e57c5fb481"
      },
      "source": [
        "df_const_smote.head(4)"
      ],
      "execution_count": null,
      "outputs": [
        {
          "output_type": "execute_result",
          "data": {
            "text/html": [
              "<div>\n",
              "<style scoped>\n",
              "    .dataframe tbody tr th:only-of-type {\n",
              "        vertical-align: middle;\n",
              "    }\n",
              "\n",
              "    .dataframe tbody tr th {\n",
              "        vertical-align: top;\n",
              "    }\n",
              "\n",
              "    .dataframe thead th {\n",
              "        text-align: right;\n",
              "    }\n",
              "</style>\n",
              "<table border=\"1\" class=\"dataframe\">\n",
              "  <thead>\n",
              "    <tr style=\"text-align: right;\">\n",
              "      <th></th>\n",
              "      <th>months_as_customer</th>\n",
              "      <th>policy_bind_date</th>\n",
              "      <th>policy_state</th>\n",
              "      <th>policy_csl</th>\n",
              "      <th>policy_deductable</th>\n",
              "      <th>policy_annual_premium</th>\n",
              "      <th>umbrella_limit</th>\n",
              "      <th>insured_zip</th>\n",
              "      <th>insured_sex</th>\n",
              "      <th>insured_education_level</th>\n",
              "      <th>insured_occupation</th>\n",
              "      <th>insured_hobbies</th>\n",
              "      <th>insured_relationship</th>\n",
              "      <th>capital-gains</th>\n",
              "      <th>capital-loss</th>\n",
              "      <th>incident_date</th>\n",
              "      <th>incident_type</th>\n",
              "      <th>collision_type</th>\n",
              "      <th>incident_severity</th>\n",
              "      <th>authorities_contacted</th>\n",
              "      <th>incident_state</th>\n",
              "      <th>incident_city</th>\n",
              "      <th>incident_location</th>\n",
              "      <th>incident_hour_of_the_day</th>\n",
              "      <th>number_of_vehicles_involved</th>\n",
              "      <th>property_damage</th>\n",
              "      <th>bodily_injuries</th>\n",
              "      <th>witnesses</th>\n",
              "      <th>police_report_available</th>\n",
              "      <th>total_claim_amount</th>\n",
              "      <th>injury_claim</th>\n",
              "      <th>property_claim</th>\n",
              "      <th>auto_make</th>\n",
              "      <th>auto_model</th>\n",
              "      <th>auto_year</th>\n",
              "      <th>fraud_reported</th>\n",
              "    </tr>\n",
              "  </thead>\n",
              "  <tbody>\n",
              "    <tr>\n",
              "      <th>0</th>\n",
              "      <td>328</td>\n",
              "      <td>940</td>\n",
              "      <td>2</td>\n",
              "      <td>1</td>\n",
              "      <td>1000</td>\n",
              "      <td>1406.91</td>\n",
              "      <td>0</td>\n",
              "      <td>466132</td>\n",
              "      <td>1</td>\n",
              "      <td>4</td>\n",
              "      <td>2</td>\n",
              "      <td>17</td>\n",
              "      <td>0</td>\n",
              "      <td>53300</td>\n",
              "      <td>0</td>\n",
              "      <td>24</td>\n",
              "      <td>2</td>\n",
              "      <td>3</td>\n",
              "      <td>0</td>\n",
              "      <td>4</td>\n",
              "      <td>4</td>\n",
              "      <td>1</td>\n",
              "      <td>996</td>\n",
              "      <td>5</td>\n",
              "      <td>1</td>\n",
              "      <td>2</td>\n",
              "      <td>1</td>\n",
              "      <td>2</td>\n",
              "      <td>2</td>\n",
              "      <td>71610</td>\n",
              "      <td>6510</td>\n",
              "      <td>13020</td>\n",
              "      <td>10</td>\n",
              "      <td>1</td>\n",
              "      <td>2004</td>\n",
              "      <td>1</td>\n",
              "    </tr>\n",
              "    <tr>\n",
              "      <th>1</th>\n",
              "      <td>228</td>\n",
              "      <td>635</td>\n",
              "      <td>1</td>\n",
              "      <td>1</td>\n",
              "      <td>2000</td>\n",
              "      <td>1197.22</td>\n",
              "      <td>5000000</td>\n",
              "      <td>468176</td>\n",
              "      <td>1</td>\n",
              "      <td>4</td>\n",
              "      <td>6</td>\n",
              "      <td>15</td>\n",
              "      <td>2</td>\n",
              "      <td>0</td>\n",
              "      <td>0</td>\n",
              "      <td>20</td>\n",
              "      <td>3</td>\n",
              "      <td>0</td>\n",
              "      <td>1</td>\n",
              "      <td>4</td>\n",
              "      <td>5</td>\n",
              "      <td>5</td>\n",
              "      <td>628</td>\n",
              "      <td>8</td>\n",
              "      <td>1</td>\n",
              "      <td>0</td>\n",
              "      <td>0</td>\n",
              "      <td>0</td>\n",
              "      <td>0</td>\n",
              "      <td>5070</td>\n",
              "      <td>780</td>\n",
              "      <td>780</td>\n",
              "      <td>8</td>\n",
              "      <td>12</td>\n",
              "      <td>2007</td>\n",
              "      <td>1</td>\n",
              "    </tr>\n",
              "    <tr>\n",
              "      <th>2</th>\n",
              "      <td>134</td>\n",
              "      <td>413</td>\n",
              "      <td>2</td>\n",
              "      <td>0</td>\n",
              "      <td>2000</td>\n",
              "      <td>1413.14</td>\n",
              "      <td>5000000</td>\n",
              "      <td>430632</td>\n",
              "      <td>0</td>\n",
              "      <td>6</td>\n",
              "      <td>11</td>\n",
              "      <td>2</td>\n",
              "      <td>3</td>\n",
              "      <td>35100</td>\n",
              "      <td>0</td>\n",
              "      <td>52</td>\n",
              "      <td>0</td>\n",
              "      <td>2</td>\n",
              "      <td>1</td>\n",
              "      <td>4</td>\n",
              "      <td>1</td>\n",
              "      <td>1</td>\n",
              "      <td>685</td>\n",
              "      <td>7</td>\n",
              "      <td>3</td>\n",
              "      <td>1</td>\n",
              "      <td>2</td>\n",
              "      <td>3</td>\n",
              "      <td>1</td>\n",
              "      <td>34650</td>\n",
              "      <td>7700</td>\n",
              "      <td>3850</td>\n",
              "      <td>4</td>\n",
              "      <td>30</td>\n",
              "      <td>2007</td>\n",
              "      <td>0</td>\n",
              "    </tr>\n",
              "    <tr>\n",
              "      <th>3</th>\n",
              "      <td>256</td>\n",
              "      <td>19</td>\n",
              "      <td>0</td>\n",
              "      <td>1</td>\n",
              "      <td>2000</td>\n",
              "      <td>1415.74</td>\n",
              "      <td>6000000</td>\n",
              "      <td>608117</td>\n",
              "      <td>0</td>\n",
              "      <td>6</td>\n",
              "      <td>1</td>\n",
              "      <td>2</td>\n",
              "      <td>4</td>\n",
              "      <td>48900</td>\n",
              "      <td>-62400</td>\n",
              "      <td>9</td>\n",
              "      <td>2</td>\n",
              "      <td>1</td>\n",
              "      <td>0</td>\n",
              "      <td>4</td>\n",
              "      <td>2</td>\n",
              "      <td>0</td>\n",
              "      <td>669</td>\n",
              "      <td>5</td>\n",
              "      <td>1</td>\n",
              "      <td>0</td>\n",
              "      <td>1</td>\n",
              "      <td>2</td>\n",
              "      <td>1</td>\n",
              "      <td>63400</td>\n",
              "      <td>6340</td>\n",
              "      <td>6340</td>\n",
              "      <td>3</td>\n",
              "      <td>34</td>\n",
              "      <td>2014</td>\n",
              "      <td>1</td>\n",
              "    </tr>\n",
              "  </tbody>\n",
              "</table>\n",
              "</div>"
            ],
            "text/plain": [
              "   months_as_customer  policy_bind_date  ...  auto_year  fraud_reported\n",
              "0                 328               940  ...       2004               1\n",
              "1                 228               635  ...       2007               1\n",
              "2                 134               413  ...       2007               0\n",
              "3                 256                19  ...       2014               1\n",
              "\n",
              "[4 rows x 36 columns]"
            ]
          },
          "metadata": {},
          "execution_count": 37
        }
      ]
    },
    {
      "cell_type": "code",
      "metadata": {
        "colab": {
          "base_uri": "https://localhost:8080/",
          "height": 212
        },
        "id": "ryuVKD2TYDd8",
        "outputId": "d12c52d6-fdc2-43df-9339-9cbb595595ee"
      },
      "source": [
        "df_mode_smote.head(4)"
      ],
      "execution_count": null,
      "outputs": [
        {
          "output_type": "execute_result",
          "data": {
            "text/html": [
              "<div>\n",
              "<style scoped>\n",
              "    .dataframe tbody tr th:only-of-type {\n",
              "        vertical-align: middle;\n",
              "    }\n",
              "\n",
              "    .dataframe tbody tr th {\n",
              "        vertical-align: top;\n",
              "    }\n",
              "\n",
              "    .dataframe thead th {\n",
              "        text-align: right;\n",
              "    }\n",
              "</style>\n",
              "<table border=\"1\" class=\"dataframe\">\n",
              "  <thead>\n",
              "    <tr style=\"text-align: right;\">\n",
              "      <th></th>\n",
              "      <th>months_as_customer</th>\n",
              "      <th>policy_bind_date</th>\n",
              "      <th>policy_state</th>\n",
              "      <th>policy_csl</th>\n",
              "      <th>policy_deductable</th>\n",
              "      <th>policy_annual_premium</th>\n",
              "      <th>umbrella_limit</th>\n",
              "      <th>insured_zip</th>\n",
              "      <th>insured_sex</th>\n",
              "      <th>insured_education_level</th>\n",
              "      <th>insured_occupation</th>\n",
              "      <th>insured_hobbies</th>\n",
              "      <th>insured_relationship</th>\n",
              "      <th>capital-gains</th>\n",
              "      <th>capital-loss</th>\n",
              "      <th>incident_date</th>\n",
              "      <th>incident_type</th>\n",
              "      <th>collision_type</th>\n",
              "      <th>incident_severity</th>\n",
              "      <th>authorities_contacted</th>\n",
              "      <th>incident_state</th>\n",
              "      <th>incident_city</th>\n",
              "      <th>incident_location</th>\n",
              "      <th>incident_hour_of_the_day</th>\n",
              "      <th>number_of_vehicles_involved</th>\n",
              "      <th>property_damage</th>\n",
              "      <th>bodily_injuries</th>\n",
              "      <th>witnesses</th>\n",
              "      <th>police_report_available</th>\n",
              "      <th>total_claim_amount</th>\n",
              "      <th>injury_claim</th>\n",
              "      <th>property_claim</th>\n",
              "      <th>auto_make</th>\n",
              "      <th>auto_model</th>\n",
              "      <th>auto_year</th>\n",
              "      <th>fraud_reported</th>\n",
              "    </tr>\n",
              "  </thead>\n",
              "  <tbody>\n",
              "    <tr>\n",
              "      <th>0</th>\n",
              "      <td>328</td>\n",
              "      <td>940</td>\n",
              "      <td>2</td>\n",
              "      <td>1</td>\n",
              "      <td>1000</td>\n",
              "      <td>1406.91</td>\n",
              "      <td>0</td>\n",
              "      <td>466132</td>\n",
              "      <td>1</td>\n",
              "      <td>4</td>\n",
              "      <td>2</td>\n",
              "      <td>17</td>\n",
              "      <td>0</td>\n",
              "      <td>53300</td>\n",
              "      <td>0</td>\n",
              "      <td>24</td>\n",
              "      <td>2</td>\n",
              "      <td>2</td>\n",
              "      <td>0</td>\n",
              "      <td>4</td>\n",
              "      <td>4</td>\n",
              "      <td>1</td>\n",
              "      <td>996</td>\n",
              "      <td>5</td>\n",
              "      <td>1</td>\n",
              "      <td>1</td>\n",
              "      <td>1</td>\n",
              "      <td>2</td>\n",
              "      <td>1</td>\n",
              "      <td>71610</td>\n",
              "      <td>6510</td>\n",
              "      <td>13020</td>\n",
              "      <td>10</td>\n",
              "      <td>1</td>\n",
              "      <td>2004</td>\n",
              "      <td>1</td>\n",
              "    </tr>\n",
              "    <tr>\n",
              "      <th>1</th>\n",
              "      <td>228</td>\n",
              "      <td>635</td>\n",
              "      <td>1</td>\n",
              "      <td>1</td>\n",
              "      <td>2000</td>\n",
              "      <td>1197.22</td>\n",
              "      <td>5000000</td>\n",
              "      <td>468176</td>\n",
              "      <td>1</td>\n",
              "      <td>4</td>\n",
              "      <td>6</td>\n",
              "      <td>15</td>\n",
              "      <td>2</td>\n",
              "      <td>0</td>\n",
              "      <td>0</td>\n",
              "      <td>20</td>\n",
              "      <td>3</td>\n",
              "      <td>1</td>\n",
              "      <td>1</td>\n",
              "      <td>4</td>\n",
              "      <td>5</td>\n",
              "      <td>5</td>\n",
              "      <td>628</td>\n",
              "      <td>8</td>\n",
              "      <td>1</td>\n",
              "      <td>0</td>\n",
              "      <td>0</td>\n",
              "      <td>0</td>\n",
              "      <td>0</td>\n",
              "      <td>5070</td>\n",
              "      <td>780</td>\n",
              "      <td>780</td>\n",
              "      <td>8</td>\n",
              "      <td>12</td>\n",
              "      <td>2007</td>\n",
              "      <td>1</td>\n",
              "    </tr>\n",
              "    <tr>\n",
              "      <th>2</th>\n",
              "      <td>134</td>\n",
              "      <td>413</td>\n",
              "      <td>2</td>\n",
              "      <td>0</td>\n",
              "      <td>2000</td>\n",
              "      <td>1413.14</td>\n",
              "      <td>5000000</td>\n",
              "      <td>430632</td>\n",
              "      <td>0</td>\n",
              "      <td>6</td>\n",
              "      <td>11</td>\n",
              "      <td>2</td>\n",
              "      <td>3</td>\n",
              "      <td>35100</td>\n",
              "      <td>0</td>\n",
              "      <td>52</td>\n",
              "      <td>0</td>\n",
              "      <td>1</td>\n",
              "      <td>1</td>\n",
              "      <td>4</td>\n",
              "      <td>1</td>\n",
              "      <td>1</td>\n",
              "      <td>685</td>\n",
              "      <td>7</td>\n",
              "      <td>3</td>\n",
              "      <td>0</td>\n",
              "      <td>2</td>\n",
              "      <td>3</td>\n",
              "      <td>0</td>\n",
              "      <td>34650</td>\n",
              "      <td>7700</td>\n",
              "      <td>3850</td>\n",
              "      <td>4</td>\n",
              "      <td>30</td>\n",
              "      <td>2007</td>\n",
              "      <td>0</td>\n",
              "    </tr>\n",
              "    <tr>\n",
              "      <th>3</th>\n",
              "      <td>256</td>\n",
              "      <td>19</td>\n",
              "      <td>0</td>\n",
              "      <td>1</td>\n",
              "      <td>2000</td>\n",
              "      <td>1415.74</td>\n",
              "      <td>6000000</td>\n",
              "      <td>608117</td>\n",
              "      <td>0</td>\n",
              "      <td>6</td>\n",
              "      <td>1</td>\n",
              "      <td>2</td>\n",
              "      <td>4</td>\n",
              "      <td>48900</td>\n",
              "      <td>-62400</td>\n",
              "      <td>9</td>\n",
              "      <td>2</td>\n",
              "      <td>0</td>\n",
              "      <td>0</td>\n",
              "      <td>4</td>\n",
              "      <td>2</td>\n",
              "      <td>0</td>\n",
              "      <td>669</td>\n",
              "      <td>5</td>\n",
              "      <td>1</td>\n",
              "      <td>0</td>\n",
              "      <td>1</td>\n",
              "      <td>2</td>\n",
              "      <td>0</td>\n",
              "      <td>63400</td>\n",
              "      <td>6340</td>\n",
              "      <td>6340</td>\n",
              "      <td>3</td>\n",
              "      <td>34</td>\n",
              "      <td>2014</td>\n",
              "      <td>1</td>\n",
              "    </tr>\n",
              "  </tbody>\n",
              "</table>\n",
              "</div>"
            ],
            "text/plain": [
              "   months_as_customer  policy_bind_date  ...  auto_year  fraud_reported\n",
              "0                 328               940  ...       2004               1\n",
              "1                 228               635  ...       2007               1\n",
              "2                 134               413  ...       2007               0\n",
              "3                 256                19  ...       2014               1\n",
              "\n",
              "[4 rows x 36 columns]"
            ]
          },
          "metadata": {},
          "execution_count": 38
        }
      ]
    },
    {
      "cell_type": "markdown",
      "metadata": {
        "id": "wwkKjkwd5bs8"
      },
      "source": [
        "### 4.4.1 Upload Smote datasets"
      ]
    },
    {
      "cell_type": "markdown",
      "metadata": {
        "id": "8dLcD3of6IH7"
      },
      "source": [
        "Here again we need to upload the transformed datasets.\n",
        "It is easier here because we only have the one transformation to upload and the metadata we can reuse as this transformation didn't affect that.\n",
        "\n",
        "This is in many ways the easiest way to keep track of your datasets and transformations as it saves keeping track of too many functions or variables at any one time.\n",
        "\n",
        "Note that we include the processed datasets as the parent here, not the original dataset. That is because this dataset comes directly from the processed dataset with one transformation, not directly from the original data."
      ]
    },
    {
      "cell_type": "code",
      "metadata": {
        "colab": {
          "base_uri": "https://localhost:8080/"
        },
        "id": "TXlXKsAM_TKc",
        "outputId": "318813da-6457-49f7-c5ea-002d041cf359"
      },
      "source": [
        "# here we need to define the transformations we applied to our original dataset\n",
        "\n",
        "smote_transformations = [\n",
        "    smote_balance,\n",
        "]\n",
        "\n",
        "seclea.upload_dataset(dataset=df_const_smote, \n",
        "                      dataset_name=\"Auto Insurance Fraud - Const fill - Smote\", \n",
        "                      metadata=processed_metadata, \n",
        "                      parent=df_const, \n",
        "                      transformations=smote_transformations)\n",
        "\n",
        "seclea.upload_dataset(dataset=df_mode_smote, \n",
        "                      dataset_name=\"Auto Insurance Fraud - Mode Fill - Smote\", \n",
        "                      metadata=processed_metadata, \n",
        "                      parent=df_mode, \n",
        "                      transformations=smote_transformations)"
      ],
      "execution_count": null,
      "outputs": [
        {
          "output_type": "stream",
          "name": "stdout",
          "text": [
            "Query Params:  {'project': 10, 'organization': 'Seclea', 'name': 'Auto Insurance Fraud - Const fill - Smote', 'metadata': '{\"index\": null, \"outcome_name\": \"fraud_reported\", \"continuous_features\": [\"total_claim_amount\", \"policy_annual_premium\", \"capital-gains\", \"capital-loss\", \"injury_claim\", \"property_claim\", \"incident_hour_of_the_day\"]}', 'hash': '1118736922497185914', 'parent': '-758745408087824886'}\n",
            "Query Params:  {'project': 10, 'organization': 'Seclea', 'name': 'Auto Insurance Fraud - Mode Fill - Smote', 'metadata': '{\"index\": null, \"outcome_name\": \"fraud_reported\", \"continuous_features\": [\"total_claim_amount\", \"policy_annual_premium\", \"capital-gains\", \"capital-loss\", \"injury_claim\", \"property_claim\", \"incident_hour_of_the_day\"]}', 'hash': '-1411472365711401538', 'parent': '1888157424819567954'}\n"
          ]
        }
      ]
    },
    {
      "cell_type": "markdown",
      "metadata": {
        "id": "lInp5XTvXhV2"
      },
      "source": [
        "Now head to platform.seclea.com again to take another look at the Datasets section. You will see that there is a lot more to look at this time.\n",
        "\n",
        "You can see here how the transformations are used to show you the history of the data and how it arrived in its final state."
      ]
    },
    {
      "cell_type": "markdown",
      "metadata": {
        "id": "79l01gLYTh7Y"
      },
      "source": [
        "## 4.6 Building Train and Test Datasets"
      ]
    },
    {
      "cell_type": "markdown",
      "metadata": {
        "id": "DGwTemHDicE0"
      },
      "source": [
        "Now that we have finished processing our data, and logged it in the Platform, we will define a function to split the data for input to our training and evaluation code."
      ]
    },
    {
      "cell_type": "code",
      "metadata": {
        "id": "Xl2vcgQzfcl5"
      },
      "source": [
        "# Splitting the dataset \n",
        "\n",
        "def get_test_train_splits(df, output_col, test_size, random_state):\n",
        "    from sklearn.model_selection import train_test_split\n",
        "\n",
        "    X = df.drop(output_col, axis=1)\n",
        "    y = df[output_col]\n",
        "\n",
        "    return train_test_split(X, y, test_size=0.2, stratify=y, random_state=random_state) \n"
      ],
      "execution_count": null,
      "outputs": []
    },
    {
      "cell_type": "markdown",
      "metadata": {
        "id": "5nlACEqQucZV"
      },
      "source": [
        "# 5.Modeling with Balancing Techniques"
      ]
    },
    {
      "cell_type": "markdown",
      "metadata": {
        "id": "du7w49uZ9AIF"
      },
      "source": [
        "Now we get started with the modelling. We will run the same models over each of our datasets to explore how the different processing of the data has affected our results.\n",
        "\n",
        "We will use three models from sklearn for this, DecisionTree, RandomForest and GradientBoosting Classifers. "
      ]
    },
    {
      "cell_type": "code",
      "metadata": {
        "colab": {
          "base_uri": "https://localhost:8080/"
        },
        "id": "2_KaPS30u5ga",
        "outputId": "36264834-3edf-495b-a42b-eebb5871bbee"
      },
      "source": [
        "!pip install tabulate\n",
        "!pip install seclea_utils --upgrade\n",
        "from tabulate import tabulate\n"
      ],
      "execution_count": null,
      "outputs": [
        {
          "output_type": "stream",
          "name": "stdout",
          "text": [
            "Requirement already satisfied: tabulate in /usr/local/lib/python3.7/dist-packages (0.8.9)\n",
            "Requirement already satisfied: seclea_utils in /usr/local/lib/python3.7/dist-packages (0.0.52)\n",
            "Requirement already satisfied: requests>=2.22.0 in /usr/local/lib/python3.7/dist-packages (from seclea_utils) (2.23.0)\n",
            "Requirement already satisfied: ujson>=4.0.2 in /usr/local/lib/python3.7/dist-packages (from seclea_utils) (4.3.0)\n",
            "Requirement already satisfied: zstandard>=0.15.2 in /usr/local/lib/python3.7/dist-packages (from seclea_utils) (0.16.0)\n",
            "Requirement already satisfied: urllib3>=1.25.8 in /usr/local/lib/python3.7/dist-packages (from seclea_utils) (1.25.11)\n",
            "Requirement already satisfied: certifi>=2017.4.17 in /usr/local/lib/python3.7/dist-packages (from requests>=2.22.0->seclea_utils) (2021.10.8)\n",
            "Requirement already satisfied: idna<3,>=2.5 in /usr/local/lib/python3.7/dist-packages (from requests>=2.22.0->seclea_utils) (2.10)\n",
            "Requirement already satisfied: chardet<4,>=3.0.2 in /usr/local/lib/python3.7/dist-packages (from requests>=2.22.0->seclea_utils) (3.0.4)\n"
          ]
        }
      ]
    },
    {
      "cell_type": "markdown",
      "metadata": {
        "id": "6Q83dyZCX7Nr"
      },
      "source": [
        "Here we are defining our classifiers in a dictionary, this will help to simplify training code later on."
      ]
    },
    {
      "cell_type": "code",
      "metadata": {
        "id": "Fya1s8yKpHyO"
      },
      "source": [
        " ### Modeling \n",
        "from sklearn.tree import DecisionTreeClassifier\n",
        "from sklearn.ensemble import RandomForestClassifier\n",
        "from sklearn.ensemble import GradientBoostingClassifier\n",
        "\n",
        "classifiers = {\n",
        "    \"RandomForestClassifier\": RandomForestClassifier(),\n",
        "    \"DecisionTreeClassifier\": DecisionTreeClassifier(),\n",
        "    \"GradientBoostingClassifier\": GradientBoostingClassifier()\n",
        "}"
      ],
      "execution_count": null,
      "outputs": []
    },
    {
      "cell_type": "markdown",
      "metadata": {
        "id": "upKZzCaAX-kP"
      },
      "source": [
        "Here we are training all of our classifiers on each of the datasets in turn so that we can easily and rapidly evaluate their performance.\n",
        "\n",
        "Note the use of functions really simplifies our lives here, we do not have to repeat code here as in reality we are doing the same thing for each classifier and dataset so better to loop over each and save ourselves some typing!"
      ]
    },
    {
      "cell_type": "code",
      "metadata": {
        "colab": {
          "base_uri": "https://localhost:8080/"
        },
        "id": "ar9kxXeCt9if",
        "outputId": "2bff63d0-23e8-47b8-d7bb-c835c14c43e2"
      },
      "source": [
        "from sklearn.model_selection import cross_val_score\n",
        "from sklearn.metrics import accuracy_score\n",
        "from seclea_utils.get_model_manager import Frameworks\n",
        "\n",
        "datasets = [(\"Const Fill\", df_const), (\"Mode Fill\", df_mode), (\"Const Fill Smote\", df_const_smote), (\"Mode Fill Smote\", df_mode_smote)]\n",
        "\n",
        "for name, dataset in datasets:\n",
        "    X_train, X_test, y_train, y_test = get_test_train_splits(dataset, output_col=\"fraud_reported\", test_size=0.2, random_state=42)\n",
        "\n",
        "    for key, classifier in classifiers.items():\n",
        "        # cross validate to get an idea of generalisation.\n",
        "        training_score = cross_val_score(classifier, X_train, y_train, cv=5)\n",
        "        # train on the full training set\n",
        "        classifier.fit(X_train, y_train)\n",
        "        # upload the fully trained model\n",
        "        seclea.upload_training_run(classifier, Frameworks.SKLEARN, dataset=dataset)\n",
        "        # test accuracy\n",
        "        y_preds = classifier.predict(X_test)\n",
        "        test_score = accuracy_score(y_test, y_preds)\n",
        "        print(f\"Classifier: {classifier.__class__.__name__} has a training score of {round(training_score.mean(), 3) * 100}% accuracy score on {name}\")\n",
        "        print(f\"Classifier: {classifier.__class__.__name__} has a test score of {round(test_score, 3) * 100}% accuracy score on {name}\")"
      ],
      "execution_count": null,
      "outputs": [
        {
          "output_type": "stream",
          "name": "stdout",
          "text": [
            "Classifier: RandomForestClassifier has a training score of 78.60000000000001% accuracy score on Const Fill\n",
            "Classifier: RandomForestClassifier has a test score of 76.5% accuracy score on Const Fill\n",
            "Classifier: DecisionTreeClassifier has a training score of 80.60000000000001% accuracy score on Const Fill\n",
            "Classifier: DecisionTreeClassifier has a test score of 76.5% accuracy score on Const Fill\n",
            "Classifier: GradientBoostingClassifier has a training score of 84.89999999999999% accuracy score on Const Fill\n",
            "Classifier: GradientBoostingClassifier has a test score of 81.5% accuracy score on Const Fill\n",
            "Classifier: RandomForestClassifier has a training score of 76.6% accuracy score on Mode Fill\n",
            "Classifier: RandomForestClassifier has a test score of 79.0% accuracy score on Mode Fill\n",
            "Classifier: DecisionTreeClassifier has a training score of 78.8% accuracy score on Mode Fill\n",
            "Classifier: DecisionTreeClassifier has a test score of 79.5% accuracy score on Mode Fill\n",
            "Classifier: GradientBoostingClassifier has a training score of 84.39999999999999% accuracy score on Mode Fill\n",
            "Classifier: GradientBoostingClassifier has a test score of 81.5% accuracy score on Mode Fill\n",
            "Classifier: RandomForestClassifier has a training score of 86.9% accuracy score on Const Fill Smote\n",
            "Classifier: RandomForestClassifier has a test score of 89.1% accuracy score on Const Fill Smote\n",
            "Classifier: DecisionTreeClassifier has a training score of 82.89999999999999% accuracy score on Const Fill Smote\n",
            "Classifier: DecisionTreeClassifier has a test score of 82.1% accuracy score on Const Fill Smote\n",
            "Classifier: GradientBoostingClassifier has a training score of 87.5% accuracy score on Const Fill Smote\n",
            "Classifier: GradientBoostingClassifier has a test score of 88.4% accuracy score on Const Fill Smote\n",
            "Classifier: RandomForestClassifier has a training score of 87.5% accuracy score on Mode Fill Smote\n",
            "Classifier: RandomForestClassifier has a test score of 88.1% accuracy score on Mode Fill Smote\n",
            "Classifier: DecisionTreeClassifier has a training score of 82.19999999999999% accuracy score on Mode Fill Smote\n",
            "Classifier: DecisionTreeClassifier has a test score of 81.8% accuracy score on Mode Fill Smote\n",
            "Classifier: GradientBoostingClassifier has a training score of 87.5% accuracy score on Mode Fill Smote\n",
            "Classifier: GradientBoostingClassifier has a test score of 88.4% accuracy score on Mode Fill Smote\n"
          ]
        }
      ]
    },
    {
      "cell_type": "markdown",
      "metadata": {
        "id": "1-2xUVjDwVwL"
      },
      "source": [
        "So now we can see the overall results but here is a perfect opportunity to head to the Platform to dig deeper into our results and the performance differences."
      ]
    },
    {
      "cell_type": "markdown",
      "metadata": {
        "id": "lXfubF2PhrzL"
      },
      "source": [
        "# 6.Hyperparameter tuning"
      ]
    },
    {
      "cell_type": "markdown",
      "metadata": {
        "id": "0wl5hiaT8Ysv"
      },
      "source": [
        "\n",
        "The reason for doing hyperparameter tuning is to find an optimal combination of hyperparameters that minimizes a predefined loss function to give better results. In simple words, hyper-parameters are tuned to get the best fit. I have used two types of parameters in this tutorial. One with default parameters and one by searching optimal parameters. \n",
        "\n",
        "In the case of the decision tree I have used default parameters whereas, in the case of random forest and Gradient boosting classifiers, I have used searching optional parameters. Using the scikit-learn best _estimator_attribute, we can then retrieve the set of hyperparameters that performed best during training to test our model.\n",
        "\n",
        "However, in this tutorial, I haven't run the gradient boost classifier as it took me more than half an hour. This tutorial will be available for the students so you can test anytime.  \n",
        "\n",
        "I have also used Mean Absolute Error(MAE), Mean Square Error(MSE) and Root Mean Squared Error( RMSE) to calculate the error. MEA is the average of the absolute differences between predictions and actual values. It gives an idea of how wrong the predictions were."
      ]
    },
    {
      "cell_type": "code",
      "metadata": {
        "colab": {
          "base_uri": "https://localhost:8080/",
          "height": 828
        },
        "id": "TXq2Fv08xprq",
        "outputId": "48b91db3-0920-4aaa-88be-45ff5f43b138"
      },
      "source": [
        "# Using default hyperparameter tunning for decesion Tree  and visualize  with max depth=3 \n",
        "from sklearn.model_selection import GridSearchCV\n",
        "\n",
        "tree_params = {\"criterion\": [\"gini\", \"entropy\"], \"max_depth\": list(range(2,4,1)), \n",
        "              \"min_samples_leaf\": list(range(5,7,1))}\n",
        "grid_tree = GridSearchCV(DecisionTreeClassifier(), tree_params)\n",
        "grid_tree.fit(X_sm_train, y_sm_train)\n",
        "\n",
        "# tree best estimator\n",
        "tree_clf = grid_tree.best_estimator_\n",
        "tree_score = cross_val_score(tree_clf, X_sm_train, y_sm_train, cv=5)\n",
        "print('DecisionTree Classifier Cross Validation Score', round(tree_score.mean() * 100, 2).astype(str) + '%')\n",
        "\n",
        "from sklearn import tree\n",
        "fig = plt.figure(figsize=(25,20))\n",
        "_ = tree.plot_tree(tree_clf ,\n",
        "                   feature_names=X_sm.columns,\n",
        "                   class_names=['fraudlant', \"Non fraudlant\"],\n",
        "                   filled=True)"
      ],
      "execution_count": null,
      "outputs": [
        {
          "output_type": "stream",
          "name": "stdout",
          "text": [
            "DecisionTree Classifier Cross Validation Score 82.8%\n"
          ]
        },
        {
          "output_type": "display_data",
          "data": {
            "image/png": "[encoded data removed]",
            "text/plain": [
              "<Figure size 1800x1440 with 1 Axes>"
            ]
          },
          "metadata": {
            "needs_background": "light"
          }
        }
      ]
    },
    {
      "cell_type": "code",
      "metadata": {
        "id": "G7Gezi2TuMc7"
      },
      "source": [
        "# Predicting the test set\n",
        "import numpy as np\n",
        "y_pred = grid_tree.predict(X_test)\n"
      ],
      "execution_count": null,
      "outputs": []
    },
    {
      "cell_type": "code",
      "metadata": {
        "colab": {
          "base_uri": "https://localhost:8080/"
        },
        "id": "-Ha2JJobtl8o",
        "outputId": "ecf8896e-823b-47c4-a939-883c6c2bd7f8"
      },
      "source": [
        "# Evaluating the Algorithm\n",
        "from sklearn import metrics\n",
        "print('Mean Absolute Error:', metrics.mean_absolute_error(y_test, y_pred))  \n",
        "print('Mean Squared Error:', metrics.mean_squared_error(y_test, y_pred))  \n",
        "print('Root Mean Squared Error:', np.sqrt(metrics.mean_squared_error(y_test, y_pred)))"
      ],
      "execution_count": null,
      "outputs": [
        {
          "output_type": "stream",
          "name": "stdout",
          "text": [
            "Mean Absolute Error: 0.15562913907284767\n",
            "Mean Squared Error: 0.15562913907284767\n",
            "Root Mean Squared Error: 0.3944985919782828\n"
          ]
        }
      ]
    },
    {
      "cell_type": "markdown",
      "metadata": {
        "id": "w4nNyJHCaBhK"
      },
      "source": [
        "We can see here that the hyper parameter tuning with Decision tree does increase the accuracy. "
      ]
    },
    {
      "cell_type": "code",
      "metadata": {
        "id": "siRra6_uGuE8"
      },
      "source": [
        "# Hyperparameter Tuning with RandomForest Classifier\n",
        "n_estimators = [5,20,50,100] # number of trees in the random forest\n",
        "max_features = ['auto', 'sqrt'] # number of features in consideration at every split\n",
        "max_depth = [int(x) for x in np.linspace(10, 120, num = 12)] # maximum number of levels allowed in each decision tree\n",
        "min_samples_split = [2, 6, 10] # minimum sample number to split a node\n",
        "min_samples_leaf = [1, 3, 4] # minimum sample number that can be stored in a leaf node\n",
        "bootstrap = [True, False] # method used to sample data points\n",
        "\n",
        "random_grid = {'n_estimators': n_estimators,\n",
        "\n",
        "'max_features': max_features,\n",
        "\n",
        "'max_depth': max_depth,\n",
        "\n",
        "'min_samples_split': min_samples_split,\n",
        "\n",
        "'min_samples_leaf': min_samples_leaf,\n",
        "\n",
        "'bootstrap': bootstrap}"
      ],
      "execution_count": null,
      "outputs": []
    },
    {
      "cell_type": "code",
      "metadata": {
        "id": "lA5KEgbSGwJx"
      },
      "source": [
        "## Importing Random Forest Classifier from the sklearn.ensemble\n",
        "from sklearn.ensemble import RandomForestClassifier\n",
        "base_estimator = RandomForestClassifier(random_state=42)"
      ],
      "execution_count": null,
      "outputs": []
    },
    {
      "cell_type": "code",
      "metadata": {
        "id": "-MDd11_aG3js"
      },
      "source": [
        "from sklearn.model_selection import RandomizedSearchCV\n",
        "rf_random = RandomizedSearchCV(estimator = base_estimator, param_distributions = random_grid,\n",
        "               n_iter = 100, cv = 5, verbose=2, random_state=35, n_jobs = -1)"
      ],
      "execution_count": null,
      "outputs": []
    },
    {
      "cell_type": "code",
      "metadata": {
        "id": "OeY3HfWvG3su",
        "colab": {
          "base_uri": "https://localhost:8080/"
        },
        "outputId": "61e7b390-4207-4a05-c76e-a32ee68f3b9c"
      },
      "source": [
        "rf_random.fit(X_sm_train, y_sm_train)"
      ],
      "execution_count": null,
      "outputs": [
        {
          "output_type": "stream",
          "name": "stdout",
          "text": [
            "Fitting 5 folds for each of 100 candidates, totalling 500 fits\n"
          ]
        },
        {
          "output_type": "execute_result",
          "data": {
            "text/plain": [
              "RandomizedSearchCV(cv=5, estimator=RandomForestClassifier(random_state=42),\n",
              "                   n_iter=100, n_jobs=-1,\n",
              "                   param_distributions={'bootstrap': [True, False],\n",
              "                                        'max_depth': [10, 20, 30, 40, 50, 60,\n",
              "                                                      70, 80, 90, 100, 110,\n",
              "                                                      120],\n",
              "                                        'max_features': ['auto', 'sqrt'],\n",
              "                                        'min_samples_leaf': [1, 3, 4],\n",
              "                                        'min_samples_split': [2, 6, 10],\n",
              "                                        'n_estimators': [5, 20, 50, 100]},\n",
              "                   random_state=35, verbose=2)"
            ]
          },
          "metadata": {},
          "execution_count": 456
        }
      ]
    },
    {
      "cell_type": "code",
      "metadata": {
        "id": "X_-ba6IdJXL-",
        "colab": {
          "base_uri": "https://localhost:8080/"
        },
        "outputId": "5d2c615e-386f-4f77-d4d9-42304dec2736"
      },
      "source": [
        "rf_random.best_params_"
      ],
      "execution_count": null,
      "outputs": [
        {
          "output_type": "execute_result",
          "data": {
            "text/plain": [
              "{'bootstrap': False,\n",
              " 'max_depth': 110,\n",
              " 'max_features': 'auto',\n",
              " 'min_samples_leaf': 1,\n",
              " 'min_samples_split': 6,\n",
              " 'n_estimators': 50}"
            ]
          },
          "metadata": {},
          "execution_count": 457
        }
      ]
    },
    {
      "cell_type": "code",
      "metadata": {
        "id": "3GDOTJe0HJ8C",
        "colab": {
          "base_uri": "https://localhost:8080/"
        },
        "outputId": "7fa5021d-938e-4305-e21a-08c8897525a2"
      },
      "source": [
        "print ('Random grid: ', random_grid, '\\n')\n",
        "#print the best parameters\n",
        "print ('Best Parameters: ', rf_random.best_params_, ' \\n')"
      ],
      "execution_count": null,
      "outputs": [
        {
          "output_type": "stream",
          "name": "stdout",
          "text": [
            "Random grid:  {'n_estimators': [5, 20, 50, 100], 'max_features': ['auto', 'sqrt'], 'max_depth': [10, 20, 30, 40, 50, 60, 70, 80, 90, 100, 110, 120], 'min_samples_split': [2, 6, 10], 'min_samples_leaf': [1, 3, 4], 'bootstrap': [True, False]} \n",
            "\n",
            "Best Parameters:  {'n_estimators': 50, 'min_samples_split': 6, 'min_samples_leaf': 1, 'max_features': 'auto', 'max_depth': 110, 'bootstrap': False}  \n",
            "\n"
          ]
        }
      ]
    },
    {
      "cell_type": "code",
      "metadata": {
        "id": "KH7jZtMq-OVU",
        "colab": {
          "base_uri": "https://localhost:8080/"
        },
        "outputId": "d819ba1a-4bbd-4212-ef2e-bb44c2a60cbc"
      },
      "source": [
        "##Check the Accuracy for RandomForest  : \n",
        "print(f'Train_Accuracy-:{rf_random.score(X_sm_train, y_sm_train):.5f}')"
      ],
      "execution_count": null,
      "outputs": [
        {
          "output_type": "stream",
          "name": "stdout",
          "text": [
            "Train_Accuracy-:1.00000\n"
          ]
        }
      ]
    },
    {
      "cell_type": "code",
      "metadata": {
        "id": "BrZglL1lQLYg"
      },
      "source": [
        "# Predicting the test set\n",
        "import numpy as np\n",
        "y_pred = rf_random.predict(X_test)"
      ],
      "execution_count": null,
      "outputs": []
    },
    {
      "cell_type": "code",
      "metadata": {
        "id": "T59xttkvtvg6",
        "colab": {
          "base_uri": "https://localhost:8080/"
        },
        "outputId": "c9cb4cc6-a1b1-4ae3-dbab-89c1f45f6770"
      },
      "source": [
        "# Evaluating the Algorithm\n",
        "from sklearn import metrics\n",
        "print('Mean Absolute Error:', metrics.mean_absolute_error(y_test, y_pred))  \n",
        "print('Mean Squared Error:', metrics.mean_squared_error(y_test, y_pred))  \n",
        "print('Root Mean Squared Error:', np.sqrt(metrics.mean_squared_error(y_test, y_pred)))"
      ],
      "execution_count": null,
      "outputs": [
        {
          "output_type": "stream",
          "name": "stdout",
          "text": [
            "Mean Absolute Error: 0.11589403973509933\n",
            "Mean Squared Error: 0.11589403973509933\n",
            "Root Mean Squared Error: 0.34043213675430134\n"
          ]
        }
      ]
    },
    {
      "cell_type": "code",
      "metadata": {
        "id": "GG-Y1NndcpwE"
      },
      "source": [
        "## Hyperparameter Tunning with GradientBoostingClassifier\n",
        "#from sklearn.model_selection import GridSearchCV"
      ],
      "execution_count": null,
      "outputs": []
    },
    {
      "cell_type": "code",
      "metadata": {
        "id": "f8pVMwmCcPB2"
      },
      "source": [
        "# Hyperparameter Tunning with GradientBoostingClassifier\n",
        "#from sklearn.ensemble import GradientBoostingClassifier\n",
        "#gbc = GradientBoostingClassifier()\n",
        "#parameters = {\n",
        "   #\"n_estimators\":[5,50,250,500],\n",
        "    #\"max_depth\":[1,3,5,7,9],\n",
        "    #\"learning_rate\":[0.01,0.1,1,10,100]\n",
        "#}"
      ],
      "execution_count": null,
      "outputs": []
    },
    {
      "cell_type": "code",
      "metadata": {
        "id": "fR68BARVpost"
      },
      "source": [
        "#from sklearn.model_selection import GridSearchCV\n",
        "#model = GridSearchCV(gbc,parameters,cv=5)\n",
        "#model.fit(X_sm_train, y_sm_train.values.ravel())"
      ],
      "execution_count": null,
      "outputs": []
    },
    {
      "cell_type": "code",
      "metadata": {
        "id": "W9OBhsfhpoxy"
      },
      "source": [
        "#def display(results):\n",
        "   # print(f'Best parameters are: {results.best_params_}')\n",
        "   # print(\"\\n\")\n",
        "    #mean_score = results.cv_results_['mean_test_score']\n",
        "   # std_score = results.cv_results_['std_test_score']\n",
        "    #params = results.cv_results_['params']\n",
        "    #for mean,std,params in zip(mean_score,std_score,params):\n",
        "      #  print(f'{round(mean,3)} + or -{round(std,3)} for the {params}')"
      ],
      "execution_count": null,
      "outputs": []
    },
    {
      "cell_type": "code",
      "metadata": {
        "id": "Cg3w8RHHpo1_"
      },
      "source": [
        "#display(cv)"
      ],
      "execution_count": null,
      "outputs": []
    },
    {
      "cell_type": "code",
      "metadata": {
        "id": "GHlu75tVtT7q"
      },
      "source": [
        "##Check the Accuracy for RandomForest  : \n",
        "#print(f'Train_Accuracy for GradientBoostingClassifier-:{model.score(X_sm_train, y_sm_train):.5f}')"
      ],
      "execution_count": null,
      "outputs": []
    },
    {
      "cell_type": "code",
      "metadata": {
        "id": "ZMPk3Qq_vdbz"
      },
      "source": [
        "##Predicting the test set\n",
        "#y_pred =  model.predict(X_test)"
      ],
      "execution_count": null,
      "outputs": []
    },
    {
      "cell_type": "code",
      "metadata": {
        "id": "zuT-xWytt0gi"
      },
      "source": [
        "# Evaluating the Algorithm\n",
        "#from sklearn import metrics\n",
        "#print('Mean Absolute Error:', metrics.mean_absolute_error(y_test, y_pred))  \n",
        "#print('Mean Squared Error:', metrics.mean_squared_error(y_test, y_pred))  \n",
        "#print('Root Mean Squared Error:', np.sqrt(metrics.mean_squared_error(y_test, y_pred)))\n"
      ],
      "execution_count": null,
      "outputs": []
    },
    {
      "cell_type": "code",
      "metadata": {
        "id": "kJ1kxf_GvopZ"
      },
      "source": [
        "# Summerization table \n",
        "#table = [['Classifiers',' Before_Accuracy', 'After_Accuracy_HT'], ['RandomForestClassifier', '86%', '98.26%'], ['DecisionTreeClassifier', '81%','84.25%'], ['GradientBoostingClassifier','87%','91%']]\n",
        "#print(tabulate(table, headers='firstrow', tablefmt='grid'))"
      ],
      "execution_count": null,
      "outputs": []
    },
    {
      "cell_type": "markdown",
      "metadata": {
        "id": "1QtyccdO17bo"
      },
      "source": [
        "After Comparing the model with and without hyper tuning.  It seems that the accuracy of the model increases for RFC  increases by 12%. Similarly, for DecisionTreeClassifier it increases by 5% and for | GradientBoostingClassifier by 4%. It proves that the accuracy of the model will increase with hyper tuning. "
      ]
    },
    {
      "cell_type": "code",
      "metadata": {
        "id": "blu-i-STw_iY"
      },
      "source": [
        "# Comparing the Mean Absolute Error,Mean Squared Error and Root Mean Squared Error"
      ],
      "execution_count": null,
      "outputs": []
    },
    {
      "cell_type": "code",
      "metadata": {
        "id": "JHy3pbO3xLxG",
        "colab": {
          "base_uri": "https://localhost:8080/"
        },
        "outputId": "2cc2d6c6-5776-4f36-8b61-506562f1eb18"
      },
      "source": [
        "table = [['Classifiers',' Mean Absolute Error', 'Mean Squared Error', 'Root Mean Squared Error'], ['RandomForestClassifier', ' 0.1158', '0.1158','0.3404'], ['DecisionTreeClassifier', '0.1556', '0.1556','0.3944']] ##['GradientBoostingClassifier','0.115','0.115','0.339']]\n",
        "print(tabulate(table, headers='firstrow', tablefmt='grid'))"
      ],
      "execution_count": null,
      "outputs": [
        {
          "output_type": "stream",
          "name": "stdout",
          "text": [
            "+------------------------+------------------------+----------------------+---------------------------+\n",
            "| Classifiers            |    Mean Absolute Error |   Mean Squared Error |   Root Mean Squared Error |\n",
            "+========================+========================+======================+===========================+\n",
            "| RandomForestClassifier |                 0.1158 |               0.1158 |                    0.3404 |\n",
            "+------------------------+------------------------+----------------------+---------------------------+\n",
            "| DecisionTreeClassifier |                 0.1556 |               0.1556 |                    0.3944 |\n",
            "+------------------------+------------------------+----------------------+---------------------------+\n"
          ]
        }
      ]
    },
    {
      "cell_type": "markdown",
      "metadata": {
        "id": "QuLlzKzrysVj"
      },
      "source": [
        "After calculation absolute mean error, mean square error and root mean square error, it seems that the RandomForest Classifier has the least error followed by DecisionTree Classifier. As the lower error a better result. "
      ]
    },
    {
      "cell_type": "markdown",
      "metadata": {
        "id": "wKko3j24a0rZ"
      },
      "source": [
        "# 7.Evaluation of the models"
      ]
    },
    {
      "cell_type": "markdown",
      "metadata": {
        "id": "JJhWD1dALuMN"
      },
      "source": [
        "The Receiver Operator Characteristic (ROC) curve is an evaluation metric for binary classification problems. It is a probability curve that plots the true positive rate against the false positive rate.he Area Under the Curve (AUC) is the measure of the ability of a classifier to distinguish between classes and is used as a summary of the ROC curve.\n"
      ]
    },
    {
      "cell_type": "code",
      "metadata": {
        "id": "GDBDJm_ebaXJ"
      },
      "source": [
        "from sklearn.metrics import roc_curve\n",
        "from sklearn.model_selection import cross_val_predict\n",
        "# Create a DataFrame with all the scores and the classifiers names.\n",
        "\n",
        "DecisionTree_Classifier= cross_val_predict(tree_clf, X_sm_train, y_sm_train, cv=5)\n",
        "RandomForest_Classifier= cross_val_predict(base_estimator, X_sm_train, y_sm_train, cv=5)\n",
        "#GradientBoostingClassifier = cross_val_predict(model , X_sm_train, y_sm_train, cv=5)                             \n"
      ],
      "execution_count": null,
      "outputs": []
    },
    {
      "cell_type": "code",
      "metadata": {
        "id": "vFnnSHQQhPc6",
        "colab": {
          "base_uri": "https://localhost:8080/"
        },
        "outputId": "fec87808-1a10-44c7-c411-b961b237ab41"
      },
      "source": [
        "from sklearn.metrics import roc_auc_score\n",
        "print('DecisionTree_Classifier: ', roc_auc_score(y_sm_train, DecisionTree_Classifier))\n",
        "print('RandomForest_Classifier: ', roc_auc_score(y_sm_train, RandomForest_Classifier))\n",
        "#print('GradientBoostingClassifier: ', roc_auc_score(y_sm_train, GradientBoostingClassifier))"
      ],
      "execution_count": null,
      "outputs": [
        {
          "output_type": "stream",
          "name": "stdout",
          "text": [
            "DecisionTree_Classifier:  0.8280730897009967\n",
            "RandomForest_Classifier:  0.8671096345514949\n"
          ]
        }
      ]
    },
    {
      "cell_type": "code",
      "metadata": {
        "id": "z_3X7RnFiDNN"
      },
      "source": [
        "tree_fpr, tree_tpr, tree_threshold = roc_curve(y_sm_train, DecisionTree_Classifier)\n",
        "base_estimator_fpr, base_estimator_tpr, base_estimator_threshold = roc_curve(y_sm_train, RandomForest_Classifier)\n",
        "#model_fpr, model_tpr, model_threshold = roc_curve(y_sm_train, GradientBoostingClassifier)"
      ],
      "execution_count": null,
      "outputs": []
    },
    {
      "cell_type": "code",
      "metadata": {
        "id": "ToyaKqqRkZEJ",
        "colab": {
          "base_uri": "https://localhost:8080/",
          "height": 543
        },
        "outputId": "a73bc0c5-d605-492e-ec67-1b25a9d33f2f"
      },
      "source": [
        "def graph_roc_curve_multiple(tree_fpr, tree_tpr, base_estimator_fpr, base_estimator_tpr): #,model_fpr, model_tpr):\n",
        "    plt.figure(figsize=(16,8))\n",
        "    plt.title('ROC Curve \\n Top 2 Classifiers', fontsize=18)\n",
        "    plt.plot(tree_fpr, tree_tpr, label='DecisionTree_Classifier Score: {:.4f}'.format(roc_auc_score(y_sm_train, DecisionTree_Classifier)))\n",
        "    plt.plot(base_estimator_fpr, base_estimator_tpr, label='RandomForest_Classifier Score: {:.4f}'.format(roc_auc_score(y_sm_train, RandomForest_Classifier)))\n",
        "    #plt.plot(model_fpr, model_tpr, label='GradientBoostingClassifier Score: {:.4f}'.format(roc_auc_score(y_sm_train, GradientBoostingClassifier)))\n",
        "\n",
        "    plt.plot([0, 1], [0, 1], 'k--')\n",
        "    plt.axis([-0.01, 1, 0, 1])\n",
        "    plt.xlabel('False Positive Rate', fontsize=16)\n",
        "    plt.ylabel('True Positive Rate', fontsize=16)\n",
        "    plt.annotate('Minimum ROC Score of 50% \\n (This is the minimum score to get)', xy=(0.5, 0.5), xytext=(0.6, 0.3),\n",
        "                arrowprops=dict(facecolor='#6E726D', shrink=0.05),\n",
        "                )\n",
        "    plt.legend()\n",
        "    \n",
        "graph_roc_curve_multiple(tree_fpr, tree_tpr, base_estimator_fpr, base_estimator_tpr) ##,model_fpr, model_tpr)\n",
        "plt.show()"
      ],
      "execution_count": null,
      "outputs": [
        {
          "output_type": "display_data",
          "data": {
            "image/png": "[encoded data removed]",
            "text/plain": [
              "<Figure size 1152x576 with 1 Axes>"
            ]
          },
          "metadata": {
            "needs_background": "light"
          }
        }
      ]
    },
    {
      "cell_type": "markdown",
      "metadata": {
        "id": "EwTxpq_4h4wf"
      },
      "source": [
        "From the plot, the AUC for the Random Forest Classifier ROC curve is higher than that for the Decision tree classifier ROC curve. Therefore, we can say that the Random Forest Classifier did a better classification of the positive class in the dataset."
      ]
    }
  ]
}
