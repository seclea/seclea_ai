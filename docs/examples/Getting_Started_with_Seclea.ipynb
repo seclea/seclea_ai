{
 "nbformat": 4,
 "nbformat_minor": 0,
 "metadata": {
  "colab": {
   "name": "Getting Started with Seclea!",
   "provenance": []
  },
  "kernelspec": {
   "name": "python3",
   "language": "python",
   "display_name": "Python 3 (ipykernel)"
  },
  "language_info": {
   "name": "python"
  }
 },
 "cells": [
  {
   "cell_type": "markdown",
   "source": [
    "<img src=\"https://github.com/seclea/seclea_ai/raw/dev/docs/media/logos/logo-light.png\" width=\"400\" alt=\"Seclea\" />"
   ],
   "metadata": {
    "collapsed": false
   }
  },
  {
   "cell_type": "markdown",
   "source": [
    "# Getting Started\n",
    "\n",
    "We will run through a sample project showing how to use Seclea's tools to record your data science work\n",
    "and explore the results in the Seclea Platform.\n"
   ],
   "metadata": {
    "collapsed": false
   }
  },
  {
   "cell_type": "markdown",
   "source": [
    "## Set up the Project\n",
    "\n",
    "Head to [platform.seclea.com](https://platform.seclea.com) and log in.\n",
    "\n",
    "Create a new project and give it a name and description.\n",
    "\n",
    "<img src=\"https://github.com/seclea/seclea_ai/media/notebooks/getting_started/create-new-project.png\" width=300/>\n",
    "<img src=\"https://github.com/seclea/seclea_ai/media/notebooks/getting_started/create-project-name-description.png\" width=300/>\n",
    "\n",
    "Go to project settings\n",
    "\n",
    "<img src=\"https://github.com/seclea/seclea_ai/media/notebooks/getting_started/project-settings.png\" width=300/>\n",
    "\n",
    "Select Compliance, Risk and Performance Templates for this project.\n",
    "These are optional but are needed to take advantage of Checks. If in doubt leave these empty for now and come back.\n",
    "\n",
    "TODO fill in images --- here ---"
   ],
   "metadata": {
    "collapsed": false
   }
  },
  {
   "cell_type": "markdown",
   "source": [
    "## Integrate with seclea-ai\n",
    "\n",
    "You can get the seclea-ai package from either pip or conda-forge - whichever you prefer!"
   ],
   "metadata": {
    "collapsed": false,
    "pycharm": {
     "name": "#%% md\n"
    }
   }
  },
  {
   "cell_type": "code",
   "execution_count": null,
   "outputs": [],
   "source": [
    "!pip install seclea_ai\n",
    "# !conda install seclea_ai"
   ],
   "metadata": {
    "collapsed": false,
    "pycharm": {
     "name": "#%%\n"
    }
   }
  },
  {
   "cell_type": "markdown",
   "source": [
    "When you initialise the SecleaAI object you will be prompted to login if you haven't already done so.\n",
    "Use the same Project Name you used earlier and the Organization name provided with your credentials.\n"
   ],
   "metadata": {
    "collapsed": false,
    "pycharm": {
     "name": "#%% md\n"
    }
   }
  },
  {
   "cell_type": "code",
   "execution_count": 1,
   "outputs": [
    {
     "name": "stderr",
     "output_type": "stream",
     "text": [
      "/opt/homebrew/Caskroom/miniforge/base/envs/seclea-ai/lib/python3.8/site-packages/xgboost/compat.py:36: FutureWarning: pandas.Int64Index is deprecated and will be removed from pandas in a future version. Use pandas.Index with the appropriate dtype instead.\n",
      "  from pandas import MultiIndex, Int64Index\n"
     ]
    },
    {
     "name": "stdout",
     "output_type": "stream",
     "text": [
      "Cookies: {'refresh_token': 'eyJ0eXAiOiJKV1QiLCJhbGciOiJSUzI1NiJ9.eyJ0b2tlbl90eXBlIjoicmVmcmVzaCIsImV4cCI6MTY0OTg3MDQxMywianRpIjoiNDI4ZDY5NGVhMzMwNDIyYWJjYzllNTYwZjNhYzliM2UiLCJ1c2VyX2lkIjoiYXNkZkBnbWFpbC5jb20iLCJfZGF0YSI6eyJ1c2VyIjp7ImZpcnN0X25hbWUiOiIiLCJsYXN0X25hbWUiOiIiLCJ1c2VybmFtZSI6Im9uZXNwYW5hZG1pbiIsImVtYWlsIjoiYXNkZkBnbWFpbC5jb20iLCJvcmdhbml6YXRpb25fcGVybWlzc2lvbnMiOnsiYWRtaW4iOlt7Im5hbWUiOiJPbmVzcGFuIiwiaXNfYWN0aXZlIjp0cnVlfV0sImRhdGFfc2NpZW50aXN0IjpbeyJuYW1lIjoiT25lc3BhbiIsImlzX2FjdGl2ZSI6dHJ1ZX1dLCJhbmFseXN0IjpbeyJuYW1lIjoiT25lc3BhbiIsImlzX2FjdGl2ZSI6dHJ1ZX1dfX19fQ.avCT0LA-wISNTm7ccngmoqhXM7XEXzfjlsEafDYJfRS6T5x5iWohKaiqCz0BFLu-su9jwZalyFlU9ns4oznLgUyJSg9iZzh0I0-3o60sorC52UmTsErJj7Mqtf_1JXeSgAMBaFF-6LuGiowRuSN5QYCSfP-w_BcnIke856GlUgXlVBQ0KLnItIzxeT7e02SJqus1om85WvrXOGylkGEHxB9F45Aes0wD45pFAo0sbWSIgIg-JSTClBKQcVnXBx1-LB1lpJRpiMZN73rJ5l2OtybKf5IVPgwUQ3-KSoIz4hSLrmb90DMMTS9Km5qL21WWpcyHMwcTID9T83SZrjdO8joDQ3RxzKgFgKgBCGBEUyGja8TPLcIKV1FDWKPDnIpF8aetdTl3xyHb5Q1nJEASj8YrkGYW9tLc82INP5Azcr_vSboHHJHBRQrfRTU8-UuZh79XSONqfhWyShrFqV4nesdoqlkCTVLdswLEr_VcliJvIOPZ-uk1TQ6S2e0paE5CDcsRXUQVIomI9xTfmCtezAh2Gh41oebds8DzYmXo9d6Rcmjvlk8kE3BJsiI7vvsJ5x_4IqNe7_vKCNoQsV07eep6q6eMaggkxVjn11FMM8e_V4x6ePpc8uUYcR2socy0QrCmRjLGoNEAx50k7WGk-IP4kZ11vHadpZhj7OMhuRM', 'access_token': 'eyJ0eXAiOiJKV1QiLCJhbGciOiJSUzI1NiJ9.eyJ0b2tlbl90eXBlIjoiYWNjZXNzIiwiZXhwIjoxNjQ5ODA5MzQ4LCJqdGkiOiJkZmQzOGE5YTA0OWM0OTg4OTMzZTE4YjBmOTFmNDI0YiIsInVzZXJfaWQiOiJhc2RmQGdtYWlsLmNvbSIsIl9kYXRhIjp7InVzZXIiOnsiZmlyc3RfbmFtZSI6IiIsImxhc3RfbmFtZSI6IiIsInVzZXJuYW1lIjoib25lc3BhbmFkbWluIiwiZW1haWwiOiJhc2RmQGdtYWlsLmNvbSIsIm9yZ2FuaXphdGlvbl9wZXJtaXNzaW9ucyI6eyJhZG1pbiI6W3sibmFtZSI6Ik9uZXNwYW4iLCJpc19hY3RpdmUiOnRydWV9XSwiZGF0YV9zY2llbnRpc3QiOlt7Im5hbWUiOiJPbmVzcGFuIiwiaXNfYWN0aXZlIjp0cnVlfV0sImFuYWx5c3QiOlt7Im5hbWUiOiJPbmVzcGFuIiwiaXNfYWN0aXZlIjp0cnVlfV19fX19.R_gSYhAWLgvSZOPHjq23-WLIwa8gGDwNKjmW2e0vroZnN680ajyixgefnpdA4qD4g6b9sl4Li7GTQfqZS_CxnDVJB0wp06zVMQJIc6Obwg10wtgfjSeXHzoDPHXcdP2V0i6yJXA7EMk7pKvLnkBnM4HT8PsmnLPVM8q78tc9yEWOEUvdjXKffJe7oRifth-VHtLnZe1E2WKW59ozyj0FKzExe6PpDs84Eae4RRDbwXsb_cKA-rxNuSigN6CqfEq44JFUisj4U88MzEyKW3M2yy82nh1oHp7_tlVNIu9XtZPoSUhlRKVAxa5uzXQFfoAxBBiyqvt5vS0XnFlFtCggUYiK5oC9zRqqh5lFJjTzwkPIQ4TkFI8_MoCwOUmNY6NacbHNVKvB4aOmujJTp-fLmGp5pYOBKFxe3SITHkUVKefugbO8zxR56Gw48dNBlxDSuKAPCvln5_UfdNldc8B0oOpqZDYUFJjIq000ZAZwjpCFKo--WEBdeK8U4lVSILdwHpW2kwX9mdxyRxG9WUFvoIH3-iFvMmExg6JVsJbeWQKRRSVgEs4RwMcDAlpk3eY2uX-u-R6CobSQG45y6yoW-ErUULA1fYTb5-qQYiZbh37TuuTqdM796rHJgMpjdLErLPGCFoq-vwhEmxxxoVNyKQGLi-eFdQJrM6JSA-eYPbQ'}\n",
      "success\n"
     ]
    }
   ],
   "source": [
    "from seclea_ai import SecleaAI\n",
    "\n",
    "# NOTE - use the organization name provided to you when issued credentials.\n",
    "seclea = SecleaAI(project_name=\"Car Insurance Fraud Detection\", organization='Onespan', platform_url=\"http://localhost:8000\", auth_url=\"http://localhost:8010\")"
   ],
   "metadata": {
    "collapsed": false,
    "pycharm": {
     "name": "#%%\n"
    }
   }
  },
  {
   "cell_type": "markdown",
   "source": [
    "## 🗄 Handle the Data\n",
    "\n",
    "Download the [data](https://raw.githubusercontent.com/seclea/seclea_ai/dev/docs/examples/insurance_claims.csv) for\n",
    "this tutorial if you are working on this in Colab or without reference to the repo - this is an Insurance Claims dataset with a variety of features and 1000 samples.\n",
    "\n",
    "Now we can upload the initial data to the Seclea Platform. \n",
    "\n",
    "This should include whatever information we know about the dataset at this point as metadata. \n",
    "There are only two keys to add in metadata for now - outcome_name and continuous_features.\n",
    "\n",
    "You can leave out outcome_name if you haven't decided what you will be predicting yet, but you should\n",
    "know or be able to find out the continuous features at this point.\n",
    "\n",
    "You can also update these when uploading datasets\n",
    "during/after pre-processing. \n"
   ],
   "metadata": {
    "collapsed": false
   }
  },
  {
   "cell_type": "code",
   "execution_count": 2,
   "outputs": [],
   "source": [
    "import numpy as np\n",
    "import pandas as pd\n",
    "\n",
    "# load the data \n",
    "data = pd.read_csv('insurance_claims.csv', index_col=\"policy_number\")\n",
    "\n",
    "# define the metadata for the dataset.\n",
    "dataset_metadata = {\"outcome_name\": \"fraud_reported\", \n",
    "                    \"continuous_features\": [\n",
    "                                            \"total_claim_amount\",\n",
    "                                            'policy_annual_premium',\n",
    "                                            'capital-gains',\n",
    "                                            'capital-loss',\n",
    "                                            'injury_claim',\n",
    "                                            'property_claim',\n",
    "                                            'vehicle_claim',\n",
    "                                            'incident_hour_of_the_day',\n",
    "                                            ]}\n",
    "\n",
    "\n",
    "# ⬆️ upload the dataset - pick a meaningful name here, you'll be seeing it a lot on the platform!\n",
    "seclea.upload_dataset(dataset=data, dataset_name=\"Auto Insurance Fraud\", metadata=dataset_metadata)\n"
   ],
   "metadata": {
    "collapsed": false,
    "pycharm": {
     "name": "#%%\n"
    }
   }
  },
  {
   "cell_type": "markdown",
   "source": [
    "### 🔍 Evaluating the Dataset\n",
    "\n",
    "Head back to the platform, so we can take a look at our Dataset\n",
    "\n",
    "Navigate to the Datasets section - under Prepare tab. See the preview and use the format check/PII check.\n",
    "\n",
    "PII  and Format Check\n",
    "\n",
    "Bias Check\n",
    "\n",
    "Include screen shots."
   ],
   "metadata": {
    "collapsed": false
   }
  },
  {
   "cell_type": "markdown",
   "source": [
    "## 🔀 Transformations\n",
    "\n",
    "When using Seclea to record your Data Science work you will have to take care with how you\n",
    "deal with transformations of the data.\n",
    "\n",
    "We require that all transformations are encapsulated in a function, that takes the data and returns the\n",
    "transformed data. There are a few things to be aware of so please see the [docs](https://docs.seclea.com) for more."
   ],
   "metadata": {
    "collapsed": false
   }
  },
  {
   "cell_type": "code",
   "execution_count": 3,
   "outputs": [],
   "source": [
    "# Create a copy to isolate the original dataset\n",
    "df1 = data.copy(deep=True)\n",
    "\n",
    "def encode_nans(df):\n",
    "    # convert the special characters to nans\n",
    "    return df.replace('?', np.NaN)\n",
    "\n",
    "df2 = encode_nans(df1)"
   ],
   "metadata": {
    "collapsed": false,
    "pycharm": {
     "name": "#%%\n"
    }
   }
  },
  {
   "cell_type": "markdown",
   "source": [
    "## 🧽 Data Cleaning\n",
    "\n",
    "We will carry out some pre-processing and generate a few different datasets so that we\n",
    "can see on the platform how to track these.This also means we can train our models on some\n",
    "different data and see how that affects performance."
   ],
   "metadata": {
    "collapsed": false
   }
  },
  {
   "cell_type": "code",
   "execution_count": 4,
   "outputs": [
    {
     "name": "stdout",
     "output_type": "stream",
     "text": [
      "Columns to drop with correlation > 0.9: ['age', 'vehicle_claim']\n"
     ]
    },
    {
     "name": "stderr",
     "output_type": "stream",
     "text": [
      "/var/folders/yg/2b7814tx3js7jgnyw_cdydn80000gn/T/ipykernel_46636/4208148544.py:16: DeprecationWarning: `np.bool` is a deprecated alias for the builtin `bool`. To silence this warning, use `bool` by itself. Doing this will not modify any behavior and is safe. If you specifically wanted the numpy scalar type, use `np.bool_` here.\n",
      "Deprecated in NumPy 1.20; for more details and guidance: https://numpy.org/devdocs/release/1.20.0-notes.html#deprecations\n",
      "  upper = corr_matrix.where(np.triu(np.ones(corr_matrix.shape), k=1).astype(np.bool))\n"
     ]
    }
   ],
   "source": [
    "## Drop the the column which are more than some proportion NaN values\n",
    "def drop_nulls(df, threshold):\n",
    "    cols = [x for x in df.columns if df[x].isnull().sum() / df.shape[0] > threshold]\n",
    "    return df.drop(columns=cols)\n",
    "\n",
    "# We choose 95% as our threshold\n",
    "null_thresh = 0.95\n",
    "df3 = drop_nulls(df2, threshold=null_thresh)\n",
    "\n",
    "def drop_correlated(data, thresh):\n",
    "    import numpy as np\n",
    "\n",
    "    # calculate correlations\n",
    "    corr_matrix = data.corr().abs()\n",
    "    # get the upper part of correlation matrix\n",
    "    upper = corr_matrix.where(np.triu(np.ones(corr_matrix.shape), k=1).astype(np.bool))\n",
    "\n",
    "    # columns with correlation above threshold\n",
    "    redundant = [column for column in upper.columns if any(upper[column] >= thresh)]\n",
    "    print(f\"Columns to drop with correlation > {thresh}: {redundant}\")\n",
    "    new_data = data.drop(columns=redundant)\n",
    "    return new_data\n",
    "\n",
    "# drop columns that are too closely correlated\n",
    "correlation_threshold = 0.9\n",
    "df4 = drop_correlated(df3, correlation_threshold)"
   ],
   "metadata": {
    "collapsed": false,
    "pycharm": {
     "name": "#%%\n"
    }
   }
  },
  {
   "cell_type": "markdown",
   "source": [
    "## ⬆️ Upload Intermediate Dataset\n",
    "\n",
    "Before getting to balancing the datasets we will upload them to the Seclea Platform.\n",
    "\n",
    "- We define the metadata for the dataset - if there have been any changes since the original dataset we need to put that here, otherwise we can reuse the original metadata. In this case we have dropped some of the continuous feature columns so we will need to redefine\n",
    "\n",
    "- We define the transformations that took place between the last state we uploaded and this dataset. This is a list of functions and arguments. See docs.seclea.com for more details of the correct formatting.\n",
    "\n"
   ],
   "metadata": {
    "collapsed": false,
    "pycharm": {
     "name": "#%% md\n"
    }
   }
  },
  {
   "cell_type": "code",
   "execution_count": 5,
   "outputs": [
    {
     "name": "stderr",
     "output_type": "stream",
     "text": [
      "/var/folders/yg/2b7814tx3js7jgnyw_cdydn80000gn/T/ipykernel_46636/4208148544.py:16: DeprecationWarning: `np.bool` is a deprecated alias for the builtin `bool`. To silence this warning, use `bool` by itself. Doing this will not modify any behavior and is safe. If you specifically wanted the numpy scalar type, use `np.bool_` here.\n",
      "Deprecated in NumPy 1.20; for more details and guidance: https://numpy.org/devdocs/release/1.20.0-notes.html#deprecations\n",
      "  upper = corr_matrix.where(np.triu(np.ones(corr_matrix.shape), k=1).astype(np.bool))\n"
     ]
    },
    {
     "name": "stdout",
     "output_type": "stream",
     "text": [
      "Columns to drop with correlation > 0.9: ['age', 'vehicle_claim']\n"
     ]
    }
   ],
   "source": [
    "from seclea_ai.transformations import DatasetTransformation\n",
    "\n",
    "# define the metadata\n",
    "processed_metadata = {\n",
    "                  \"outcome_name\": \"fraud_reported\",\n",
    "                  \"continuous_features\": [\"total_claim_amount\",\n",
    "                                          'policy_annual_premium',\n",
    "                                          'capital-gains',\n",
    "                                          'capital-loss',\n",
    "                                          'injury_claim',\n",
    "                                          'property_claim',\n",
    "                                          'incident_hour_of_the_day',\n",
    "                                          ]}\n",
    "\n",
    "# 🔀 define the transformations - note the arguments\n",
    "cleaning_transformations = [\n",
    "            DatasetTransformation(encode_nans, data_kwargs={\"df\": df1}, kwargs={}, outputs=[\"df\"]),\n",
    "            DatasetTransformation(\n",
    "                drop_nulls, data_kwargs={\"df\": \"inherit\"}, kwargs={\"threshold\": null_thresh}, outputs=[\"data\"]\n",
    "            ),\n",
    "            DatasetTransformation(\n",
    "                drop_correlated, data_kwargs={\"data\": \"inherit\"}, kwargs={\"thresh\": correlation_threshold}, outputs=[\"df\"]\n",
    "            ),\n",
    "        ]\n",
    "\n",
    "# ⬆️ upload the cleaned datasets\n",
    "seclea.upload_dataset(dataset=df4,\n",
    "                      dataset_name=\"Auto Insurance Fraud - Cleaned\",\n",
    "                      metadata=processed_metadata,\n",
    "                      transformations=cleaning_transformations)\n"
   ],
   "metadata": {
    "collapsed": false,
    "pycharm": {
     "name": "#%%\n"
    }
   }
  },
  {
   "cell_type": "code",
   "execution_count": 6,
   "outputs": [
    {
     "name": "stdout",
     "output_type": "stream",
     "text": [
      "Shape of X before SMOTE: (800, 35)\n",
      "    Shape of X after SMOTE: (1204, 35)\n",
      "Shape of y before SMOTE: (800,)\n",
      "    Shape of y after SMOTE: (1204,)\n",
      "Shape of X before SMOTE: (800, 35)\n",
      "    Shape of X after SMOTE: (1204, 35)\n",
      "Shape of y before SMOTE: (800,)\n",
      "    Shape of y after SMOTE: (1204,)\n",
      "Shape of X before SMOTE: (800, 35)\n",
      "    Shape of X after SMOTE: (1204, 35)\n",
      "Shape of y before SMOTE: (800,)\n",
      "    Shape of y after SMOTE: (1204,)\n",
      "Shape of X before SMOTE: (800, 35)\n",
      "    Shape of X after SMOTE: (1204, 35)\n",
      "Shape of y before SMOTE: (800,)\n",
      "    Shape of y after SMOTE: (1204,)\n"
     ]
    }
   ],
   "source": [
    "def fill_nan_const(df, val):\n",
    "    \"\"\"Fill NaN values in the dataframe with a constant value\"\"\"\n",
    "    return df.replace(['None', np.nan], val)\n",
    "\n",
    "\n",
    "# Fill nans in 1st dataset with -1\n",
    "const_val = -1\n",
    "df_const = fill_nan_const(df4, const_val)\n",
    "\n",
    "def fill_nan_mode(df, columns):\n",
    "    \"\"\"\n",
    "    Fills nans in specified columns with the mode of that column\n",
    "    Note that we want to make sure to not modify the dataset we passed in but to\n",
    "    return a new copy.\n",
    "    We do that by making a copy and specifying deep=True.\n",
    "    \"\"\"\n",
    "    new_df = df.copy(deep=True)\n",
    "    for col in df.columns:\n",
    "        if col in columns:\n",
    "            new_df[col] = df[col].fillna(df[col].mode()[0])\n",
    "    return new_df\n",
    "\n",
    "\n",
    "nan_cols = ['collision_type','property_damage', 'police_report_available']\n",
    "df_mode = fill_nan_mode(df4, nan_cols)\n",
    "\n",
    "\n",
    "# find columns with categorical data for both dataset\n",
    "cat_cols = df_const.select_dtypes(include=['object']).columns.tolist()\n",
    "\n",
    "def encode_categorical(df, cat_cols): \n",
    "  from sklearn.preprocessing import LabelEncoder\n",
    "\n",
    "  new_df = df.copy(deep=True)\n",
    "  for col in cat_cols:\n",
    "    if col in df.columns:\n",
    "        le = LabelEncoder()\n",
    "        le.fit(list(df[col].astype(str).values))\n",
    "        new_df[col] = le.transform(list(df[col].astype(str).values))\n",
    "  return new_df\n",
    "\n",
    "df_const = encode_categorical(df_const, cat_cols)\n",
    "df_mode = encode_categorical(df_mode, cat_cols)\n",
    "\n",
    "\n",
    "\n",
    "\n",
    "# 🔀 define the transformations - for the constant fill dataset\n",
    "const_processed_transformations = [\n",
    "    DatasetTransformation(fill_nan_const, data_kwargs={\"df\": df4}, kwargs={\"val\": const_val}, outputs=[\"df\"]),\n",
    "    DatasetTransformation(encode_categorical, data_kwargs={\"df\": \"inherit\"}, kwargs={\"cat_cols\":cat_cols}, outputs=[\"df\"]),\n",
    "]\n",
    "\n",
    "# ⬆️ upload the constant fill dataset\n",
    "seclea.upload_dataset(dataset=df_const, \n",
    "                      dataset_name=\"Auto Insurance Fraud - Const Fill\", \n",
    "                      metadata=processed_metadata,\n",
    "                      transformations=const_processed_transformations)\n",
    "\n",
    "# 🔀 define the transformations - for the mode fill dataset\n",
    "mode_processed_transformations = [\n",
    "    DatasetTransformation(fill_nan_mode, data_kwargs={\"df\": df4}, kwargs={\"columns\": nan_cols}, outputs=[\"df\"]),\n",
    "    DatasetTransformation(encode_categorical, data_kwargs={\"df\": \"inherit\"}, kwargs={\"cat_cols\": cat_cols}, outputs=[\"df\"]),\n",
    "]\n",
    "\n",
    "# ⬆️ upload the mode fill dataset\n",
    "seclea.upload_dataset(dataset=df_mode,\n",
    "                      dataset_name=\"Auto Insurance Fraud - Mode Fill\",\n",
    "                      metadata=processed_metadata,\n",
    "                      transformations=mode_processed_transformations)\n",
    "\n",
    "def get_samples_labels(df, output_col):\n",
    "    X = df.drop(output_col, axis=1)\n",
    "    y = df[output_col]\n",
    "\n",
    "    return X, y\n",
    "\n",
    "# split the datasets into samples and labels ready for modelling.\n",
    "X_const, y_const = get_samples_labels(df_const, \"fraud_reported\")\n",
    "X_mode, y_mode = get_samples_labels(df_mode, \"fraud_reported\")\n",
    "\n",
    "def get_test_train_splits(X, y, test_size, random_state):\n",
    "    from sklearn.model_selection import train_test_split\n",
    "\n",
    "    return train_test_split(\n",
    "        X, y, test_size=test_size, stratify=y, random_state=random_state\n",
    "    )\n",
    "    # returns X_train, X_test, y_train, y_test\n",
    "\n",
    "# split into test and train sets\n",
    "X_train_const, X_test_const, y_train_const, y_test_const = get_test_train_splits(X_const, y_const, test_size=0.2, random_state=42)\n",
    "X_train_mode, X_test_mode, y_train_mode, y_test_mode = get_test_train_splits(X_mode, y_mode, test_size=0.2, random_state=42)\n",
    "\n",
    "# 🔀 define the transformations - for the constant fill training set\n",
    "const_train_transformations = [\n",
    "    DatasetTransformation(\n",
    "            get_test_train_splits,\n",
    "            data_kwargs={\"X\": X_const, \"y\": y_const},\n",
    "            kwargs={\"test_size\": 0.2, \"random_state\": 42},\n",
    "            outputs=[\"X_train_const\", None, \"y_train_const\", None],\n",
    "            split=\"train\",\n",
    "            ),\n",
    "]\n",
    "\n",
    "# ⬆️ upload the const fill training set\n",
    "seclea.upload_dataset_split(\n",
    "                        X=X_train_const,\n",
    "                        y=y_train_const,\n",
    "                        dataset_name=\"Auto Insurance Fraud - Const Fill - Train\",\n",
    "                        metadata=processed_metadata,\n",
    "                        transformations=const_train_transformations\n",
    ")\n",
    "\n",
    "# 🔀 define the transformations - for the constant fill test set\n",
    "const_test_transformations = [\n",
    "    DatasetTransformation(\n",
    "            get_test_train_splits,\n",
    "            data_kwargs={\"X\": X_const, \"y\": y_const},\n",
    "            kwargs={\"test_size\": 0.2, \"random_state\": 42},\n",
    "            outputs=[None, \"X_test_const\", None, \"y_test_const\"],\n",
    "            split=\"test\"\n",
    "            ),\n",
    "]\n",
    "\n",
    "# ⬆️ upload the const fill test set\n",
    "seclea.upload_dataset_split(X=X_test_const,\n",
    "                      y=y_test_const,\n",
    "                      dataset_name=\"Auto Insurance Fraud - Const Fill - Test\",\n",
    "                      metadata=processed_metadata,\n",
    "                      transformations=const_test_transformations)\n",
    "\n",
    "# 🔀 define the transformations - for the mode fill training set\n",
    "mode_train_transformations = [\n",
    "    DatasetTransformation(\n",
    "            get_test_train_splits,\n",
    "            data_kwargs={\"X\": X_mode, \"y\": y_mode},\n",
    "            kwargs={\"test_size\": 0.2, \"random_state\": 42},\n",
    "            outputs=[\"X_train_mode\", None, \"y_train_mode\", None],\n",
    "            split=\"train\",\n",
    "            ),\n",
    "]\n",
    "\n",
    "# ⬆️ upload the mode fill train set\n",
    "seclea.upload_dataset_split(X=X_train_mode,\n",
    "                      y=y_train_mode,\n",
    "                      dataset_name=\"Auto Insurance Fraud - Mode Fill - Train\",\n",
    "                      metadata=processed_metadata,\n",
    "                      transformations=mode_train_transformations)\n",
    "\n",
    "# 🔀 define the transformations - for the mode fill test set\n",
    "mode_test_transformations = [\n",
    "    DatasetTransformation(\n",
    "            get_test_train_splits,\n",
    "            data_kwargs={\"X\": X_mode, \"y\": y_mode},\n",
    "            kwargs={\"test_size\": 0.2, \"random_state\": 42},\n",
    "            outputs=[None, \"X_test_mode\", None, \"y_test_mode\"],\n",
    "            split=\"test\",\n",
    "            ),\n",
    "]\n",
    "\n",
    "# ⬆️ upload the mode fill test set\n",
    "seclea.upload_dataset_split(X=X_test_mode,\n",
    "                      y=y_test_mode,\n",
    "                      dataset_name=\"Auto Insurance Fraud - Mode Fill - Test\",\n",
    "                      metadata=processed_metadata,\n",
    "                      transformations=mode_test_transformations)\n",
    "\n",
    "\n",
    "\n",
    "def smote_balance(X, y, random_state):\n",
    "    from imblearn.over_sampling import SMOTE\n",
    "\n",
    "    sm = SMOTE(random_state=random_state)\n",
    "\n",
    "    X_sm, y_sm = sm.fit_resample(X, y)\n",
    "\n",
    "    print(\n",
    "        f\"\"\"Shape of X before SMOTE: {X.shape}\n",
    "    Shape of X after SMOTE: {X_sm.shape}\"\"\"\n",
    "    )\n",
    "    print(\n",
    "        f\"\"\"Shape of y before SMOTE: {y.shape}\n",
    "    Shape of y after SMOTE: {y_sm.shape}\"\"\"\n",
    "    )\n",
    "    return X_sm, y_sm\n",
    "    # returns X, y\n",
    "\n",
    "# balance the training sets - creating new training sets for comparison\n",
    "X_train_const_smote, y_train_const_smote = smote_balance(X_train_const, y_train_const, random_state=42)\n",
    "X_train_mode_smote, y_train_mode_smote = smote_balance(X_train_mode, y_train_mode, random_state=42)\n",
    "\n",
    "# 🔀 define the transformations - for the constant fill balanced train set\n",
    "const_smote_transformations = [\n",
    "    DatasetTransformation(\n",
    "            smote_balance,\n",
    "            data_kwargs={\"X\": X_train_const, \"y\": y_train_const},\n",
    "            kwargs={\"random_state\": 42},\n",
    "            outputs=[\"X\", \"y\"]\n",
    "            ),\n",
    "]\n",
    "\n",
    "# ⬆️ upload the constant fill balanced train set\n",
    "seclea.upload_dataset_split(X=X_train_const_smote,\n",
    "                      y=y_train_const_smote,\n",
    "                      dataset_name=\"Auto Insurance Fraud - Const Fill - Smote Train\",\n",
    "                      metadata=processed_metadata,\n",
    "                      transformations=const_smote_transformations)\n",
    "\n",
    "# 🔀 define the transformations - for the mode fill balanced train set\n",
    "mode_smote_transformations = [\n",
    "    DatasetTransformation(\n",
    "            smote_balance,\n",
    "            data_kwargs={\"X\": X_train_mode, \"y\": y_train_mode},\n",
    "            kwargs={\"random_state\": 42},\n",
    "            outputs=[\"X\", \"y\"]\n",
    "            ),\n",
    "]\n",
    "\n",
    "# ⬆️ upload the mode fill balanced train set\n",
    "seclea.upload_dataset_split(X=X_train_mode_smote,\n",
    "                      y=y_train_mode_smote,\n",
    "                      dataset_name=\"Auto Insurance Fraud - Mode Fill - Smote Train\",\n",
    "                      metadata=processed_metadata,\n",
    "                      transformations=mode_smote_transformations)"
   ],
   "metadata": {
    "collapsed": false,
    "pycharm": {
     "name": "#%%\n"
    }
   }
  },
  {
   "cell_type": "markdown",
   "source": [
    "### 🔍 Evaluating the Transformations\n",
    "\n",
    "Now head to platform.seclea.com again to take another look at the Datasets section. You will see that there is a lot more to look at this time.\n",
    "\n",
    "You can see here how the transformations are used to show you the history of the data and how it arrived in its final state."
   ],
   "metadata": {
    "collapsed": false
   }
  },
  {
   "cell_type": "markdown",
   "source": [
    "# 🛠️ Modeling"
   ],
   "metadata": {
    "collapsed": false
   }
  },
  {
   "cell_type": "markdown",
   "source": [
    "Now we get started with the modelling. We will run the same models over each of our datasets to explore how the different processing of the data has affected our results.\n",
    "\n",
    "We will use three models from sklearn for this, DecisionTree, RandomForest and GradientBoosting Classifers. \n"
   ],
   "metadata": {
    "collapsed": false
   }
  },
  {
   "cell_type": "markdown",
   "source": [
    "## 📈 Training"
   ],
   "metadata": {
    "collapsed": false
   }
  },
  {
   "cell_type": "code",
   "execution_count": 7,
   "outputs": [
    {
     "name": "stdout",
     "output_type": "stream",
     "text": [
      "Cookies: {'refresh_token': 'eyJ0eXAiOiJKV1QiLCJhbGciOiJSUzI1NiJ9.eyJ0b2tlbl90eXBlIjoicmVmcmVzaCIsImV4cCI6MTY0OTg3MDQxMywianRpIjoiNDI4ZDY5NGVhMzMwNDIyYWJjYzllNTYwZjNhYzliM2UiLCJ1c2VyX2lkIjoiYXNkZkBnbWFpbC5jb20iLCJfZGF0YSI6eyJ1c2VyIjp7ImZpcnN0X25hbWUiOiIiLCJsYXN0X25hbWUiOiIiLCJ1c2VybmFtZSI6Im9uZXNwYW5hZG1pbiIsImVtYWlsIjoiYXNkZkBnbWFpbC5jb20iLCJvcmdhbml6YXRpb25fcGVybWlzc2lvbnMiOnsiYWRtaW4iOlt7Im5hbWUiOiJPbmVzcGFuIiwiaXNfYWN0aXZlIjp0cnVlfV0sImRhdGFfc2NpZW50aXN0IjpbeyJuYW1lIjoiT25lc3BhbiIsImlzX2FjdGl2ZSI6dHJ1ZX1dLCJhbmFseXN0IjpbeyJuYW1lIjoiT25lc3BhbiIsImlzX2FjdGl2ZSI6dHJ1ZX1dfX19fQ.avCT0LA-wISNTm7ccngmoqhXM7XEXzfjlsEafDYJfRS6T5x5iWohKaiqCz0BFLu-su9jwZalyFlU9ns4oznLgUyJSg9iZzh0I0-3o60sorC52UmTsErJj7Mqtf_1JXeSgAMBaFF-6LuGiowRuSN5QYCSfP-w_BcnIke856GlUgXlVBQ0KLnItIzxeT7e02SJqus1om85WvrXOGylkGEHxB9F45Aes0wD45pFAo0sbWSIgIg-JSTClBKQcVnXBx1-LB1lpJRpiMZN73rJ5l2OtybKf5IVPgwUQ3-KSoIz4hSLrmb90DMMTS9Km5qL21WWpcyHMwcTID9T83SZrjdO8joDQ3RxzKgFgKgBCGBEUyGja8TPLcIKV1FDWKPDnIpF8aetdTl3xyHb5Q1nJEASj8YrkGYW9tLc82INP5Azcr_vSboHHJHBRQrfRTU8-UuZh79XSONqfhWyShrFqV4nesdoqlkCTVLdswLEr_VcliJvIOPZ-uk1TQ6S2e0paE5CDcsRXUQVIomI9xTfmCtezAh2Gh41oebds8DzYmXo9d6Rcmjvlk8kE3BJsiI7vvsJ5x_4IqNe7_vKCNoQsV07eep6q6eMaggkxVjn11FMM8e_V4x6ePpc8uUYcR2socy0QrCmRjLGoNEAx50k7WGk-IP4kZ11vHadpZhj7OMhuRM', 'access_token': 'eyJ0eXAiOiJKV1QiLCJhbGciOiJSUzI1NiJ9.eyJ0b2tlbl90eXBlIjoiYWNjZXNzIiwiZXhwIjoxNjQ5ODA5NDE0LCJqdGkiOiJiOGY4ZDgzZTkyOTM0YTA2OGFlZDMxNThlMjkyOTFmMCIsInVzZXJfaWQiOiJhc2RmQGdtYWlsLmNvbSIsIl9kYXRhIjp7InVzZXIiOnsiZmlyc3RfbmFtZSI6IiIsImxhc3RfbmFtZSI6IiIsInVzZXJuYW1lIjoib25lc3BhbmFkbWluIiwiZW1haWwiOiJhc2RmQGdtYWlsLmNvbSIsIm9yZ2FuaXphdGlvbl9wZXJtaXNzaW9ucyI6eyJhZG1pbiI6W3sibmFtZSI6Ik9uZXNwYW4iLCJpc19hY3RpdmUiOnRydWV9XSwiZGF0YV9zY2llbnRpc3QiOlt7Im5hbWUiOiJPbmVzcGFuIiwiaXNfYWN0aXZlIjp0cnVlfV0sImFuYWx5c3QiOlt7Im5hbWUiOiJPbmVzcGFuIiwiaXNfYWN0aXZlIjp0cnVlfV19fX19.mWqE1fJ72mPYo1s7PFHJ7gQa8BlyYY7Dh_yNUla3ZOcxp8CrsYZe3quEnBOrZ2JxhzW1sLBtuny8oLoE_owI4oq-FL68M4kzT4HlTk_tRWCMT0PeBZT9ZOTdeod0T2um-7KNRWYt12R4zMU_YyKaM3v_h6gTDemQ7nISWdDGiiRNjjD3Vou0xsuGkFMOcj3GJIPX-XDWWx8DXbtIABb27-0N-pkMpO7c5Mxp3nWYlGFyNJYzctvtKAXvvAN0R4iFTo85l-e8zIN0s8oKt9qVYBBJOeLiwzpTj5OssfxOW2ptpbp9dxuI5MZHQhHG8zMWeKLx1jscZKiCuEjJMe8LX87oqriXPrN5AUt99-PnNv_Qjssl1Kr_Ob4_ayXEtjPuh2sDw7_4bh_r6-VPJgvLYo2f6e2beHTBYr5cYbhOLCTjYKYHeEduxYvxXaq1N3A-MkSllfhbnqFyLsWQ6XjLXTngBJriyoAgHqQwNr5aelTAQ6VFGnwqgIpODEHxv1CZLDIbFiM31YtekdQ88TZ53hUUMXF_Dku-2e6jwSilExsfTnDU1OqpneysYDYVjhfcAoPtuDkL0gAcuH0Q3EEtBCUr84UKfA17D8o2en6MQ2oHEhL3zPh8aUy7JmJOVZoKmpPVnxwg6eag_8UUzKiGhOwfdPxPC2yqfojeYox4Qtk'}\n",
      "Classifier: RandomForestClassifier has a training score of 77.0% accuracy score on Const Fill\n",
      "Classifier: RandomForestClassifier has a test score of 77.5% accuracy score on Const Fill\n",
      "Cookies: {'refresh_token': 'eyJ0eXAiOiJKV1QiLCJhbGciOiJSUzI1NiJ9.eyJ0b2tlbl90eXBlIjoicmVmcmVzaCIsImV4cCI6MTY0OTg3MDQxMywianRpIjoiNDI4ZDY5NGVhMzMwNDIyYWJjYzllNTYwZjNhYzliM2UiLCJ1c2VyX2lkIjoiYXNkZkBnbWFpbC5jb20iLCJfZGF0YSI6eyJ1c2VyIjp7ImZpcnN0X25hbWUiOiIiLCJsYXN0X25hbWUiOiIiLCJ1c2VybmFtZSI6Im9uZXNwYW5hZG1pbiIsImVtYWlsIjoiYXNkZkBnbWFpbC5jb20iLCJvcmdhbml6YXRpb25fcGVybWlzc2lvbnMiOnsiYWRtaW4iOlt7Im5hbWUiOiJPbmVzcGFuIiwiaXNfYWN0aXZlIjp0cnVlfV0sImRhdGFfc2NpZW50aXN0IjpbeyJuYW1lIjoiT25lc3BhbiIsImlzX2FjdGl2ZSI6dHJ1ZX1dLCJhbmFseXN0IjpbeyJuYW1lIjoiT25lc3BhbiIsImlzX2FjdGl2ZSI6dHJ1ZX1dfX19fQ.avCT0LA-wISNTm7ccngmoqhXM7XEXzfjlsEafDYJfRS6T5x5iWohKaiqCz0BFLu-su9jwZalyFlU9ns4oznLgUyJSg9iZzh0I0-3o60sorC52UmTsErJj7Mqtf_1JXeSgAMBaFF-6LuGiowRuSN5QYCSfP-w_BcnIke856GlUgXlVBQ0KLnItIzxeT7e02SJqus1om85WvrXOGylkGEHxB9F45Aes0wD45pFAo0sbWSIgIg-JSTClBKQcVnXBx1-LB1lpJRpiMZN73rJ5l2OtybKf5IVPgwUQ3-KSoIz4hSLrmb90DMMTS9Km5qL21WWpcyHMwcTID9T83SZrjdO8joDQ3RxzKgFgKgBCGBEUyGja8TPLcIKV1FDWKPDnIpF8aetdTl3xyHb5Q1nJEASj8YrkGYW9tLc82INP5Azcr_vSboHHJHBRQrfRTU8-UuZh79XSONqfhWyShrFqV4nesdoqlkCTVLdswLEr_VcliJvIOPZ-uk1TQ6S2e0paE5CDcsRXUQVIomI9xTfmCtezAh2Gh41oebds8DzYmXo9d6Rcmjvlk8kE3BJsiI7vvsJ5x_4IqNe7_vKCNoQsV07eep6q6eMaggkxVjn11FMM8e_V4x6ePpc8uUYcR2socy0QrCmRjLGoNEAx50k7WGk-IP4kZ11vHadpZhj7OMhuRM', 'access_token': 'eyJ0eXAiOiJKV1QiLCJhbGciOiJSUzI1NiJ9.eyJ0b2tlbl90eXBlIjoiYWNjZXNzIiwiZXhwIjoxNjQ5ODA5NDE1LCJqdGkiOiI1OTkzMTQ0MDZkZmQ0ZmMwYjE5ZDM1Y2Q4MGFmOWNiOCIsInVzZXJfaWQiOiJhc2RmQGdtYWlsLmNvbSIsIl9kYXRhIjp7InVzZXIiOnsiZmlyc3RfbmFtZSI6IiIsImxhc3RfbmFtZSI6IiIsInVzZXJuYW1lIjoib25lc3BhbmFkbWluIiwiZW1haWwiOiJhc2RmQGdtYWlsLmNvbSIsIm9yZ2FuaXphdGlvbl9wZXJtaXNzaW9ucyI6eyJhZG1pbiI6W3sibmFtZSI6Ik9uZXNwYW4iLCJpc19hY3RpdmUiOnRydWV9XSwiZGF0YV9zY2llbnRpc3QiOlt7Im5hbWUiOiJPbmVzcGFuIiwiaXNfYWN0aXZlIjp0cnVlfV0sImFuYWx5c3QiOlt7Im5hbWUiOiJPbmVzcGFuIiwiaXNfYWN0aXZlIjp0cnVlfV19fX19.QgFM1rsbqe9IPzWFTPBsH63AP9raEVJjQXacNG_0HlCu0jVk41dHqW2tS33w_CoukQtyZ4c2TXQjetD4l6u18nRdj-TtfykK4vnZUZchu2YuBsqllS02Aoqr5ytqlMVpnX_5KlBwuuS-Kd-f6dkP52PiO9WlFnotKDLFiMDEnMGSttBsnzyuBLhuTBS9p_Z_j7QsF_lhx5EYmLvqr--C75X7LfDTZzE2iEvjDRhf0xEdrgDXgC5uV-GlgLXMn9AT-mMRlwZw28YgrylC4FaX14OTrSIMAhutCJQeALCHL89lxYVkyx6KYXP3FnbncoMXnOPw12RIYcuJVRA8xNBj0ujbSxZYFypKGT0rCj5xOHkDWW3rwJKbgJaMlV3stuJ_MsftD61U8guy0FRWb7kpcjfAR6QuI10IJdE24rL58DzuK3oU9l6OzvZ0_UsNnvi-wcAUKztMgsiggp9LY15KfURM8ecwSKGBd52DQpmAVqt7qZ1t987PLwYswtRZL3LHhCko3Bgeay04SZnTNY04XJ1r_BRogChJw3vJeZQUr8Qlld5SodYd6H-uE_E7VnFZqx_89J-Xa-8K-0H5NV8wuRa9kNEQ7C2HEA94utGw01gPbVKKmyIkv6hBi7pZenoWhxpblx8t6KUwstIDtnPdAT3BRk_NliKMOKfGJP-2cK0'}\n",
      "Classifier: DecisionTreeClassifier has a training score of 78.0% accuracy score on Const Fill\n",
      "Classifier: DecisionTreeClassifier has a test score of 80.0% accuracy score on Const Fill\n",
      "Cookies: {'refresh_token': 'eyJ0eXAiOiJKV1QiLCJhbGciOiJSUzI1NiJ9.eyJ0b2tlbl90eXBlIjoicmVmcmVzaCIsImV4cCI6MTY0OTg3MDQxMywianRpIjoiNDI4ZDY5NGVhMzMwNDIyYWJjYzllNTYwZjNhYzliM2UiLCJ1c2VyX2lkIjoiYXNkZkBnbWFpbC5jb20iLCJfZGF0YSI6eyJ1c2VyIjp7ImZpcnN0X25hbWUiOiIiLCJsYXN0X25hbWUiOiIiLCJ1c2VybmFtZSI6Im9uZXNwYW5hZG1pbiIsImVtYWlsIjoiYXNkZkBnbWFpbC5jb20iLCJvcmdhbml6YXRpb25fcGVybWlzc2lvbnMiOnsiYWRtaW4iOlt7Im5hbWUiOiJPbmVzcGFuIiwiaXNfYWN0aXZlIjp0cnVlfV0sImRhdGFfc2NpZW50aXN0IjpbeyJuYW1lIjoiT25lc3BhbiIsImlzX2FjdGl2ZSI6dHJ1ZX1dLCJhbmFseXN0IjpbeyJuYW1lIjoiT25lc3BhbiIsImlzX2FjdGl2ZSI6dHJ1ZX1dfX19fQ.avCT0LA-wISNTm7ccngmoqhXM7XEXzfjlsEafDYJfRS6T5x5iWohKaiqCz0BFLu-su9jwZalyFlU9ns4oznLgUyJSg9iZzh0I0-3o60sorC52UmTsErJj7Mqtf_1JXeSgAMBaFF-6LuGiowRuSN5QYCSfP-w_BcnIke856GlUgXlVBQ0KLnItIzxeT7e02SJqus1om85WvrXOGylkGEHxB9F45Aes0wD45pFAo0sbWSIgIg-JSTClBKQcVnXBx1-LB1lpJRpiMZN73rJ5l2OtybKf5IVPgwUQ3-KSoIz4hSLrmb90DMMTS9Km5qL21WWpcyHMwcTID9T83SZrjdO8joDQ3RxzKgFgKgBCGBEUyGja8TPLcIKV1FDWKPDnIpF8aetdTl3xyHb5Q1nJEASj8YrkGYW9tLc82INP5Azcr_vSboHHJHBRQrfRTU8-UuZh79XSONqfhWyShrFqV4nesdoqlkCTVLdswLEr_VcliJvIOPZ-uk1TQ6S2e0paE5CDcsRXUQVIomI9xTfmCtezAh2Gh41oebds8DzYmXo9d6Rcmjvlk8kE3BJsiI7vvsJ5x_4IqNe7_vKCNoQsV07eep6q6eMaggkxVjn11FMM8e_V4x6ePpc8uUYcR2socy0QrCmRjLGoNEAx50k7WGk-IP4kZ11vHadpZhj7OMhuRM', 'access_token': 'eyJ0eXAiOiJKV1QiLCJhbGciOiJSUzI1NiJ9.eyJ0b2tlbl90eXBlIjoiYWNjZXNzIiwiZXhwIjoxNjQ5ODA5NDE4LCJqdGkiOiI3OTkzZGE4ZTU3ODM0ZDg3YmQ0YjM4MDUwNzg2OWZjMiIsInVzZXJfaWQiOiJhc2RmQGdtYWlsLmNvbSIsIl9kYXRhIjp7InVzZXIiOnsiZmlyc3RfbmFtZSI6IiIsImxhc3RfbmFtZSI6IiIsInVzZXJuYW1lIjoib25lc3BhbmFkbWluIiwiZW1haWwiOiJhc2RmQGdtYWlsLmNvbSIsIm9yZ2FuaXphdGlvbl9wZXJtaXNzaW9ucyI6eyJhZG1pbiI6W3sibmFtZSI6Ik9uZXNwYW4iLCJpc19hY3RpdmUiOnRydWV9XSwiZGF0YV9zY2llbnRpc3QiOlt7Im5hbWUiOiJPbmVzcGFuIiwiaXNfYWN0aXZlIjp0cnVlfV0sImFuYWx5c3QiOlt7Im5hbWUiOiJPbmVzcGFuIiwiaXNfYWN0aXZlIjp0cnVlfV19fX19.GBVotSSQF7xzvCMYpAr3RJQxiuR9FINZpLYjhsuY-S4mMAUSxxDy89rGCikq-4XLiiSHqD8hi-FGs4rvPxiSvocdmMQVvBAzUt9hBg5bBwKPxuWXAfQ9SIRPf296klVU4IjfKm7_VCG1ndpkPUGO_mUDOREsAJHdvqjfLJS7gtLxcY06FsPX0X9vUFcTo1Ap3SI9pLc-ODohQPymFshgY7wo6CMp0DpaWS-Pfe0R5XzT-hG889qAcFHwXFmIbWN_WTJX7whfg7dadb7taxjB9Ha2Gi6sFCinc8ObXSdsVYC2o6TQ2Wi2LXu8iMpXmdltmvmaxHO7NYr_QzXp4quRCwvKTYBDIVx9hMNfHRcXwtYd6RwhNL9XDacQ8hIPApFDEiwmk3LktZ4JUN_S-zsia4VeRYRbnwe2FQzHph9wwfy68VhzEkGfiWwgps3NCZqMFVTWrO6S0A3E98ul1Ic2Dn5SikewMMndeHNcXBCTs0DtkxxDNa8PLRhAB8wsIDjJE4bI2YJQNtmnDjz_p_ZaCa6Bs7rJrIQsaFmMgoEXxTvVZYbktEzLvgUHeu4t1oodBI1CZxCYYL0eU4a890cyaxxTFWMJf8rXLIjLWvVcC7jXm7aIozCTgo-yhzDAZxRVeBT0MclVlD2OR0veEHgtrKNuOroALA9BjjBcJN3aowA'}\n",
      "Classifier: GradientBoostingClassifier has a training score of 84.1% accuracy score on Const Fill\n",
      "Classifier: GradientBoostingClassifier has a test score of 81.5% accuracy score on Const Fill\n",
      "Cookies: {'refresh_token': 'eyJ0eXAiOiJKV1QiLCJhbGciOiJSUzI1NiJ9.eyJ0b2tlbl90eXBlIjoicmVmcmVzaCIsImV4cCI6MTY0OTg3MDQxMywianRpIjoiNDI4ZDY5NGVhMzMwNDIyYWJjYzllNTYwZjNhYzliM2UiLCJ1c2VyX2lkIjoiYXNkZkBnbWFpbC5jb20iLCJfZGF0YSI6eyJ1c2VyIjp7ImZpcnN0X25hbWUiOiIiLCJsYXN0X25hbWUiOiIiLCJ1c2VybmFtZSI6Im9uZXNwYW5hZG1pbiIsImVtYWlsIjoiYXNkZkBnbWFpbC5jb20iLCJvcmdhbml6YXRpb25fcGVybWlzc2lvbnMiOnsiYWRtaW4iOlt7Im5hbWUiOiJPbmVzcGFuIiwiaXNfYWN0aXZlIjp0cnVlfV0sImRhdGFfc2NpZW50aXN0IjpbeyJuYW1lIjoiT25lc3BhbiIsImlzX2FjdGl2ZSI6dHJ1ZX1dLCJhbmFseXN0IjpbeyJuYW1lIjoiT25lc3BhbiIsImlzX2FjdGl2ZSI6dHJ1ZX1dfX19fQ.avCT0LA-wISNTm7ccngmoqhXM7XEXzfjlsEafDYJfRS6T5x5iWohKaiqCz0BFLu-su9jwZalyFlU9ns4oznLgUyJSg9iZzh0I0-3o60sorC52UmTsErJj7Mqtf_1JXeSgAMBaFF-6LuGiowRuSN5QYCSfP-w_BcnIke856GlUgXlVBQ0KLnItIzxeT7e02SJqus1om85WvrXOGylkGEHxB9F45Aes0wD45pFAo0sbWSIgIg-JSTClBKQcVnXBx1-LB1lpJRpiMZN73rJ5l2OtybKf5IVPgwUQ3-KSoIz4hSLrmb90DMMTS9Km5qL21WWpcyHMwcTID9T83SZrjdO8joDQ3RxzKgFgKgBCGBEUyGja8TPLcIKV1FDWKPDnIpF8aetdTl3xyHb5Q1nJEASj8YrkGYW9tLc82INP5Azcr_vSboHHJHBRQrfRTU8-UuZh79XSONqfhWyShrFqV4nesdoqlkCTVLdswLEr_VcliJvIOPZ-uk1TQ6S2e0paE5CDcsRXUQVIomI9xTfmCtezAh2Gh41oebds8DzYmXo9d6Rcmjvlk8kE3BJsiI7vvsJ5x_4IqNe7_vKCNoQsV07eep6q6eMaggkxVjn11FMM8e_V4x6ePpc8uUYcR2socy0QrCmRjLGoNEAx50k7WGk-IP4kZ11vHadpZhj7OMhuRM', 'access_token': 'eyJ0eXAiOiJKV1QiLCJhbGciOiJSUzI1NiJ9.eyJ0b2tlbl90eXBlIjoiYWNjZXNzIiwiZXhwIjoxNjQ5ODA5NDE5LCJqdGkiOiJhNGIyNGFkZWZlNjE0ZjljYjA2MDI3MDEzMTA0ZjM5MyIsInVzZXJfaWQiOiJhc2RmQGdtYWlsLmNvbSIsIl9kYXRhIjp7InVzZXIiOnsiZmlyc3RfbmFtZSI6IiIsImxhc3RfbmFtZSI6IiIsInVzZXJuYW1lIjoib25lc3BhbmFkbWluIiwiZW1haWwiOiJhc2RmQGdtYWlsLmNvbSIsIm9yZ2FuaXphdGlvbl9wZXJtaXNzaW9ucyI6eyJhZG1pbiI6W3sibmFtZSI6Ik9uZXNwYW4iLCJpc19hY3RpdmUiOnRydWV9XSwiZGF0YV9zY2llbnRpc3QiOlt7Im5hbWUiOiJPbmVzcGFuIiwiaXNfYWN0aXZlIjp0cnVlfV0sImFuYWx5c3QiOlt7Im5hbWUiOiJPbmVzcGFuIiwiaXNfYWN0aXZlIjp0cnVlfV19fX19.R5lGFohlJudrFaaw22jRu4CGnGbdA1Ud7jtliCH5WRqU2UJOkb5q09yzgtCcP3pKqgdqHR3sMKL2uzzdQnRvDdY91z1lTprJfay7BhqmvwMWWuIoWHCLmWrdXyp1nqiTtNdtUuNH7KXoPYi7qVIIAFV_KKGWs0SRiU8wi1xxbnyucmwZzwAWBj0nRg_bzFvb7qAnG8h8KOG9CPBJ0E2COlvAt1aGStaAt7viPOPGhyZHVEb_HVzjDfbZvrjBIM0UC06wlcc9ouj46c9gVW_MoU8hp9LBedNzACR0Ux3cdg3lhGrdCi7H2Xi-wH1JO02xNO2SImQatK9XYxskXy9F8zyMJchX0bO_yNGe1szvnF6eBPH_GXpJe1y76NGQTNsq0yilXEiSE9RZ2g6DZl4S1nJf7ki_770Ed7AzYNclah2Mn5Fit4UbXO2gTOnSYeGpiFw9phqlwNs2QYe5X_GYifTlLUdREXlzjYJFX4qReZOyMEg6O9kQPyjxyryZb1-04MQcnIikgXXQmjV9JsdjY0i2cv9KHM8wg1wT8BezpYyvQhfqHdXtuZKwy9lyqeOzdHCMxfrZ_T2Qk3vA-kFuGsbgA2t2EbknvH783yg9vtlvsJg1NZy0RGnWMUYcniHK7FMNnQ5RcSD6Bjngp5I6QmEBZ7KLd8P6OhXNk0fwfuc'}\n",
      "Classifier: RandomForestClassifier has a training score of 76.7% accuracy score on Mode Fill\n",
      "Classifier: RandomForestClassifier has a test score of 75.5% accuracy score on Mode Fill\n",
      "Cookies: {'refresh_token': 'eyJ0eXAiOiJKV1QiLCJhbGciOiJSUzI1NiJ9.eyJ0b2tlbl90eXBlIjoicmVmcmVzaCIsImV4cCI6MTY0OTg3MDQxMywianRpIjoiNDI4ZDY5NGVhMzMwNDIyYWJjYzllNTYwZjNhYzliM2UiLCJ1c2VyX2lkIjoiYXNkZkBnbWFpbC5jb20iLCJfZGF0YSI6eyJ1c2VyIjp7ImZpcnN0X25hbWUiOiIiLCJsYXN0X25hbWUiOiIiLCJ1c2VybmFtZSI6Im9uZXNwYW5hZG1pbiIsImVtYWlsIjoiYXNkZkBnbWFpbC5jb20iLCJvcmdhbml6YXRpb25fcGVybWlzc2lvbnMiOnsiYWRtaW4iOlt7Im5hbWUiOiJPbmVzcGFuIiwiaXNfYWN0aXZlIjp0cnVlfV0sImRhdGFfc2NpZW50aXN0IjpbeyJuYW1lIjoiT25lc3BhbiIsImlzX2FjdGl2ZSI6dHJ1ZX1dLCJhbmFseXN0IjpbeyJuYW1lIjoiT25lc3BhbiIsImlzX2FjdGl2ZSI6dHJ1ZX1dfX19fQ.avCT0LA-wISNTm7ccngmoqhXM7XEXzfjlsEafDYJfRS6T5x5iWohKaiqCz0BFLu-su9jwZalyFlU9ns4oznLgUyJSg9iZzh0I0-3o60sorC52UmTsErJj7Mqtf_1JXeSgAMBaFF-6LuGiowRuSN5QYCSfP-w_BcnIke856GlUgXlVBQ0KLnItIzxeT7e02SJqus1om85WvrXOGylkGEHxB9F45Aes0wD45pFAo0sbWSIgIg-JSTClBKQcVnXBx1-LB1lpJRpiMZN73rJ5l2OtybKf5IVPgwUQ3-KSoIz4hSLrmb90DMMTS9Km5qL21WWpcyHMwcTID9T83SZrjdO8joDQ3RxzKgFgKgBCGBEUyGja8TPLcIKV1FDWKPDnIpF8aetdTl3xyHb5Q1nJEASj8YrkGYW9tLc82INP5Azcr_vSboHHJHBRQrfRTU8-UuZh79XSONqfhWyShrFqV4nesdoqlkCTVLdswLEr_VcliJvIOPZ-uk1TQ6S2e0paE5CDcsRXUQVIomI9xTfmCtezAh2Gh41oebds8DzYmXo9d6Rcmjvlk8kE3BJsiI7vvsJ5x_4IqNe7_vKCNoQsV07eep6q6eMaggkxVjn11FMM8e_V4x6ePpc8uUYcR2socy0QrCmRjLGoNEAx50k7WGk-IP4kZ11vHadpZhj7OMhuRM', 'access_token': 'eyJ0eXAiOiJKV1QiLCJhbGciOiJSUzI1NiJ9.eyJ0b2tlbl90eXBlIjoiYWNjZXNzIiwiZXhwIjoxNjQ5ODA5NDIwLCJqdGkiOiI2YmI2ODgzNTcyYzY0YTY3OTU1NmRhNGFiZWJhOWI0MSIsInVzZXJfaWQiOiJhc2RmQGdtYWlsLmNvbSIsIl9kYXRhIjp7InVzZXIiOnsiZmlyc3RfbmFtZSI6IiIsImxhc3RfbmFtZSI6IiIsInVzZXJuYW1lIjoib25lc3BhbmFkbWluIiwiZW1haWwiOiJhc2RmQGdtYWlsLmNvbSIsIm9yZ2FuaXphdGlvbl9wZXJtaXNzaW9ucyI6eyJhZG1pbiI6W3sibmFtZSI6Ik9uZXNwYW4iLCJpc19hY3RpdmUiOnRydWV9XSwiZGF0YV9zY2llbnRpc3QiOlt7Im5hbWUiOiJPbmVzcGFuIiwiaXNfYWN0aXZlIjp0cnVlfV0sImFuYWx5c3QiOlt7Im5hbWUiOiJPbmVzcGFuIiwiaXNfYWN0aXZlIjp0cnVlfV19fX19.aCxFoR4_nGlVZtLY7RsFyw9k9sUTlbQw7SCahmOxHuaYvOvTcoCU9D43d9VzoG-YGnHgYk-lWmwGvOivuZJqLCx9nS6prSO51PWthJ4EVva51EPGbGUs3BSW4avQMAK0x3AjQXIoM-n1xB7__TozNNtgTNnajqmxQ6r4RXJFN4Ssyrc093SMNAVuX8MiNYXckLHPvFRjo_G1fsM2WItGLD9epd9dtzhCSV6UC8ku91-SMQXPtQBVoO6U4-3CEH-8lky18ZGMMnX108Tyc1fLIBh0JZwlZcmdDwatsrikonvmeHaprWMeYhUpRNmMWaEpTGzd9tkoitPU8-QFXPr_PKILY_sbPoIvLsFmrUQ4-SdxLGdASMj4kvlPB7UZRyIUFeK_fZP9pnVeedPisIxuavx97YXIjM47LAE5M5npckVn3XMXYYbTR7NIQomNlfMRDwmWDNtfvmWCPUB0nzUoPt0e1dsKqk5dUHUz_EHj8_raoPMkaXGIpCnczlbP1W-wSl2wW9NsbIwQ9viTh_irKb5E3IXIdiadeWI3gYRivrHnjaKbnpg_fT8L57Pf4jJO_btsmjXfPlWU_OPyaLH3oIx27cIQ-nXrQl9yAg3qEBxBxH1HtgK9s2ZBg3UZpEIC-nX_-T3B0EHUhWrsxRtO7iDIZwf0qbVldVaHmVRnDSg'}\n",
      "Classifier: DecisionTreeClassifier has a training score of 79.60000000000001% accuracy score on Mode Fill\n",
      "Classifier: DecisionTreeClassifier has a test score of 81.0% accuracy score on Mode Fill\n",
      "Cookies: {'refresh_token': 'eyJ0eXAiOiJKV1QiLCJhbGciOiJSUzI1NiJ9.eyJ0b2tlbl90eXBlIjoicmVmcmVzaCIsImV4cCI6MTY0OTg3MDQxMywianRpIjoiNDI4ZDY5NGVhMzMwNDIyYWJjYzllNTYwZjNhYzliM2UiLCJ1c2VyX2lkIjoiYXNkZkBnbWFpbC5jb20iLCJfZGF0YSI6eyJ1c2VyIjp7ImZpcnN0X25hbWUiOiIiLCJsYXN0X25hbWUiOiIiLCJ1c2VybmFtZSI6Im9uZXNwYW5hZG1pbiIsImVtYWlsIjoiYXNkZkBnbWFpbC5jb20iLCJvcmdhbml6YXRpb25fcGVybWlzc2lvbnMiOnsiYWRtaW4iOlt7Im5hbWUiOiJPbmVzcGFuIiwiaXNfYWN0aXZlIjp0cnVlfV0sImRhdGFfc2NpZW50aXN0IjpbeyJuYW1lIjoiT25lc3BhbiIsImlzX2FjdGl2ZSI6dHJ1ZX1dLCJhbmFseXN0IjpbeyJuYW1lIjoiT25lc3BhbiIsImlzX2FjdGl2ZSI6dHJ1ZX1dfX19fQ.avCT0LA-wISNTm7ccngmoqhXM7XEXzfjlsEafDYJfRS6T5x5iWohKaiqCz0BFLu-su9jwZalyFlU9ns4oznLgUyJSg9iZzh0I0-3o60sorC52UmTsErJj7Mqtf_1JXeSgAMBaFF-6LuGiowRuSN5QYCSfP-w_BcnIke856GlUgXlVBQ0KLnItIzxeT7e02SJqus1om85WvrXOGylkGEHxB9F45Aes0wD45pFAo0sbWSIgIg-JSTClBKQcVnXBx1-LB1lpJRpiMZN73rJ5l2OtybKf5IVPgwUQ3-KSoIz4hSLrmb90DMMTS9Km5qL21WWpcyHMwcTID9T83SZrjdO8joDQ3RxzKgFgKgBCGBEUyGja8TPLcIKV1FDWKPDnIpF8aetdTl3xyHb5Q1nJEASj8YrkGYW9tLc82INP5Azcr_vSboHHJHBRQrfRTU8-UuZh79XSONqfhWyShrFqV4nesdoqlkCTVLdswLEr_VcliJvIOPZ-uk1TQ6S2e0paE5CDcsRXUQVIomI9xTfmCtezAh2Gh41oebds8DzYmXo9d6Rcmjvlk8kE3BJsiI7vvsJ5x_4IqNe7_vKCNoQsV07eep6q6eMaggkxVjn11FMM8e_V4x6ePpc8uUYcR2socy0QrCmRjLGoNEAx50k7WGk-IP4kZ11vHadpZhj7OMhuRM', 'access_token': 'eyJ0eXAiOiJKV1QiLCJhbGciOiJSUzI1NiJ9.eyJ0b2tlbl90eXBlIjoiYWNjZXNzIiwiZXhwIjoxNjQ5ODA5NDIzLCJqdGkiOiI4ZTdmNDU2N2Q1ZjU0MTc0OGMzMWEwNGYxYzk4ZjY2YiIsInVzZXJfaWQiOiJhc2RmQGdtYWlsLmNvbSIsIl9kYXRhIjp7InVzZXIiOnsiZmlyc3RfbmFtZSI6IiIsImxhc3RfbmFtZSI6IiIsInVzZXJuYW1lIjoib25lc3BhbmFkbWluIiwiZW1haWwiOiJhc2RmQGdtYWlsLmNvbSIsIm9yZ2FuaXphdGlvbl9wZXJtaXNzaW9ucyI6eyJhZG1pbiI6W3sibmFtZSI6Ik9uZXNwYW4iLCJpc19hY3RpdmUiOnRydWV9XSwiZGF0YV9zY2llbnRpc3QiOlt7Im5hbWUiOiJPbmVzcGFuIiwiaXNfYWN0aXZlIjp0cnVlfV0sImFuYWx5c3QiOlt7Im5hbWUiOiJPbmVzcGFuIiwiaXNfYWN0aXZlIjp0cnVlfV19fX19.rHyF8boRIJ0kTq3U0He5CRC5sYfOqa_k42ZKwQ0_LDI-v_GHWnps2C5z0X4Yg-5P5m1KE7CRIsEzf5a6xBJ-cuN4S3dCfhOBIEe98hi6U0fu_6ymb2VqmWV-ceE5Dt86n3ow4y-kk_4HXf205l0MfS44P2OnMe13EOGrNwrfI_yy30d8J87E0FHJzRlEMYou9QIqkwu-9mTZ6S4x6JRFu0HNqU1QFSrnMEoiR5Iseci27UPtUp5-06lm1juiO1wXNjPA1dcIegxdo7Awr_nHvWFLbVvm0M9XKKoADTULDNBdxqlalQ9PYdnlyTL9DNbZn8ANAsrDFejlx6Lu5efIcalEQrhTw8Jcilal2sNLkgjheGk1R7CE2UTQc-THTFn_SYnX2qZTizygFakgciv_O9rDipJRQS-en1X9yFsWo3196IO52Dd-QYSQcYvV98kMlZpNCwJ20dFdIHZX78dhZYEWMIsBtKX4N3Nz-5auR6peVPI55ZEEFDDzzQCwFJqSQm5umFU6I9yQiumBt4-4z37FcRU3IBjfVh0aBbqQuUPsf8uyK4dTKrAQsxxVisgTRiOOnxo1FUYvH77kPZX6CG3viwiIVihyBOVXzsQDY9DDLqCdS48Crt6SgEJhz4RDQWbrMQPWnSU6ENsCXsn5fAmFfiVHVnzzwA4dOOB77tg'}\n",
      "Classifier: GradientBoostingClassifier has a training score of 84.2% accuracy score on Mode Fill\n",
      "Classifier: GradientBoostingClassifier has a test score of 81.5% accuracy score on Mode Fill\n",
      "Cookies: {'refresh_token': 'eyJ0eXAiOiJKV1QiLCJhbGciOiJSUzI1NiJ9.eyJ0b2tlbl90eXBlIjoicmVmcmVzaCIsImV4cCI6MTY0OTg3MDQxMywianRpIjoiNDI4ZDY5NGVhMzMwNDIyYWJjYzllNTYwZjNhYzliM2UiLCJ1c2VyX2lkIjoiYXNkZkBnbWFpbC5jb20iLCJfZGF0YSI6eyJ1c2VyIjp7ImZpcnN0X25hbWUiOiIiLCJsYXN0X25hbWUiOiIiLCJ1c2VybmFtZSI6Im9uZXNwYW5hZG1pbiIsImVtYWlsIjoiYXNkZkBnbWFpbC5jb20iLCJvcmdhbml6YXRpb25fcGVybWlzc2lvbnMiOnsiYWRtaW4iOlt7Im5hbWUiOiJPbmVzcGFuIiwiaXNfYWN0aXZlIjp0cnVlfV0sImRhdGFfc2NpZW50aXN0IjpbeyJuYW1lIjoiT25lc3BhbiIsImlzX2FjdGl2ZSI6dHJ1ZX1dLCJhbmFseXN0IjpbeyJuYW1lIjoiT25lc3BhbiIsImlzX2FjdGl2ZSI6dHJ1ZX1dfX19fQ.avCT0LA-wISNTm7ccngmoqhXM7XEXzfjlsEafDYJfRS6T5x5iWohKaiqCz0BFLu-su9jwZalyFlU9ns4oznLgUyJSg9iZzh0I0-3o60sorC52UmTsErJj7Mqtf_1JXeSgAMBaFF-6LuGiowRuSN5QYCSfP-w_BcnIke856GlUgXlVBQ0KLnItIzxeT7e02SJqus1om85WvrXOGylkGEHxB9F45Aes0wD45pFAo0sbWSIgIg-JSTClBKQcVnXBx1-LB1lpJRpiMZN73rJ5l2OtybKf5IVPgwUQ3-KSoIz4hSLrmb90DMMTS9Km5qL21WWpcyHMwcTID9T83SZrjdO8joDQ3RxzKgFgKgBCGBEUyGja8TPLcIKV1FDWKPDnIpF8aetdTl3xyHb5Q1nJEASj8YrkGYW9tLc82INP5Azcr_vSboHHJHBRQrfRTU8-UuZh79XSONqfhWyShrFqV4nesdoqlkCTVLdswLEr_VcliJvIOPZ-uk1TQ6S2e0paE5CDcsRXUQVIomI9xTfmCtezAh2Gh41oebds8DzYmXo9d6Rcmjvlk8kE3BJsiI7vvsJ5x_4IqNe7_vKCNoQsV07eep6q6eMaggkxVjn11FMM8e_V4x6ePpc8uUYcR2socy0QrCmRjLGoNEAx50k7WGk-IP4kZ11vHadpZhj7OMhuRM', 'access_token': 'eyJ0eXAiOiJKV1QiLCJhbGciOiJSUzI1NiJ9.eyJ0b2tlbl90eXBlIjoiYWNjZXNzIiwiZXhwIjoxNjQ5ODA5NDI0LCJqdGkiOiI4OGIyMWUyNTEzNWM0MDhmYWQ3MjU5YTc1NWRlODQ1NiIsInVzZXJfaWQiOiJhc2RmQGdtYWlsLmNvbSIsIl9kYXRhIjp7InVzZXIiOnsiZmlyc3RfbmFtZSI6IiIsImxhc3RfbmFtZSI6IiIsInVzZXJuYW1lIjoib25lc3BhbmFkbWluIiwiZW1haWwiOiJhc2RmQGdtYWlsLmNvbSIsIm9yZ2FuaXphdGlvbl9wZXJtaXNzaW9ucyI6eyJhZG1pbiI6W3sibmFtZSI6Ik9uZXNwYW4iLCJpc19hY3RpdmUiOnRydWV9XSwiZGF0YV9zY2llbnRpc3QiOlt7Im5hbWUiOiJPbmVzcGFuIiwiaXNfYWN0aXZlIjp0cnVlfV0sImFuYWx5c3QiOlt7Im5hbWUiOiJPbmVzcGFuIiwiaXNfYWN0aXZlIjp0cnVlfV19fX19.B17HawlSbNmd9fdLGJdVElqEiie8NsHGQpx5vut4LSCgQhQdkzLX49YxfQTGf_nRx5jsM59uBv9V9J9A-fqVFJrs1Fdf6JLVc-JoP5J9HVuAY-Un2lqPIzoDJBfxuaa7zNIxuWllsy8t2Dp5ApDxICXyvIlAqqIF3mFNfwNQwkezxfwDGXFOksTUCnMvGn9SyrOkD893daKZFTkTkogvI4gpnRecH_UjmsNBplM-wf0XRAKZgxkvpwk57A9LYjsCrsveWvb3hxlLKrq4qPk-cY2jH6ETdt-qyPrnEio0RqAysvEHbKx2YNiBrWqWyinACW4ySnLOjZNk7NUFQ6nLbOuVZwKyfbdwZSFFHKhPAjcFsoi0ZPzp47grltNhNFau6UKjrK5wilVTO7wEmF_IUUvAnoz4b61t3T82OMX1fN1rNC5boMMdiIwuF7dsWzbtuv3dyRgPL6u4qwZjIPmZh0bhoHFQ8p2jzO-bVFZSTsBcz8XxlIYCqdmnRX3rZRik-W5xqxQpxAS4SOCMQvqZRYf3Uhy-zq_jrk-jmybe4uW5S_phJwgvmKMoMjXL9mmcFAnmPVQEeasjziwWqXwbVLj-uCCzjGca8cX0paVvldG37X2xWVbtISJ0RaEPZStUCptCTYaD4N2g1-KlxouYiUX-GupB6IPQPKyFx7ncwL4'}\n",
      "Classifier: RandomForestClassifier has a training score of 86.8% accuracy score on Const Fill Smote\n",
      "Classifier: RandomForestClassifier has a test score of 82.5% accuracy score on Const Fill Smote\n",
      "Cookies: {'refresh_token': 'eyJ0eXAiOiJKV1QiLCJhbGciOiJSUzI1NiJ9.eyJ0b2tlbl90eXBlIjoicmVmcmVzaCIsImV4cCI6MTY0OTg3MDQxMywianRpIjoiNDI4ZDY5NGVhMzMwNDIyYWJjYzllNTYwZjNhYzliM2UiLCJ1c2VyX2lkIjoiYXNkZkBnbWFpbC5jb20iLCJfZGF0YSI6eyJ1c2VyIjp7ImZpcnN0X25hbWUiOiIiLCJsYXN0X25hbWUiOiIiLCJ1c2VybmFtZSI6Im9uZXNwYW5hZG1pbiIsImVtYWlsIjoiYXNkZkBnbWFpbC5jb20iLCJvcmdhbml6YXRpb25fcGVybWlzc2lvbnMiOnsiYWRtaW4iOlt7Im5hbWUiOiJPbmVzcGFuIiwiaXNfYWN0aXZlIjp0cnVlfV0sImRhdGFfc2NpZW50aXN0IjpbeyJuYW1lIjoiT25lc3BhbiIsImlzX2FjdGl2ZSI6dHJ1ZX1dLCJhbmFseXN0IjpbeyJuYW1lIjoiT25lc3BhbiIsImlzX2FjdGl2ZSI6dHJ1ZX1dfX19fQ.avCT0LA-wISNTm7ccngmoqhXM7XEXzfjlsEafDYJfRS6T5x5iWohKaiqCz0BFLu-su9jwZalyFlU9ns4oznLgUyJSg9iZzh0I0-3o60sorC52UmTsErJj7Mqtf_1JXeSgAMBaFF-6LuGiowRuSN5QYCSfP-w_BcnIke856GlUgXlVBQ0KLnItIzxeT7e02SJqus1om85WvrXOGylkGEHxB9F45Aes0wD45pFAo0sbWSIgIg-JSTClBKQcVnXBx1-LB1lpJRpiMZN73rJ5l2OtybKf5IVPgwUQ3-KSoIz4hSLrmb90DMMTS9Km5qL21WWpcyHMwcTID9T83SZrjdO8joDQ3RxzKgFgKgBCGBEUyGja8TPLcIKV1FDWKPDnIpF8aetdTl3xyHb5Q1nJEASj8YrkGYW9tLc82INP5Azcr_vSboHHJHBRQrfRTU8-UuZh79XSONqfhWyShrFqV4nesdoqlkCTVLdswLEr_VcliJvIOPZ-uk1TQ6S2e0paE5CDcsRXUQVIomI9xTfmCtezAh2Gh41oebds8DzYmXo9d6Rcmjvlk8kE3BJsiI7vvsJ5x_4IqNe7_vKCNoQsV07eep6q6eMaggkxVjn11FMM8e_V4x6ePpc8uUYcR2socy0QrCmRjLGoNEAx50k7WGk-IP4kZ11vHadpZhj7OMhuRM', 'access_token': 'eyJ0eXAiOiJKV1QiLCJhbGciOiJSUzI1NiJ9.eyJ0b2tlbl90eXBlIjoiYWNjZXNzIiwiZXhwIjoxNjQ5ODA5NDI2LCJqdGkiOiJlYjdiNzUxZmRhZDk0YmNhYTA4YjI3ODNkNWRlMWYxNyIsInVzZXJfaWQiOiJhc2RmQGdtYWlsLmNvbSIsIl9kYXRhIjp7InVzZXIiOnsiZmlyc3RfbmFtZSI6IiIsImxhc3RfbmFtZSI6IiIsInVzZXJuYW1lIjoib25lc3BhbmFkbWluIiwiZW1haWwiOiJhc2RmQGdtYWlsLmNvbSIsIm9yZ2FuaXphdGlvbl9wZXJtaXNzaW9ucyI6eyJhZG1pbiI6W3sibmFtZSI6Ik9uZXNwYW4iLCJpc19hY3RpdmUiOnRydWV9XSwiZGF0YV9zY2llbnRpc3QiOlt7Im5hbWUiOiJPbmVzcGFuIiwiaXNfYWN0aXZlIjp0cnVlfV0sImFuYWx5c3QiOlt7Im5hbWUiOiJPbmVzcGFuIiwiaXNfYWN0aXZlIjp0cnVlfV19fX19.qJVcBETgO2UaE0MwUsFojVuIwH3ErbqLwechDIXomg9je3xAlLYVBnwQwTyswIz0wDI5O8RmmK186ebrfmZRkXX09QsNs8QhSH0pAtDkmsl4_KpoKcXcQSA1KGTrVNo5336KDTOTYOlBUMyIA1DAeshddgMjfXOfwwQen8sq9f4lKXGQo7Fb3UA71ZGVO9Hgg0MHXW_LhV6PY7RPmhPAwP7LPzgGUh6OizyQ2b9sT5Y31TAJyddnzIrb-Hp7im2cS_cfK6Yfhtx6_zu51nQtIvTIrqGA6pnAPJSBRwcvUE8Qa36qRsV2ulMq6VH3QBtK13VVGcF4Dq3rKePXpriVbZEwvkbaUonBa21N3l5UHKFwap5FtfkOMUK4X26dZopbEC5eGe13b2KYGyohwbSALyVRyK_I5G4Lx-OnRybZR50CDTT6xgv3WbtQ_R7hNDNgV9m6tKnsDwD8C4UgfRdUPIhzo-luw84oEpbPNgiJcgHwPU8WA1YVfTa6_sWPeAuJUkL4T9lNDteahrr1IubHdISBGkyo-g75l2MMnCrAPKDLdOOLKv6TTopzvVODqwnomZm_wT4uNsgelg5JFe8Zy-bMZTFls5Eflcn0M1sm7udV319m9Y9mMvB90Z8OrUV0pAcOdapNODkEXarCtWVNGhaaelkl7cPWngjp6Q-CH6c'}\n",
      "Classifier: DecisionTreeClassifier has a training score of 80.2% accuracy score on Const Fill Smote\n",
      "Classifier: DecisionTreeClassifier has a test score of 73.0% accuracy score on Const Fill Smote\n",
      "Cookies: {'refresh_token': 'eyJ0eXAiOiJKV1QiLCJhbGciOiJSUzI1NiJ9.eyJ0b2tlbl90eXBlIjoicmVmcmVzaCIsImV4cCI6MTY0OTg3MDQxMywianRpIjoiNDI4ZDY5NGVhMzMwNDIyYWJjYzllNTYwZjNhYzliM2UiLCJ1c2VyX2lkIjoiYXNkZkBnbWFpbC5jb20iLCJfZGF0YSI6eyJ1c2VyIjp7ImZpcnN0X25hbWUiOiIiLCJsYXN0X25hbWUiOiIiLCJ1c2VybmFtZSI6Im9uZXNwYW5hZG1pbiIsImVtYWlsIjoiYXNkZkBnbWFpbC5jb20iLCJvcmdhbml6YXRpb25fcGVybWlzc2lvbnMiOnsiYWRtaW4iOlt7Im5hbWUiOiJPbmVzcGFuIiwiaXNfYWN0aXZlIjp0cnVlfV0sImRhdGFfc2NpZW50aXN0IjpbeyJuYW1lIjoiT25lc3BhbiIsImlzX2FjdGl2ZSI6dHJ1ZX1dLCJhbmFseXN0IjpbeyJuYW1lIjoiT25lc3BhbiIsImlzX2FjdGl2ZSI6dHJ1ZX1dfX19fQ.avCT0LA-wISNTm7ccngmoqhXM7XEXzfjlsEafDYJfRS6T5x5iWohKaiqCz0BFLu-su9jwZalyFlU9ns4oznLgUyJSg9iZzh0I0-3o60sorC52UmTsErJj7Mqtf_1JXeSgAMBaFF-6LuGiowRuSN5QYCSfP-w_BcnIke856GlUgXlVBQ0KLnItIzxeT7e02SJqus1om85WvrXOGylkGEHxB9F45Aes0wD45pFAo0sbWSIgIg-JSTClBKQcVnXBx1-LB1lpJRpiMZN73rJ5l2OtybKf5IVPgwUQ3-KSoIz4hSLrmb90DMMTS9Km5qL21WWpcyHMwcTID9T83SZrjdO8joDQ3RxzKgFgKgBCGBEUyGja8TPLcIKV1FDWKPDnIpF8aetdTl3xyHb5Q1nJEASj8YrkGYW9tLc82INP5Azcr_vSboHHJHBRQrfRTU8-UuZh79XSONqfhWyShrFqV4nesdoqlkCTVLdswLEr_VcliJvIOPZ-uk1TQ6S2e0paE5CDcsRXUQVIomI9xTfmCtezAh2Gh41oebds8DzYmXo9d6Rcmjvlk8kE3BJsiI7vvsJ5x_4IqNe7_vKCNoQsV07eep6q6eMaggkxVjn11FMM8e_V4x6ePpc8uUYcR2socy0QrCmRjLGoNEAx50k7WGk-IP4kZ11vHadpZhj7OMhuRM', 'access_token': 'eyJ0eXAiOiJKV1QiLCJhbGciOiJSUzI1NiJ9.eyJ0b2tlbl90eXBlIjoiYWNjZXNzIiwiZXhwIjoxNjQ5ODA5NDI5LCJqdGkiOiJmMjVkMzI2ZTQwMTY0ZWQ1ODc4NWE4MGFhOWFjMmU1YiIsInVzZXJfaWQiOiJhc2RmQGdtYWlsLmNvbSIsIl9kYXRhIjp7InVzZXIiOnsiZmlyc3RfbmFtZSI6IiIsImxhc3RfbmFtZSI6IiIsInVzZXJuYW1lIjoib25lc3BhbmFkbWluIiwiZW1haWwiOiJhc2RmQGdtYWlsLmNvbSIsIm9yZ2FuaXphdGlvbl9wZXJtaXNzaW9ucyI6eyJhZG1pbiI6W3sibmFtZSI6Ik9uZXNwYW4iLCJpc19hY3RpdmUiOnRydWV9XSwiZGF0YV9zY2llbnRpc3QiOlt7Im5hbWUiOiJPbmVzcGFuIiwiaXNfYWN0aXZlIjp0cnVlfV0sImFuYWx5c3QiOlt7Im5hbWUiOiJPbmVzcGFuIiwiaXNfYWN0aXZlIjp0cnVlfV19fX19.NVS0r_BKWAeq0Lfo-sdwigUbi8OUQjKWQxHAz-dxkSX5EVxfJQG259ddCeUf_TRbSakvnYognQsWMXQHTXnSx9Mlj_sqJZGdp4ZGMiMtZSd90nhKi_gUX8pakqiAnZI0JZjTHdu3LEdpGBFOU1x6V295q_53ya7DihmfCu6g8HDrIxnUgpqKCwNP139azeMbAaMHIcyRfPtJlKVz5n90pd5w6azuGjTyL9HAxsUwfKITtIaUWYXhd-UzhTN0Vn3CzW5N3q08y93M90wOt7RywCaCr0hTAy3ERt_OZszfD9LuDhhsAQVk8ugfiIBuhqg7Ikbn1FrERypg4MPlEw_N1-fuvigR9Fp5HVWYG1U-z3oKI-lSZQRyxGMQub05f0iK34rtCsK4VnPwvm-2_sPB18NNiWqbYYZp2qSjw36zbZlHlAhRFdR6oxB6Yf6u7RE1JwlnBDK17b-EPd7TBUZwJXgzwQXvCXt6pjgtY_MbPqNu4DQQYbX_8k2jQRfxiZM-AQNOnGgzAgzprj84V0WTlQov1wSM_gtJxHWbhAy8d5xHhI8oWkdBMnE3gGqokwG6zMENNgGmN6pGit8r6p0oUB8WPfrRokT3u6EVgm8_kKXjRm0n3alatYB8p32PoD7r-yIhXsYU-flt_F7Lc4xAKUmiDwGUbz-EJpK_Vz7DjR4'}\n",
      "Classifier: GradientBoostingClassifier has a training score of 86.9% accuracy score on Const Fill Smote\n",
      "Classifier: GradientBoostingClassifier has a test score of 81.5% accuracy score on Const Fill Smote\n",
      "Cookies: {'refresh_token': 'eyJ0eXAiOiJKV1QiLCJhbGciOiJSUzI1NiJ9.eyJ0b2tlbl90eXBlIjoicmVmcmVzaCIsImV4cCI6MTY0OTg3MDQxMywianRpIjoiNDI4ZDY5NGVhMzMwNDIyYWJjYzllNTYwZjNhYzliM2UiLCJ1c2VyX2lkIjoiYXNkZkBnbWFpbC5jb20iLCJfZGF0YSI6eyJ1c2VyIjp7ImZpcnN0X25hbWUiOiIiLCJsYXN0X25hbWUiOiIiLCJ1c2VybmFtZSI6Im9uZXNwYW5hZG1pbiIsImVtYWlsIjoiYXNkZkBnbWFpbC5jb20iLCJvcmdhbml6YXRpb25fcGVybWlzc2lvbnMiOnsiYWRtaW4iOlt7Im5hbWUiOiJPbmVzcGFuIiwiaXNfYWN0aXZlIjp0cnVlfV0sImRhdGFfc2NpZW50aXN0IjpbeyJuYW1lIjoiT25lc3BhbiIsImlzX2FjdGl2ZSI6dHJ1ZX1dLCJhbmFseXN0IjpbeyJuYW1lIjoiT25lc3BhbiIsImlzX2FjdGl2ZSI6dHJ1ZX1dfX19fQ.avCT0LA-wISNTm7ccngmoqhXM7XEXzfjlsEafDYJfRS6T5x5iWohKaiqCz0BFLu-su9jwZalyFlU9ns4oznLgUyJSg9iZzh0I0-3o60sorC52UmTsErJj7Mqtf_1JXeSgAMBaFF-6LuGiowRuSN5QYCSfP-w_BcnIke856GlUgXlVBQ0KLnItIzxeT7e02SJqus1om85WvrXOGylkGEHxB9F45Aes0wD45pFAo0sbWSIgIg-JSTClBKQcVnXBx1-LB1lpJRpiMZN73rJ5l2OtybKf5IVPgwUQ3-KSoIz4hSLrmb90DMMTS9Km5qL21WWpcyHMwcTID9T83SZrjdO8joDQ3RxzKgFgKgBCGBEUyGja8TPLcIKV1FDWKPDnIpF8aetdTl3xyHb5Q1nJEASj8YrkGYW9tLc82INP5Azcr_vSboHHJHBRQrfRTU8-UuZh79XSONqfhWyShrFqV4nesdoqlkCTVLdswLEr_VcliJvIOPZ-uk1TQ6S2e0paE5CDcsRXUQVIomI9xTfmCtezAh2Gh41oebds8DzYmXo9d6Rcmjvlk8kE3BJsiI7vvsJ5x_4IqNe7_vKCNoQsV07eep6q6eMaggkxVjn11FMM8e_V4x6ePpc8uUYcR2socy0QrCmRjLGoNEAx50k7WGk-IP4kZ11vHadpZhj7OMhuRM', 'access_token': 'eyJ0eXAiOiJKV1QiLCJhbGciOiJSUzI1NiJ9.eyJ0b2tlbl90eXBlIjoiYWNjZXNzIiwiZXhwIjoxNjQ5ODA5NDMwLCJqdGkiOiJkOTA4YTIzY2QyOWM0YjJjYWE4NjkxMzBjOTVjYzgzYiIsInVzZXJfaWQiOiJhc2RmQGdtYWlsLmNvbSIsIl9kYXRhIjp7InVzZXIiOnsiZmlyc3RfbmFtZSI6IiIsImxhc3RfbmFtZSI6IiIsInVzZXJuYW1lIjoib25lc3BhbmFkbWluIiwiZW1haWwiOiJhc2RmQGdtYWlsLmNvbSIsIm9yZ2FuaXphdGlvbl9wZXJtaXNzaW9ucyI6eyJhZG1pbiI6W3sibmFtZSI6Ik9uZXNwYW4iLCJpc19hY3RpdmUiOnRydWV9XSwiZGF0YV9zY2llbnRpc3QiOlt7Im5hbWUiOiJPbmVzcGFuIiwiaXNfYWN0aXZlIjp0cnVlfV0sImFuYWx5c3QiOlt7Im5hbWUiOiJPbmVzcGFuIiwiaXNfYWN0aXZlIjp0cnVlfV19fX19.Mv48dyHEcG5-zER2xfPFzHp2PE2uxB1Q3f6qFE3MnkZ_7b5v-WV1mVMcFmc24MoKCD8zWUk6A4_8VmLTxhzAIznFdc-sLeNG8ssuENLw_AV_hqzcp_lnSWo1S5aCwtWkXuMekjR7PSGZyvwFadaTBusiJMEbkdV8HvQzuvfrJQBfmOD6PY8o2BcyGBJjBJJbS7tvG8DlTb7gPQ5oHEjTaiOH6TxoMvDq5FJp6eQxvQ2XxSqY-IGjD8LNlfWJ7W7nz-deLs-LOlE1LmgpmV2mkZttn2o2wuQVi49C3LHwB8JFa6TBqkTT6Yat8OXY-tQfH67yxkYbsfUFMfkByL-X3akl_UzSGQa_r5qSzy7Tm-VxhEJQOL2Z7y4KRP3OBSYuJMaCBk_SfDj7-SWrV_C9iHaDiliUgbo2t2lmSGiNdMiOyuJ2A5KxiXFOFYN0lYtfptqa-iOcukVavYe-pMTrr6fESDbykITxaRaqE6PCznfIWm7gOmQpuHObwx1GuDgHo6vvHM1O5_tA3gqmnwJvhDz6W2FusNlkJxaGMHFipuZxIv5-XgJFXSRsmzI8vcJesKP3eewY9WvJOxr_-ev_Rht7ApTmKA6Y_AzGihfG5Fyd8z6kP4pX4RmOkOLSJWzfvRtsQfLi7Aga5yWKFFJgxQokFs_8trldwg0gwPOVSRg'}\n",
      "Classifier: RandomForestClassifier has a training score of 86.2% accuracy score on Mode Fill Smote\n",
      "Classifier: RandomForestClassifier has a test score of 79.5% accuracy score on Mode Fill Smote\n",
      "Cookies: {'refresh_token': 'eyJ0eXAiOiJKV1QiLCJhbGciOiJSUzI1NiJ9.eyJ0b2tlbl90eXBlIjoicmVmcmVzaCIsImV4cCI6MTY0OTg3MDQxMywianRpIjoiNDI4ZDY5NGVhMzMwNDIyYWJjYzllNTYwZjNhYzliM2UiLCJ1c2VyX2lkIjoiYXNkZkBnbWFpbC5jb20iLCJfZGF0YSI6eyJ1c2VyIjp7ImZpcnN0X25hbWUiOiIiLCJsYXN0X25hbWUiOiIiLCJ1c2VybmFtZSI6Im9uZXNwYW5hZG1pbiIsImVtYWlsIjoiYXNkZkBnbWFpbC5jb20iLCJvcmdhbml6YXRpb25fcGVybWlzc2lvbnMiOnsiYWRtaW4iOlt7Im5hbWUiOiJPbmVzcGFuIiwiaXNfYWN0aXZlIjp0cnVlfV0sImRhdGFfc2NpZW50aXN0IjpbeyJuYW1lIjoiT25lc3BhbiIsImlzX2FjdGl2ZSI6dHJ1ZX1dLCJhbmFseXN0IjpbeyJuYW1lIjoiT25lc3BhbiIsImlzX2FjdGl2ZSI6dHJ1ZX1dfX19fQ.avCT0LA-wISNTm7ccngmoqhXM7XEXzfjlsEafDYJfRS6T5x5iWohKaiqCz0BFLu-su9jwZalyFlU9ns4oznLgUyJSg9iZzh0I0-3o60sorC52UmTsErJj7Mqtf_1JXeSgAMBaFF-6LuGiowRuSN5QYCSfP-w_BcnIke856GlUgXlVBQ0KLnItIzxeT7e02SJqus1om85WvrXOGylkGEHxB9F45Aes0wD45pFAo0sbWSIgIg-JSTClBKQcVnXBx1-LB1lpJRpiMZN73rJ5l2OtybKf5IVPgwUQ3-KSoIz4hSLrmb90DMMTS9Km5qL21WWpcyHMwcTID9T83SZrjdO8joDQ3RxzKgFgKgBCGBEUyGja8TPLcIKV1FDWKPDnIpF8aetdTl3xyHb5Q1nJEASj8YrkGYW9tLc82INP5Azcr_vSboHHJHBRQrfRTU8-UuZh79XSONqfhWyShrFqV4nesdoqlkCTVLdswLEr_VcliJvIOPZ-uk1TQ6S2e0paE5CDcsRXUQVIomI9xTfmCtezAh2Gh41oebds8DzYmXo9d6Rcmjvlk8kE3BJsiI7vvsJ5x_4IqNe7_vKCNoQsV07eep6q6eMaggkxVjn11FMM8e_V4x6ePpc8uUYcR2socy0QrCmRjLGoNEAx50k7WGk-IP4kZ11vHadpZhj7OMhuRM', 'access_token': 'eyJ0eXAiOiJKV1QiLCJhbGciOiJSUzI1NiJ9.eyJ0b2tlbl90eXBlIjoiYWNjZXNzIiwiZXhwIjoxNjQ5ODA5NDMxLCJqdGkiOiJhYTU2ODUzYTA3YzY0NzNlYWFmZjhlNTU3NWQ5ZGFmNSIsInVzZXJfaWQiOiJhc2RmQGdtYWlsLmNvbSIsIl9kYXRhIjp7InVzZXIiOnsiZmlyc3RfbmFtZSI6IiIsImxhc3RfbmFtZSI6IiIsInVzZXJuYW1lIjoib25lc3BhbmFkbWluIiwiZW1haWwiOiJhc2RmQGdtYWlsLmNvbSIsIm9yZ2FuaXphdGlvbl9wZXJtaXNzaW9ucyI6eyJhZG1pbiI6W3sibmFtZSI6Ik9uZXNwYW4iLCJpc19hY3RpdmUiOnRydWV9XSwiZGF0YV9zY2llbnRpc3QiOlt7Im5hbWUiOiJPbmVzcGFuIiwiaXNfYWN0aXZlIjp0cnVlfV0sImFuYWx5c3QiOlt7Im5hbWUiOiJPbmVzcGFuIiwiaXNfYWN0aXZlIjp0cnVlfV19fX19.LbopjSJfOpDvLiVMii0ZD5dYXdJ3UXvvoaIVkR2VWlh38Ue77_GOBdfRsbu_NbXlDQNkBsLLp_5f6VzkaOCh2Ac_y4TMRVp-hQsYh9ZuaOqsiYfeG_sLHNm6lkmZxCfhUxazi0HTJqzvixN5ooIoXQGz8SWSoGAjiYIikLzSmAvbo1ym7PlpnJOMGGxWRsFyyTBJNpWRxbU2LYlF5IfUINeMKLuDOtaFbWVzN3c8AyTVWcwAgqTqJ5vhihsDbB1OEwlCnC-xe-28E9h_NG2AKuIn_DzP8AlYnUzHzRMZXQNNXmVWV-FLnvI8HDYn5IrI5ivG2raJ7Og6PVpLgap25ohvda822A_hv-0vT5xmYrD-js8tIPEdP5v_wsz-MmzvVC_DucPxj7XwyZ8fxaEBhmBbn7JkwX3rWJa-8A2wdHUDKrPq_CDklNvxNaVDkXqa7HcLXnk-xCpNtP9GD44kS1tSYqidiI1Zz0emeijlNSI2Ul0-phfdETTnbvGR6e_nK-BHUbIKt0QZqboXjmxfB3RN-dUxNxYv1oMj-UpfkIOi5D9-RhoNEZwoiIweQWGLoLJ4zyNqtSoDw1EklhN37d0dyyuKYLmT6fI558Hx_vV_ixfkVaV1lidOHEbOLEPDiNqmGIBD0KC7QJ4bdoxbWOM7BWlF-csk7UmRLlHcBh0'}\n",
      "Classifier: DecisionTreeClassifier has a training score of 80.2% accuracy score on Mode Fill Smote\n",
      "Classifier: DecisionTreeClassifier has a test score of 72.0% accuracy score on Mode Fill Smote\n",
      "Cookies: {'refresh_token': 'eyJ0eXAiOiJKV1QiLCJhbGciOiJSUzI1NiJ9.eyJ0b2tlbl90eXBlIjoicmVmcmVzaCIsImV4cCI6MTY0OTg3MDQxMywianRpIjoiNDI4ZDY5NGVhMzMwNDIyYWJjYzllNTYwZjNhYzliM2UiLCJ1c2VyX2lkIjoiYXNkZkBnbWFpbC5jb20iLCJfZGF0YSI6eyJ1c2VyIjp7ImZpcnN0X25hbWUiOiIiLCJsYXN0X25hbWUiOiIiLCJ1c2VybmFtZSI6Im9uZXNwYW5hZG1pbiIsImVtYWlsIjoiYXNkZkBnbWFpbC5jb20iLCJvcmdhbml6YXRpb25fcGVybWlzc2lvbnMiOnsiYWRtaW4iOlt7Im5hbWUiOiJPbmVzcGFuIiwiaXNfYWN0aXZlIjp0cnVlfV0sImRhdGFfc2NpZW50aXN0IjpbeyJuYW1lIjoiT25lc3BhbiIsImlzX2FjdGl2ZSI6dHJ1ZX1dLCJhbmFseXN0IjpbeyJuYW1lIjoiT25lc3BhbiIsImlzX2FjdGl2ZSI6dHJ1ZX1dfX19fQ.avCT0LA-wISNTm7ccngmoqhXM7XEXzfjlsEafDYJfRS6T5x5iWohKaiqCz0BFLu-su9jwZalyFlU9ns4oznLgUyJSg9iZzh0I0-3o60sorC52UmTsErJj7Mqtf_1JXeSgAMBaFF-6LuGiowRuSN5QYCSfP-w_BcnIke856GlUgXlVBQ0KLnItIzxeT7e02SJqus1om85WvrXOGylkGEHxB9F45Aes0wD45pFAo0sbWSIgIg-JSTClBKQcVnXBx1-LB1lpJRpiMZN73rJ5l2OtybKf5IVPgwUQ3-KSoIz4hSLrmb90DMMTS9Km5qL21WWpcyHMwcTID9T83SZrjdO8joDQ3RxzKgFgKgBCGBEUyGja8TPLcIKV1FDWKPDnIpF8aetdTl3xyHb5Q1nJEASj8YrkGYW9tLc82INP5Azcr_vSboHHJHBRQrfRTU8-UuZh79XSONqfhWyShrFqV4nesdoqlkCTVLdswLEr_VcliJvIOPZ-uk1TQ6S2e0paE5CDcsRXUQVIomI9xTfmCtezAh2Gh41oebds8DzYmXo9d6Rcmjvlk8kE3BJsiI7vvsJ5x_4IqNe7_vKCNoQsV07eep6q6eMaggkxVjn11FMM8e_V4x6ePpc8uUYcR2socy0QrCmRjLGoNEAx50k7WGk-IP4kZ11vHadpZhj7OMhuRM', 'access_token': 'eyJ0eXAiOiJKV1QiLCJhbGciOiJSUzI1NiJ9.eyJ0b2tlbl90eXBlIjoiYWNjZXNzIiwiZXhwIjoxNjQ5ODA5NDM0LCJqdGkiOiIyOTgxNDYyNTc2MTc0Y2ZjODc2ZjdkMWNjZDE0Njc3YyIsInVzZXJfaWQiOiJhc2RmQGdtYWlsLmNvbSIsIl9kYXRhIjp7InVzZXIiOnsiZmlyc3RfbmFtZSI6IiIsImxhc3RfbmFtZSI6IiIsInVzZXJuYW1lIjoib25lc3BhbmFkbWluIiwiZW1haWwiOiJhc2RmQGdtYWlsLmNvbSIsIm9yZ2FuaXphdGlvbl9wZXJtaXNzaW9ucyI6eyJhZG1pbiI6W3sibmFtZSI6Ik9uZXNwYW4iLCJpc19hY3RpdmUiOnRydWV9XSwiZGF0YV9zY2llbnRpc3QiOlt7Im5hbWUiOiJPbmVzcGFuIiwiaXNfYWN0aXZlIjp0cnVlfV0sImFuYWx5c3QiOlt7Im5hbWUiOiJPbmVzcGFuIiwiaXNfYWN0aXZlIjp0cnVlfV19fX19.QxEZDfX4uAWa8SSmcsW6ijjQWgnDLN5cLVVeE6jvs14q1As_wePFIp-GqC0FqKThtiqjKn2qEBkrzRWwbew7BIujNNFD3QB_g37sfOoI0zgZh8gEILpR7bPLRWFCtnVAsTIrkrC6EuTe3Tu5PfJAd-gABMRUEjusxYZM1SZEZwFMcm6Va9Lc03mMLDd2bEcwbRQw1eEIjS16raMIZJTyZ5s3Bvvk51OMC9E6QtLjDv0pR10Hcer8WCkK9Zn-_9uhq5lsBRv19Epd9GiT8TVbFqY_JLVfCpOgNOJHhX5Ec71eeI0Shz87duHiodp0NASdC2BdlDLi80KTbYQTKHdmWFqFwp52oxvJufpiWEZY4E91lpFwadmJXfLfzoPj6CV0_2FooL9ZnCvjL4L2u82ikl-IjcZmshBjkIvJBV9jJEusf7_6JERa-ohevEUg2baa4l-qCep5OwGC0ESoDGf3IH0TGvpBJzA_rBdxD22-89mj_76QklMY6tpeOS752TWOJo93bHu38swQiCqWCZ6l8b4cTWPTFxKINepuC21tWtGDnyFTta8bJWHVKWiqQnK6fIzfmHsv9yKpms-UFN_03enper1djhOyAPmxchnXRrj1_P9PNsf4Pvf731lsmPU-3YFqSK5ZMGbPZFZItGYFPUCERhKoyeFJ2IR0jrebLjg'}\n",
      "Classifier: GradientBoostingClassifier has a training score of 87.4% accuracy score on Mode Fill Smote\n",
      "Classifier: GradientBoostingClassifier has a test score of 82.0% accuracy score on Mode Fill Smote\n"
     ]
    }
   ],
   "source": [
    "from sklearn.tree import DecisionTreeClassifier\n",
    "from sklearn.ensemble import RandomForestClassifier\n",
    "from sklearn.ensemble import GradientBoostingClassifier\n",
    "from sklearn.model_selection import cross_val_score\n",
    "from sklearn.metrics import accuracy_score\n",
    "\n",
    "classifiers = {\n",
    "    \"RandomForestClassifier\": RandomForestClassifier(),\n",
    "    \"DecisionTreeClassifier\": DecisionTreeClassifier(),\n",
    "    \"GradientBoostingClassifier\": GradientBoostingClassifier()\n",
    "}\n",
    "\n",
    "datasets = [\n",
    "    (\"Const Fill\", (X_train_const, X_test_const, y_train_const, y_test_const)),\n",
    "    (\"Mode Fill\", (X_train_mode, X_test_mode, y_train_mode, y_test_mode)),\n",
    "    (\"Const Fill Smote\", (X_train_const_smote, X_test_const, y_train_const_smote, y_test_const)),\n",
    "    (\"Mode Fill Smote\", (X_train_mode_smote, X_test_mode, y_train_mode_smote, y_test_mode))\n",
    "    ]\n",
    "\n",
    "for name, (X_train, X_test, y_train, y_test) in datasets:\n",
    "\n",
    "    for key, classifier in classifiers.items():\n",
    "        # cross validate to get an idea of generalisation.\n",
    "        training_score = cross_val_score(classifier, X_train, y_train, cv=5)\n",
    "\n",
    "        # train on the full training set\n",
    "        classifier.fit(X_train, y_train)\n",
    "\n",
    "        # ⬆️ upload the fully trained model\n",
    "        seclea.upload_training_run_split(model=classifier, X_train=X_train, y_train=y_train, X_test=X_test, y_test=y_test)\n",
    "\n",
    "        # test accuracy\n",
    "        y_preds = classifier.predict(X_test)\n",
    "        test_score = accuracy_score(y_test, y_preds)\n",
    "        print(f\"Classifier: {classifier.__class__.__name__} has a training score of {round(training_score.mean(), 3) * 100}% accuracy score on {name}\")\n",
    "        print(f\"Classifier: {classifier.__class__.__name__} has a test score of {round(test_score, 3) * 100}% accuracy score on {name}\")"
   ],
   "metadata": {
    "collapsed": false,
    "pycharm": {
     "name": "#%%\n"
    }
   }
  },
  {
   "cell_type": "markdown",
   "source": [
    "## 🔍 Analysis\n",
    "\n",
    "Head back to [platform.seclea.com](https://platform.seclea.com) and we can analyse our Models\n",
    "\n"
   ],
   "metadata": {
    "collapsed": false,
    "pycharm": {
     "name": "#%% md\n"
    }
   }
  }
 ]
}